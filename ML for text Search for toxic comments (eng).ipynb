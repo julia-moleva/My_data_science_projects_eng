{
 "cells": [
  {
   "cell_type": "markdown",
   "metadata": {},
   "source": [
    "# Project for \"Wikishop\""
   ]
  },
  {
   "cell_type": "markdown",
   "metadata": {},
   "source": [
    "The online store \"Wikishop\" is launching a new service. Now users can edit and supplement product descriptions, just like in wiki communities. That is, customers offer their edits and comment on others' changes. The store needs a tool that will search for toxic comments and send them for moderation. \n",
    "\n",
    "We need to train the model to classify comments into positive and negative. We have a data set with markup about the toxicity of edits.\n",
    "\n",
    "Let's build a model with the value of quality metric *F1* at least 0.75."
   ]
  },
  {
   "cell_type": "markdown",
   "metadata": {
    "toc": true
   },
   "source": [
    "<h1>Contents<span class=\"tocSkip\"></span></h1>\n",
    "<div class=\"toc\"><ul class=\"toc-item\"><li><span><a href=\"#Data-preprocessing\" data-toc-modified-id=\"Data-preprocessing-1\"><span class=\"toc-item-num\">1&nbsp;&nbsp;</span>Data preprocessing</a></span></li><li><span><a href=\"#Model-training\" data-toc-modified-id=\"Model-training-2\"><span class=\"toc-item-num\">2&nbsp;&nbsp;</span>Model training</a></span></li><li><span><a href=\"#General-conclusion\" data-toc-modified-id=\"General-conclusion-3\"><span class=\"toc-item-num\">3&nbsp;&nbsp;</span>General conclusion</a>"
   ]
  },
  {
   "cell_type": "markdown",
   "metadata": {},
   "source": [
    "## Data preprocessing"
   ]
  },
  {
   "cell_type": "markdown",
   "metadata": {},
   "source": [
    "Import the necessary libraries for further work:"
   ]
  },
  {
   "cell_type": "code",
   "execution_count": 1,
   "metadata": {},
   "outputs": [
    {
     "name": "stderr",
     "output_type": "stream",
     "text": [
      "[nltk_data] Downloading package wordnet to\n",
      "[nltk_data]     C:\\Users\\Julia\\AppData\\Roaming\\nltk_data...\n",
      "[nltk_data]   Package wordnet is already up-to-date!\n",
      "[nltk_data] Downloading package punkt to\n",
      "[nltk_data]     C:\\Users\\Julia\\AppData\\Roaming\\nltk_data...\n",
      "[nltk_data]   Package punkt is already up-to-date!\n",
      "[nltk_data] Downloading package stopwords to\n",
      "[nltk_data]     C:\\Users\\Julia\\AppData\\Roaming\\nltk_data...\n",
      "[nltk_data]   Package stopwords is already up-to-date!\n",
      "[nltk_data] Downloading package averaged_perceptron_tagger to\n",
      "[nltk_data]     C:\\Users\\Julia\\AppData\\Roaming\\nltk_data...\n",
      "[nltk_data]   Package averaged_perceptron_tagger is already up-to-\n",
      "[nltk_data]       date!\n",
      "[nltk_data] Downloading package omw-1.4 to\n",
      "[nltk_data]     C:\\Users\\Julia\\AppData\\Roaming\\nltk_data...\n",
      "[nltk_data]   Package omw-1.4 is already up-to-date!\n"
     ]
    }
   ],
   "source": [
    "import pandas as pd\n",
    "import re\n",
    "import seaborn as sns\n",
    "import matplotlib.pyplot as plt\n",
    "import nltk\n",
    "from nltk.tokenize import TweetTokenizer\n",
    "from nltk.stem import WordNetLemmatizer\n",
    "from sklearn.pipeline import Pipeline\n",
    "nltk.download('wordnet')\n",
    "nltk.download('punkt')\n",
    "nltk.download('stopwords')\n",
    "nltk.download('averaged_perceptron_tagger')\n",
    "nltk.download('omw-1.4')\n",
    "from nltk.corpus import stopwords\n",
    "from sklearn.feature_extraction.text import TfidfVectorizer\n",
    "from sklearn.metrics import confusion_matrix, f1_score\n",
    "from sklearn.model_selection import train_test_split, GridSearchCV\n",
    "from sklearn.linear_model import SGDClassifier, LogisticRegression"
   ]
  },
  {
   "cell_type": "code",
   "execution_count": 2,
   "metadata": {},
   "outputs": [],
   "source": [
    "try:\n",
    "    data = pd.read_csv(r'C:\\Users\\Julia\\Desktop\\DATA_SCIENCE\\Datasets\\toxic_comments.csv', index_col=[0])\n",
    "except:\n",
    "    data = pd.read_csv('/datasets/toxic_comments.csv', index_col=[0])"
   ]
  },
  {
   "cell_type": "markdown",
   "metadata": {},
   "source": [
    "Let's check the data for duplicates, missing values, display general dataframe information and look at the first 5 lines using the `head()` method."
   ]
  },
  {
   "cell_type": "code",
   "execution_count": 3,
   "metadata": {},
   "outputs": [
    {
     "name": "stdout",
     "output_type": "stream",
     "text": [
      "Duplicates: 0\n",
      "\n",
      "Missing values:\n",
      " text     0\n",
      "toxic    0\n",
      "dtype: int64\n",
      "\n",
      "Table size: (159292, 2)\n",
      "\n",
      "<class 'pandas.core.frame.DataFrame'>\n",
      "Int64Index: 159292 entries, 0 to 159450\n",
      "Data columns (total 2 columns):\n",
      " #   Column  Non-Null Count   Dtype \n",
      "---  ------  --------------   ----- \n",
      " 0   text    159292 non-null  object\n",
      " 1   toxic   159292 non-null  int64 \n",
      "dtypes: int64(1), object(1)\n",
      "memory usage: 3.6+ MB\n"
     ]
    },
    {
     "data": {
      "text/html": [
       "<div>\n",
       "<style scoped>\n",
       "    .dataframe tbody tr th:only-of-type {\n",
       "        vertical-align: middle;\n",
       "    }\n",
       "\n",
       "    .dataframe tbody tr th {\n",
       "        vertical-align: top;\n",
       "    }\n",
       "\n",
       "    .dataframe thead th {\n",
       "        text-align: right;\n",
       "    }\n",
       "</style>\n",
       "<table border=\"1\" class=\"dataframe\">\n",
       "  <thead>\n",
       "    <tr style=\"text-align: right;\">\n",
       "      <th></th>\n",
       "      <th>text</th>\n",
       "      <th>toxic</th>\n",
       "    </tr>\n",
       "  </thead>\n",
       "  <tbody>\n",
       "    <tr>\n",
       "      <th>0</th>\n",
       "      <td>Explanation\\nWhy the edits made under my usern...</td>\n",
       "      <td>0</td>\n",
       "    </tr>\n",
       "    <tr>\n",
       "      <th>1</th>\n",
       "      <td>D'aww! He matches this background colour I'm s...</td>\n",
       "      <td>0</td>\n",
       "    </tr>\n",
       "    <tr>\n",
       "      <th>2</th>\n",
       "      <td>Hey man, I'm really not trying to edit war. It...</td>\n",
       "      <td>0</td>\n",
       "    </tr>\n",
       "    <tr>\n",
       "      <th>3</th>\n",
       "      <td>\"\\nMore\\nI can't make any real suggestions on ...</td>\n",
       "      <td>0</td>\n",
       "    </tr>\n",
       "    <tr>\n",
       "      <th>4</th>\n",
       "      <td>You, sir, are my hero. Any chance you remember...</td>\n",
       "      <td>0</td>\n",
       "    </tr>\n",
       "  </tbody>\n",
       "</table>\n",
       "</div>"
      ],
      "text/plain": [
       "                                                text  toxic\n",
       "0  Explanation\\nWhy the edits made under my usern...      0\n",
       "1  D'aww! He matches this background colour I'm s...      0\n",
       "2  Hey man, I'm really not trying to edit war. It...      0\n",
       "3  \"\\nMore\\nI can't make any real suggestions on ...      0\n",
       "4  You, sir, are my hero. Any chance you remember...      0"
      ]
     },
     "execution_count": 3,
     "metadata": {},
     "output_type": "execute_result"
    }
   ],
   "source": [
    "def show (data):\n",
    "    print('Duplicates:', data.duplicated().sum())\n",
    "    print()\n",
    "    print('Missing values:\\n', data.isna().sum())\n",
    "    print()\n",
    "    print('Table size:', data.shape)\n",
    "    print()\n",
    "    data.info()\n",
    "    return data.head()\n",
    "show(data)"
   ]
  },
  {
   "cell_type": "markdown",
   "metadata": {},
   "source": [
    "Special characters were found in the comments. Let's clear them using regular expressions and lemmatize them:"
   ]
  },
  {
   "cell_type": "code",
   "execution_count": 4,
   "metadata": {},
   "outputs": [],
   "source": [
    "def clean_text(text):\n",
    "    text = re.sub(r\"[^a-zA-Z ]+\", \" \", text)\n",
    "    return text.strip().lower()"
   ]
  },
  {
   "cell_type": "code",
   "execution_count": 5,
   "metadata": {},
   "outputs": [
    {
     "data": {
      "text/html": [
       "<div>\n",
       "<style scoped>\n",
       "    .dataframe tbody tr th:only-of-type {\n",
       "        vertical-align: middle;\n",
       "    }\n",
       "\n",
       "    .dataframe tbody tr th {\n",
       "        vertical-align: top;\n",
       "    }\n",
       "\n",
       "    .dataframe thead th {\n",
       "        text-align: right;\n",
       "    }\n",
       "</style>\n",
       "<table border=\"1\" class=\"dataframe\">\n",
       "  <thead>\n",
       "    <tr style=\"text-align: right;\">\n",
       "      <th></th>\n",
       "      <th>text</th>\n",
       "      <th>toxic</th>\n",
       "    </tr>\n",
       "  </thead>\n",
       "  <tbody>\n",
       "    <tr>\n",
       "      <th>0</th>\n",
       "      <td>explanation why the edits make under my userna...</td>\n",
       "      <td>0</td>\n",
       "    </tr>\n",
       "    <tr>\n",
       "      <th>1</th>\n",
       "      <td>d aww he match this background colour i m seem...</td>\n",
       "      <td>0</td>\n",
       "    </tr>\n",
       "    <tr>\n",
       "      <th>2</th>\n",
       "      <td>hey man i m really not try to edit war it s ju...</td>\n",
       "      <td>0</td>\n",
       "    </tr>\n",
       "    <tr>\n",
       "      <th>3</th>\n",
       "      <td>more i can t make any real suggestion on impro...</td>\n",
       "      <td>0</td>\n",
       "    </tr>\n",
       "    <tr>\n",
       "      <th>4</th>\n",
       "      <td>you sir be my hero any chance you remember wha...</td>\n",
       "      <td>0</td>\n",
       "    </tr>\n",
       "  </tbody>\n",
       "</table>\n",
       "</div>"
      ],
      "text/plain": [
       "                                                text  toxic\n",
       "0  explanation why the edits make under my userna...      0\n",
       "1  d aww he match this background colour i m seem...      0\n",
       "2  hey man i m really not try to edit war it s ju...      0\n",
       "3  more i can t make any real suggestion on impro...      0\n",
       "4  you sir be my hero any chance you remember wha...      0"
      ]
     },
     "execution_count": 5,
     "metadata": {},
     "output_type": "execute_result"
    }
   ],
   "source": [
    "wnl = WordNetLemmatizer()\n",
    "tknzr = TweetTokenizer()\n",
    "def lemmatize(text, m=wnl):\n",
    "    word_list = tknzr.tokenize(text)\n",
    "    lemma_list = []\n",
    "    for word, tag in nltk.pos_tag(word_list):\n",
    "        if tag.startswith('NN'):\n",
    "            lemma = m.lemmatize(word, pos='n')\n",
    "        elif tag.startswith('VB'):\n",
    "            lemma = m.lemmatize(word, pos='v')\n",
    "        elif tag.startswith('JJ'):\n",
    "            lemma = m.lemmatize(word, pos='a')\n",
    "        elif tag.startswith('R'):\n",
    "            lemma = m.lemmatize(word, pos='r')\n",
    "        else:\n",
    "            lemma = m.lemmatize(word)\n",
    "        lemma_list.append(lemma)\n",
    "    return ' '.join(lemma_list)\n",
    "\n",
    "data['text'] = data['text'].apply(clean_text)\n",
    "data['text'] = data['text'].apply(lemmatize)\n",
    "data.head()"
   ]
  },
  {
   "cell_type": "markdown",
   "metadata": {},
   "source": [
    "Let's look at the distribution of the target `toxic`:"
   ]
  },
  {
   "cell_type": "code",
   "execution_count": 6,
   "metadata": {},
   "outputs": [
    {
     "data": {
      "image/png": "[encoded data removed]",
      "text/plain": [
       "<Figure size 650x500 with 1 Axes>"
      ]
     },
     "metadata": {},
     "output_type": "display_data"
    }
   ],
   "source": [
    "data['toxic'].value_counts().plot(kind='pie', autopct='%1.1f%%', figsize=(6.5,5), colors=['#87CEFA', '#FFFACD'],\n",
    "                                 wedgeprops={'edgecolor': 'blue', 'linewidth': 0.5})\n",
    "plt.legend(['Positive','Toxic'])\n",
    "plt.title('Distribution of comments in the sample')\n",
    "plt.axis('off');"
   ]
  },
  {
   "cell_type": "markdown",
   "metadata": {},
   "source": [
    "There is an imbalance in the sample. There are more positive comments (90%) than negative ones (10%)."
   ]
  },
  {
   "cell_type": "markdown",
   "metadata": {},
   "source": [
    "**Conclusion:**\n",
    "- we imported the required libraries for further work and loaded the data\n",
    "- we checked the data for duplicates and missing values, printed general information about the dataframe, no duplicates or missing values were found\n",
    "- special symbols were found in the comments, cleaned them up using regular expressions and lemmatized\n",
    "- looked at the distribution of the target `toxic` and found that there is an imbalance in the sample: there are more positive comments (90%) than negative (10%)"
   ]
  },
  {
   "cell_type": "markdown",
   "metadata": {},
   "source": [
    "## Model training"
   ]
  },
  {
   "cell_type": "markdown",
   "metadata": {},
   "source": [
    "Let's divide the sample into training and test samples in the ratio of 90/10 , keep the proportions of the target variable in the training and test samples when dividing the data using the `stratify` parameter:"
   ]
  },
  {
   "cell_type": "code",
   "execution_count": 7,
   "metadata": {},
   "outputs": [
    {
     "name": "stdout",
     "output_type": "stream",
     "text": [
      "Training sample size: 90%\n",
      "Test sample size: 10%\n"
     ]
    }
   ],
   "source": [
    "features = data['text']\n",
    "target = data['toxic']\n",
    "features_train, features_test, target_train, target_test = train_test_split(features, target, test_size=0.1,\n",
    "                                                                            random_state=123, stratify=data.toxic)\n",
    "print(f'Training sample size: {len (features_train) / len(data):.0%}')\n",
    "print(f'Test sample size: {len (features_test) / len(data):.0%}')"
   ]
  },
  {
   "cell_type": "markdown",
   "metadata": {},
   "source": [
    "Set `stop_words` set to remove from the text, also set ngram_range to create n-grams of the text. Convert the text data to a matrix using the TF-IDF weighting scheme:"
   ]
  },
  {
   "cell_type": "code",
   "execution_count": 8,
   "metadata": {},
   "outputs": [],
   "source": [
    "stop_words = set(stopwords.words('english'))\n",
    "tfv = TfidfVectorizer(stop_words=stop_words, ngram_range=(1,1))"
   ]
  },
  {
   "cell_type": "markdown",
   "metadata": {},
   "source": [
    "Let's get down to model training:"
   ]
  },
  {
   "cell_type": "code",
   "execution_count": 9,
   "metadata": {},
   "outputs": [
    {
     "name": "stdout",
     "output_type": "stream",
     "text": [
      "Fitting 5 folds for each of 1 candidates, totalling 5 fits\n",
      "The best Logistic Regression parameters on cross-validation sampling: {'lr__C': 10, 'lr__class_weight': 'balanced', 'lr__max_iter': 500}\n",
      "F1: 0.75564\n"
     ]
    }
   ],
   "source": [
    "tfv_lr_pipeline = Pipeline([('tfv', tfv),\n",
    "                            ('lr', LogisticRegression(random_state=123))])\n",
    "params_tfv_lr = {'lr__class_weight': ['balanced'],\n",
    "                 'lr__C': [10],\n",
    "                 'lr__max_iter': [500]}\n",
    "\n",
    "grid_tfv_lr = GridSearchCV(tfv_lr_pipeline, param_grid=params_tfv_lr, scoring='f1', verbose=3, cv=5, n_jobs=-1)\n",
    "grid_tfv_lr.fit(features_train, target_train)\n",
    "print('The best Logistic Regression parameters on cross-validation sampling:', grid_tfv_lr.best_params_)\n",
    "print('F1:', round(grid_tfv_lr.best_score_, 5))"
   ]
  },
  {
   "cell_type": "code",
   "execution_count": 10,
   "metadata": {},
   "outputs": [
    {
     "name": "stdout",
     "output_type": "stream",
     "text": [
      "Fitting 5 folds for each of 16 candidates, totalling 80 fits\n",
      "The best SGD Classifier parameters on cross-validation sampling: {'sgd__class_weight': 'balanced', 'sgd__loss': 'log', 'sgd__max_iter': 500, 'sgd__n_iter_no_change': 20, 'sgd__penalty': 'l1', 'sgd__shuffle': True}\n",
      "F1: 0.71491\n"
     ]
    }
   ],
   "source": [
    "tfv_sgd_pipeline = Pipeline([('tfv', tfv),\n",
    "                             ('sgd', SGDClassifier(random_state=123))])\n",
    "\n",
    "params_tfv_sgd = {'sgd__class_weight': ['balanced', None],\n",
    "                  'sgd__max_iter': [500, 1000],\n",
    "                  'sgd__loss': ['log', 'squared_hinge'],\n",
    "                  'sgd__penalty': ['l1'],\n",
    "                  'sgd__shuffle': [True],\n",
    "                  'sgd__n_iter_no_change': [10, 20]}\n",
    "\n",
    "grid_tfv_sgd = GridSearchCV(tfv_sgd_pipeline, param_grid=params_tfv_sgd, scoring='f1', verbose=3, cv=5, n_jobs=-1)\n",
    "grid_tfv_sgd.fit(features_train, target_train)\n",
    "print('The best SGD Classifier parameters on cross-validation sampling:', grid_tfv_sgd.best_params_)\n",
    "print('F1:', round(grid_tfv_sgd.best_score_, 5))"
   ]
  },
  {
   "cell_type": "markdown",
   "metadata": {},
   "source": [
    "The best result of the f1 metric on the cross-validation sample was shown by the logistic regression model, let's check its quality on the test sample:"
   ]
  },
  {
   "cell_type": "code",
   "execution_count": 11,
   "metadata": {
    "scrolled": true
   },
   "outputs": [
    {
     "name": "stdout",
     "output_type": "stream",
     "text": [
      "F1 for Logisctic Regression on the test sample: 0.76628\n"
     ]
    }
   ],
   "source": [
    "prediction = grid_tfv_lr.predict(features_test)\n",
    "print('F1 for Logisctic Regression on the test sample:', round(f1_score(target_test, prediction), 5))"
   ]
  },
  {
   "cell_type": "markdown",
   "metadata": {},
   "source": [
    "Let's analyze the results of model classification using the confusion matrix:"
   ]
  },
  {
   "cell_type": "code",
   "execution_count": 12,
   "metadata": {},
   "outputs": [
    {
     "data": {
      "image/png": "[encoded data removed]",
      "text/plain": [
       "<Figure size 500x350 with 2 Axes>"
      ]
     },
     "metadata": {},
     "output_type": "display_data"
    }
   ],
   "source": [
    "plt.figure(figsize=(5,3.5))\n",
    "ax = plt.subplot()\n",
    "sns.heatmap(confusion_matrix(target_test, prediction, normalize='true'), annot=True, fmt='.0%', cmap=\"tab20\")\n",
    "ax.set_xlabel('Predicted')\n",
    "ax.set_ylabel('Actual')\n",
    "ax.set_title('Confusion Matrix');"
   ]
  },
  {
   "cell_type": "markdown",
   "metadata": {},
   "source": [
    "False Positive and False Negative differ, but the differences are not critical, the percentage of correctly predicted values is quite high"
   ]
  },
  {
   "cell_type": "markdown",
   "metadata": {},
   "source": [
    "**Conclusion:**\n",
    "- Divided the sample into training and test samples in the ratio of 80/20 , kept the proportions of the target variable in the training and test samples when dividing the data using the `stratify` parameter\n",
    "- converted the data type of column text to Unicode (U) type\n",
    "- set stop_words to delete from text, also set ngram_range to create n-grams of text\n",
    "- converted the text data into vectors using the TF-IDF weighting scheme. ngram_range=(1,2) allowed using vectorization considering both separate words and two words (bigrams) in the text, which helped to take into account the context and semantic relationships between words\n",
    "- we have trained Logistic Regression and SGDClassifier models, the best result of f1 metric on the cross-validation sample was shown by Logistic Regression model, we checked its quality on the test sample, the result of F1 for Logisctic Regression on the test sample is 0.76628\n",
    "- we analyzed the model classification results using the error matrix and found out that False Positive and False Negative differ, but the differences are not critical, the percentage of correctly predicted values is quite high"
   ]
  },
  {
   "cell_type": "markdown",
   "metadata": {},
   "source": [
    "## General conclusion"
   ]
  },
  {
   "cell_type": "markdown",
   "metadata": {},
   "source": [
    "- we downloaded, analyzed, and prepared the data\n",
    "- divided the sample into training and test ones, set stop_words to remove from the text, also set ngram_range to create n-grams of text, converted text data into vectors using TF-IDF weighting scheme\n",
    "- we have trained Logistic Regression and SGDClassifier models for classification, the best result of f1 metric on the cross-validation sample was shown by Logistic Regression model, we checked its quality on the test sample, the result of F1 for Logistic Regression on the test sample is 0.76628\n",
    "- we analyzed the results of model classification using the error matrix.\n",
    "- The result f1 for the Logisctic Regression on the test sample is 0.76628, which satisfies the condition of the problem"
   ]
  }
 ],
 "metadata": {
  "ExecuteTimeLog": [
   {
    "duration": 1951,
    "start_time": "2023-04-14T11:40:54.272Z"
   },
   {
    "duration": 2401,
    "start_time": "2023-04-14T11:42:18.364Z"
   },
   {
    "duration": 13,
    "start_time": "2023-04-14T11:42:32.974Z"
   }
  ],
  "kernelspec": {
   "display_name": "Python 3 (ipykernel)",
   "language": "python",
   "name": "python3"
  },
  "language_info": {
   "codemirror_mode": {
    "name": "ipython",
    "version": 3
   },
   "file_extension": ".py",
   "mimetype": "text/x-python",
   "name": "python",
   "nbconvert_exporter": "python",
   "pygments_lexer": "ipython3",
   "version": "3.9.13"
  },
  "toc": {
   "base_numbering": 1,
   "nav_menu": {},
   "number_sections": true,
   "sideBar": true,
   "skip_h1_title": true,
   "title_cell": "Содержание",
   "title_sidebar": "Contents",
   "toc_cell": true,
   "toc_position": {
    "height": "calc(100% - 180px)",
    "left": "10px",
    "top": "150px",
    "width": "302.391px"
   },
   "toc_section_display": true,
   "toc_window_display": false
  }
 },
 "nbformat": 4,
 "nbformat_minor": 2
}
