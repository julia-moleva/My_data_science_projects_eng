{
 "cells": [
  {
   "cell_type": "markdown",
   "id": "e89defd3",
   "metadata": {},
   "source": [
    "# Choosing a location for a well"
   ]
  },
  {
   "cell_type": "markdown",
   "id": "e1788c89",
   "metadata": {},
   "source": [
    "The 'Oil 3000' production company has to decide where to drill a new well.\n",
    "\n",
    "We are given oil samples from three regions: each has 10,000 oil fields, where we have measured the quality of the oil and the volume of its reserves. We will build a machine learning model that will help us determine the region where production will bring the most profit. Let's analyze the possible profits and risks using *Bootstrap.*\n",
    "\n",
    "Steps for selecting a location:\n",
    "\n",
    "- In the selected region look for fields, for each determine the values of the features;\n",
    "- Build a model and estimate the volume of reserves;\n",
    "- Select fields with the highest value estimates. The number of fields depends on the company's budget and the cost of developing one well;\n",
    "- Profit is equal to the total profit of the selected fields."
   ]
  },
  {
   "cell_type": "markdown",
   "id": "665be48b",
   "metadata": {},
   "source": [
    "## 1. Preprocessing"
   ]
  },
  {
   "cell_type": "markdown",
   "id": "634dcb69",
   "metadata": {},
   "source": [
    "Import pandas, numpy, sklearn libraries for further work and write the constants:"
   ]
  },
  {
   "cell_type": "code",
   "execution_count": 1,
   "id": "28141c2a",
   "metadata": {},
   "outputs": [],
   "source": [
    "import pandas as pd\n",
    "import numpy as np\n",
    "from numpy.random import RandomState\n",
    "from sklearn.preprocessing import StandardScaler\n",
    "from sklearn.model_selection import train_test_split\n",
    "from sklearn.linear_model import LinearRegression\n",
    "from sklearn.metrics import mean_squared_error\n",
    "\n",
    "BUDGET = 10_000_000_000\n",
    "ALL_OIL_WELLS = 500\n",
    "BEST_OIL_WELLS = 200\n",
    "INCOME_UNIT_PRODUCT = 450_000\n",
    "ALPHA = 0.025\n",
    "BOOTSTRAP_SAMPLES = 1_000"
   ]
  },
  {
   "cell_type": "markdown",
   "id": "ef45a077",
   "metadata": {},
   "source": [
    "Let's put the exploration data of the three regions into dataframes:"
   ]
  },
  {
   "cell_type": "code",
   "execution_count": 2,
   "id": "c731092b",
   "metadata": {},
   "outputs": [],
   "source": [
    "try:\n",
    "    data_geo_0 = pd.read_csv(r'C:\\Users\\Julia\\Desktop\\DATA_SCIENCE\\Datasets\\geo_data_0.csv')\n",
    "    data_geo_1 = pd.read_csv(r'C:\\Users\\Julia\\Desktop\\DATA_SCIENCE\\Datasets\\geo_data_1.csv')\n",
    "    data_geo_2 = pd.read_csv(r'C:\\Users\\Julia\\Desktop\\DATA_SCIENCE\\Datasets\\geo_data_2.csv')\n",
    "except:\n",
    "    data_geo_0 = pd.read_csv('/datasets/geo_data_0.csv')\n",
    "    data_geo_1 = pd.read_csv('/datasets/geo_data_1.csv')        \n",
    "    data_geo_2 = pd.read_csv('/datasets/geo_data_2.csv')    "
   ]
  },
  {
   "cell_type": "markdown",
   "id": "0ff59122",
   "metadata": {},
   "source": [
    "Let's unload the information and the first 5 dataframe lines with data for region 0, also check the data for duplicates and missing values:"
   ]
  },
  {
   "cell_type": "code",
   "execution_count": 3,
   "id": "c8862fa7",
   "metadata": {},
   "outputs": [
    {
     "name": "stdout",
     "output_type": "stream",
     "text": [
      "Duplicates: 0 \n",
      "\n",
      "Missing values: id         0\n",
      "f0         0\n",
      "f1         0\n",
      "f2         0\n",
      "product    0\n",
      "dtype: int64 \n",
      "\n",
      "<class 'pandas.core.frame.DataFrame'>\n",
      "RangeIndex: 100000 entries, 0 to 99999\n",
      "Data columns (total 5 columns):\n",
      " #   Column   Non-Null Count   Dtype  \n",
      "---  ------   --------------   -----  \n",
      " 0   id       100000 non-null  object \n",
      " 1   f0       100000 non-null  float64\n",
      " 2   f1       100000 non-null  float64\n",
      " 3   f2       100000 non-null  float64\n",
      " 4   product  100000 non-null  float64\n",
      "dtypes: float64(4), object(1)\n",
      "memory usage: 3.8+ MB\n"
     ]
    },
    {
     "data": {
      "text/html": [
       "<div>\n",
       "<style scoped>\n",
       "    .dataframe tbody tr th:only-of-type {\n",
       "        vertical-align: middle;\n",
       "    }\n",
       "\n",
       "    .dataframe tbody tr th {\n",
       "        vertical-align: top;\n",
       "    }\n",
       "\n",
       "    .dataframe thead th {\n",
       "        text-align: right;\n",
       "    }\n",
       "</style>\n",
       "<table border=\"1\" class=\"dataframe\">\n",
       "  <thead>\n",
       "    <tr style=\"text-align: right;\">\n",
       "      <th></th>\n",
       "      <th>id</th>\n",
       "      <th>f0</th>\n",
       "      <th>f1</th>\n",
       "      <th>f2</th>\n",
       "      <th>product</th>\n",
       "    </tr>\n",
       "  </thead>\n",
       "  <tbody>\n",
       "    <tr>\n",
       "      <th>0</th>\n",
       "      <td>txEyH</td>\n",
       "      <td>0.705745</td>\n",
       "      <td>-0.497823</td>\n",
       "      <td>1.221170</td>\n",
       "      <td>105.280062</td>\n",
       "    </tr>\n",
       "    <tr>\n",
       "      <th>1</th>\n",
       "      <td>2acmU</td>\n",
       "      <td>1.334711</td>\n",
       "      <td>-0.340164</td>\n",
       "      <td>4.365080</td>\n",
       "      <td>73.037750</td>\n",
       "    </tr>\n",
       "    <tr>\n",
       "      <th>2</th>\n",
       "      <td>409Wp</td>\n",
       "      <td>1.022732</td>\n",
       "      <td>0.151990</td>\n",
       "      <td>1.419926</td>\n",
       "      <td>85.265647</td>\n",
       "    </tr>\n",
       "    <tr>\n",
       "      <th>3</th>\n",
       "      <td>iJLyR</td>\n",
       "      <td>-0.032172</td>\n",
       "      <td>0.139033</td>\n",
       "      <td>2.978566</td>\n",
       "      <td>168.620776</td>\n",
       "    </tr>\n",
       "    <tr>\n",
       "      <th>4</th>\n",
       "      <td>Xdl7t</td>\n",
       "      <td>1.988431</td>\n",
       "      <td>0.155413</td>\n",
       "      <td>4.751769</td>\n",
       "      <td>154.036647</td>\n",
       "    </tr>\n",
       "  </tbody>\n",
       "</table>\n",
       "</div>"
      ],
      "text/plain": [
       "      id        f0        f1        f2     product\n",
       "0  txEyH  0.705745 -0.497823  1.221170  105.280062\n",
       "1  2acmU  1.334711 -0.340164  4.365080   73.037750\n",
       "2  409Wp  1.022732  0.151990  1.419926   85.265647\n",
       "3  iJLyR -0.032172  0.139033  2.978566  168.620776\n",
       "4  Xdl7t  1.988431  0.155413  4.751769  154.036647"
      ]
     },
     "execution_count": 3,
     "metadata": {},
     "output_type": "execute_result"
    }
   ],
   "source": [
    "print('Duplicates:', data_geo_0.duplicated().sum(), '\\n')\n",
    "print('Missing values:', data_geo_0.isna().sum(), '\\n')\n",
    "data_geo_0.info()\n",
    "data_geo_0.head()"
   ]
  },
  {
   "cell_type": "markdown",
   "id": "879a02e4",
   "metadata": {},
   "source": [
    "There are no duplicates and missing values in region 0, data types match the description.\n",
    "\n",
    "Let's unload the information and the last 5 dataframe lines with data on region 1, also check the data for duplicates and missing values"
   ]
  },
  {
   "cell_type": "code",
   "execution_count": 4,
   "id": "41a84f1a",
   "metadata": {},
   "outputs": [
    {
     "name": "stdout",
     "output_type": "stream",
     "text": [
      "Duplicates: 0 \n",
      "\n",
      "Missing values: id         0\n",
      "f0         0\n",
      "f1         0\n",
      "f2         0\n",
      "product    0\n",
      "dtype: int64 \n",
      "\n",
      "<class 'pandas.core.frame.DataFrame'>\n",
      "RangeIndex: 100000 entries, 0 to 99999\n",
      "Data columns (total 5 columns):\n",
      " #   Column   Non-Null Count   Dtype  \n",
      "---  ------   --------------   -----  \n",
      " 0   id       100000 non-null  object \n",
      " 1   f0       100000 non-null  float64\n",
      " 2   f1       100000 non-null  float64\n",
      " 3   f2       100000 non-null  float64\n",
      " 4   product  100000 non-null  float64\n",
      "dtypes: float64(4), object(1)\n",
      "memory usage: 3.8+ MB\n"
     ]
    },
    {
     "data": {
      "text/html": [
       "<div>\n",
       "<style scoped>\n",
       "    .dataframe tbody tr th:only-of-type {\n",
       "        vertical-align: middle;\n",
       "    }\n",
       "\n",
       "    .dataframe tbody tr th {\n",
       "        vertical-align: top;\n",
       "    }\n",
       "\n",
       "    .dataframe thead th {\n",
       "        text-align: right;\n",
       "    }\n",
       "</style>\n",
       "<table border=\"1\" class=\"dataframe\">\n",
       "  <thead>\n",
       "    <tr style=\"text-align: right;\">\n",
       "      <th></th>\n",
       "      <th>id</th>\n",
       "      <th>f0</th>\n",
       "      <th>f1</th>\n",
       "      <th>f2</th>\n",
       "      <th>product</th>\n",
       "    </tr>\n",
       "  </thead>\n",
       "  <tbody>\n",
       "    <tr>\n",
       "      <th>99995</th>\n",
       "      <td>QywKC</td>\n",
       "      <td>9.535637</td>\n",
       "      <td>-6.878139</td>\n",
       "      <td>1.998296</td>\n",
       "      <td>53.906522</td>\n",
       "    </tr>\n",
       "    <tr>\n",
       "      <th>99996</th>\n",
       "      <td>ptvty</td>\n",
       "      <td>-10.160631</td>\n",
       "      <td>-12.558096</td>\n",
       "      <td>5.005581</td>\n",
       "      <td>137.945408</td>\n",
       "    </tr>\n",
       "    <tr>\n",
       "      <th>99997</th>\n",
       "      <td>09gWa</td>\n",
       "      <td>-7.378891</td>\n",
       "      <td>-3.084104</td>\n",
       "      <td>4.998651</td>\n",
       "      <td>137.945408</td>\n",
       "    </tr>\n",
       "    <tr>\n",
       "      <th>99998</th>\n",
       "      <td>rqwUm</td>\n",
       "      <td>0.665714</td>\n",
       "      <td>-6.152593</td>\n",
       "      <td>1.000146</td>\n",
       "      <td>30.132364</td>\n",
       "    </tr>\n",
       "    <tr>\n",
       "      <th>99999</th>\n",
       "      <td>relB0</td>\n",
       "      <td>-3.426139</td>\n",
       "      <td>-7.794274</td>\n",
       "      <td>-0.003299</td>\n",
       "      <td>3.179103</td>\n",
       "    </tr>\n",
       "  </tbody>\n",
       "</table>\n",
       "</div>"
      ],
      "text/plain": [
       "          id         f0         f1        f2     product\n",
       "99995  QywKC   9.535637  -6.878139  1.998296   53.906522\n",
       "99996  ptvty -10.160631 -12.558096  5.005581  137.945408\n",
       "99997  09gWa  -7.378891  -3.084104  4.998651  137.945408\n",
       "99998  rqwUm   0.665714  -6.152593  1.000146   30.132364\n",
       "99999  relB0  -3.426139  -7.794274 -0.003299    3.179103"
      ]
     },
     "execution_count": 4,
     "metadata": {},
     "output_type": "execute_result"
    }
   ],
   "source": [
    "print('Duplicates:', data_geo_1.duplicated().sum(), '\\n')\n",
    "print('Missing values:', data_geo_1.isna().sum(), '\\n')\n",
    "data_geo_1.info()\n",
    "data_geo_1.tail()"
   ]
  },
  {
   "cell_type": "markdown",
   "id": "585d2b61",
   "metadata": {},
   "source": [
    "Дубликаты и пропущенные значения регионе 1 отсутствуют, типы данных соответсвуют описанию.\n",
    "\n",
    "Выгрузим информацию и случайные 5 строк датафрейма с данными по региону 2, также проверим данные на предмет дубликатов и пропущенных значений:"
   ]
  },
  {
   "cell_type": "code",
   "execution_count": 5,
   "id": "d5202540",
   "metadata": {},
   "outputs": [
    {
     "name": "stdout",
     "output_type": "stream",
     "text": [
      "Duplicates: 0 \n",
      "\n",
      "Missing values: id         0\n",
      "f0         0\n",
      "f1         0\n",
      "f2         0\n",
      "product    0\n",
      "dtype: int64 \n",
      "\n",
      "<class 'pandas.core.frame.DataFrame'>\n",
      "RangeIndex: 100000 entries, 0 to 99999\n",
      "Data columns (total 5 columns):\n",
      " #   Column   Non-Null Count   Dtype  \n",
      "---  ------   --------------   -----  \n",
      " 0   id       100000 non-null  object \n",
      " 1   f0       100000 non-null  float64\n",
      " 2   f1       100000 non-null  float64\n",
      " 3   f2       100000 non-null  float64\n",
      " 4   product  100000 non-null  float64\n",
      "dtypes: float64(4), object(1)\n",
      "memory usage: 3.8+ MB\n"
     ]
    },
    {
     "data": {
      "text/html": [
       "<div>\n",
       "<style scoped>\n",
       "    .dataframe tbody tr th:only-of-type {\n",
       "        vertical-align: middle;\n",
       "    }\n",
       "\n",
       "    .dataframe tbody tr th {\n",
       "        vertical-align: top;\n",
       "    }\n",
       "\n",
       "    .dataframe thead th {\n",
       "        text-align: right;\n",
       "    }\n",
       "</style>\n",
       "<table border=\"1\" class=\"dataframe\">\n",
       "  <thead>\n",
       "    <tr style=\"text-align: right;\">\n",
       "      <th></th>\n",
       "      <th>id</th>\n",
       "      <th>f0</th>\n",
       "      <th>f1</th>\n",
       "      <th>f2</th>\n",
       "      <th>product</th>\n",
       "    </tr>\n",
       "  </thead>\n",
       "  <tbody>\n",
       "    <tr>\n",
       "      <th>42825</th>\n",
       "      <td>3BYAV</td>\n",
       "      <td>2.477216</td>\n",
       "      <td>0.839715</td>\n",
       "      <td>6.786225</td>\n",
       "      <td>84.760268</td>\n",
       "    </tr>\n",
       "    <tr>\n",
       "      <th>2033</th>\n",
       "      <td>VLV1P</td>\n",
       "      <td>2.289284</td>\n",
       "      <td>0.394494</td>\n",
       "      <td>-1.209891</td>\n",
       "      <td>55.751632</td>\n",
       "    </tr>\n",
       "    <tr>\n",
       "      <th>10802</th>\n",
       "      <td>6DxTZ</td>\n",
       "      <td>0.123080</td>\n",
       "      <td>0.823457</td>\n",
       "      <td>-1.720953</td>\n",
       "      <td>12.035335</td>\n",
       "    </tr>\n",
       "    <tr>\n",
       "      <th>69225</th>\n",
       "      <td>6CSD7</td>\n",
       "      <td>-0.057147</td>\n",
       "      <td>2.407264</td>\n",
       "      <td>6.683261</td>\n",
       "      <td>149.333180</td>\n",
       "    </tr>\n",
       "    <tr>\n",
       "      <th>36202</th>\n",
       "      <td>A72xY</td>\n",
       "      <td>0.915950</td>\n",
       "      <td>2.429553</td>\n",
       "      <td>-2.619895</td>\n",
       "      <td>68.967390</td>\n",
       "    </tr>\n",
       "  </tbody>\n",
       "</table>\n",
       "</div>"
      ],
      "text/plain": [
       "          id        f0        f1        f2     product\n",
       "42825  3BYAV  2.477216  0.839715  6.786225   84.760268\n",
       "2033   VLV1P  2.289284  0.394494 -1.209891   55.751632\n",
       "10802  6DxTZ  0.123080  0.823457 -1.720953   12.035335\n",
       "69225  6CSD7 -0.057147  2.407264  6.683261  149.333180\n",
       "36202  A72xY  0.915950  2.429553 -2.619895   68.967390"
      ]
     },
     "execution_count": 5,
     "metadata": {},
     "output_type": "execute_result"
    }
   ],
   "source": [
    "print('Duplicates:', data_geo_2.duplicated().sum(), '\\n')\n",
    "print('Missing values:', data_geo_1.isna().sum(), '\\n')\n",
    "data_geo_2.info()\n",
    "data_geo_2.sample(5)"
   ]
  },
  {
   "cell_type": "markdown",
   "id": "00b1fff8",
   "metadata": {},
   "source": [
    "There are no duplicates and missing values in region 2, the data types match the description."
   ]
  },
  {
   "cell_type": "markdown",
   "id": "72e1d3b7",
   "metadata": {},
   "source": [
    "Let's construct an overall histogram for all numeric columns of the dataframe for region 0, and study the information obtained by `describe()`:"
   ]
  },
  {
   "cell_type": "code",
   "execution_count": 6,
   "id": "378834c0",
   "metadata": {},
   "outputs": [
    {
     "data": {
      "text/html": [
       "<div>\n",
       "<style scoped>\n",
       "    .dataframe tbody tr th:only-of-type {\n",
       "        vertical-align: middle;\n",
       "    }\n",
       "\n",
       "    .dataframe tbody tr th {\n",
       "        vertical-align: top;\n",
       "    }\n",
       "\n",
       "    .dataframe thead th {\n",
       "        text-align: right;\n",
       "    }\n",
       "</style>\n",
       "<table border=\"1\" class=\"dataframe\">\n",
       "  <thead>\n",
       "    <tr style=\"text-align: right;\">\n",
       "      <th></th>\n",
       "      <th>f0</th>\n",
       "      <th>f1</th>\n",
       "      <th>f2</th>\n",
       "      <th>product</th>\n",
       "    </tr>\n",
       "  </thead>\n",
       "  <tbody>\n",
       "    <tr>\n",
       "      <th>count</th>\n",
       "      <td>100000.000000</td>\n",
       "      <td>100000.000000</td>\n",
       "      <td>100000.000000</td>\n",
       "      <td>100000.000000</td>\n",
       "    </tr>\n",
       "    <tr>\n",
       "      <th>mean</th>\n",
       "      <td>0.500419</td>\n",
       "      <td>0.250143</td>\n",
       "      <td>2.502647</td>\n",
       "      <td>92.500000</td>\n",
       "    </tr>\n",
       "    <tr>\n",
       "      <th>std</th>\n",
       "      <td>0.871832</td>\n",
       "      <td>0.504433</td>\n",
       "      <td>3.248248</td>\n",
       "      <td>44.288691</td>\n",
       "    </tr>\n",
       "    <tr>\n",
       "      <th>min</th>\n",
       "      <td>-1.408605</td>\n",
       "      <td>-0.848218</td>\n",
       "      <td>-12.088328</td>\n",
       "      <td>0.000000</td>\n",
       "    </tr>\n",
       "    <tr>\n",
       "      <th>25%</th>\n",
       "      <td>-0.072580</td>\n",
       "      <td>-0.200881</td>\n",
       "      <td>0.287748</td>\n",
       "      <td>56.497507</td>\n",
       "    </tr>\n",
       "    <tr>\n",
       "      <th>50%</th>\n",
       "      <td>0.502360</td>\n",
       "      <td>0.250252</td>\n",
       "      <td>2.515969</td>\n",
       "      <td>91.849972</td>\n",
       "    </tr>\n",
       "    <tr>\n",
       "      <th>75%</th>\n",
       "      <td>1.073581</td>\n",
       "      <td>0.700646</td>\n",
       "      <td>4.715088</td>\n",
       "      <td>128.564089</td>\n",
       "    </tr>\n",
       "    <tr>\n",
       "      <th>max</th>\n",
       "      <td>2.362331</td>\n",
       "      <td>1.343769</td>\n",
       "      <td>16.003790</td>\n",
       "      <td>185.364347</td>\n",
       "    </tr>\n",
       "  </tbody>\n",
       "</table>\n",
       "</div>"
      ],
      "text/plain": [
       "                  f0             f1             f2        product\n",
       "count  100000.000000  100000.000000  100000.000000  100000.000000\n",
       "mean        0.500419       0.250143       2.502647      92.500000\n",
       "std         0.871832       0.504433       3.248248      44.288691\n",
       "min        -1.408605      -0.848218     -12.088328       0.000000\n",
       "25%        -0.072580      -0.200881       0.287748      56.497507\n",
       "50%         0.502360       0.250252       2.515969      91.849972\n",
       "75%         1.073581       0.700646       4.715088     128.564089\n",
       "max         2.362331       1.343769      16.003790     185.364347"
      ]
     },
     "execution_count": 6,
     "metadata": {},
     "output_type": "execute_result"
    },
    {
     "data": {
      "image/png": "[encoded data removed]",
      "text/plain": [
       "<Figure size 600x600 with 4 Axes>"
      ]
     },
     "metadata": {},
     "output_type": "display_data"
    }
   ],
   "source": [
    "data_geo_0.hist(figsize=(6, 6),bins=50);\n",
    "data_geo_0.describe()"
   ]
  },
  {
   "cell_type": "markdown",
   "id": "e16cc0e6",
   "metadata": {},
   "source": [
    "The distribution of features `f0`, `f1` and `product` does not look normal, the features `f2` has a normal distribution. The most interesting feature is `product` (volume of reserves in a well (thousand barrels)), its maximum value in region 0 - 185 thousand barrels, average 92.5 thousand barrels"
   ]
  },
  {
   "cell_type": "markdown",
   "id": "50716c3e",
   "metadata": {},
   "source": [
    "Let's construct an overall histogram for all numeric columns of the dataframe for region 1, and examine the information obtained by `describe()`:"
   ]
  },
  {
   "cell_type": "code",
   "execution_count": 7,
   "id": "c320032b",
   "metadata": {},
   "outputs": [
    {
     "data": {
      "text/html": [
       "<div>\n",
       "<style scoped>\n",
       "    .dataframe tbody tr th:only-of-type {\n",
       "        vertical-align: middle;\n",
       "    }\n",
       "\n",
       "    .dataframe tbody tr th {\n",
       "        vertical-align: top;\n",
       "    }\n",
       "\n",
       "    .dataframe thead th {\n",
       "        text-align: right;\n",
       "    }\n",
       "</style>\n",
       "<table border=\"1\" class=\"dataframe\">\n",
       "  <thead>\n",
       "    <tr style=\"text-align: right;\">\n",
       "      <th></th>\n",
       "      <th>f0</th>\n",
       "      <th>f1</th>\n",
       "      <th>f2</th>\n",
       "      <th>product</th>\n",
       "    </tr>\n",
       "  </thead>\n",
       "  <tbody>\n",
       "    <tr>\n",
       "      <th>count</th>\n",
       "      <td>100000.000000</td>\n",
       "      <td>100000.000000</td>\n",
       "      <td>100000.000000</td>\n",
       "      <td>100000.000000</td>\n",
       "    </tr>\n",
       "    <tr>\n",
       "      <th>mean</th>\n",
       "      <td>1.141296</td>\n",
       "      <td>-4.796579</td>\n",
       "      <td>2.494541</td>\n",
       "      <td>68.825000</td>\n",
       "    </tr>\n",
       "    <tr>\n",
       "      <th>std</th>\n",
       "      <td>8.965932</td>\n",
       "      <td>5.119872</td>\n",
       "      <td>1.703572</td>\n",
       "      <td>45.944423</td>\n",
       "    </tr>\n",
       "    <tr>\n",
       "      <th>min</th>\n",
       "      <td>-31.609576</td>\n",
       "      <td>-26.358598</td>\n",
       "      <td>-0.018144</td>\n",
       "      <td>0.000000</td>\n",
       "    </tr>\n",
       "    <tr>\n",
       "      <th>25%</th>\n",
       "      <td>-6.298551</td>\n",
       "      <td>-8.267985</td>\n",
       "      <td>1.000021</td>\n",
       "      <td>26.953261</td>\n",
       "    </tr>\n",
       "    <tr>\n",
       "      <th>50%</th>\n",
       "      <td>1.153055</td>\n",
       "      <td>-4.813172</td>\n",
       "      <td>2.011479</td>\n",
       "      <td>57.085625</td>\n",
       "    </tr>\n",
       "    <tr>\n",
       "      <th>75%</th>\n",
       "      <td>8.621015</td>\n",
       "      <td>-1.332816</td>\n",
       "      <td>3.999904</td>\n",
       "      <td>107.813044</td>\n",
       "    </tr>\n",
       "    <tr>\n",
       "      <th>max</th>\n",
       "      <td>29.421755</td>\n",
       "      <td>18.734063</td>\n",
       "      <td>5.019721</td>\n",
       "      <td>137.945408</td>\n",
       "    </tr>\n",
       "  </tbody>\n",
       "</table>\n",
       "</div>"
      ],
      "text/plain": [
       "                  f0             f1             f2        product\n",
       "count  100000.000000  100000.000000  100000.000000  100000.000000\n",
       "mean        1.141296      -4.796579       2.494541      68.825000\n",
       "std         8.965932       5.119872       1.703572      45.944423\n",
       "min       -31.609576     -26.358598      -0.018144       0.000000\n",
       "25%        -6.298551      -8.267985       1.000021      26.953261\n",
       "50%         1.153055      -4.813172       2.011479      57.085625\n",
       "75%         8.621015      -1.332816       3.999904     107.813044\n",
       "max        29.421755      18.734063       5.019721     137.945408"
      ]
     },
     "execution_count": 7,
     "metadata": {},
     "output_type": "execute_result"
    },
    {
     "data": {
      "image/png": "[encoded data removed]",
      "text/plain": [
       "<Figure size 600x600 with 4 Axes>"
      ]
     },
     "metadata": {},
     "output_type": "display_data"
    }
   ],
   "source": [
    "data_geo_1.hist(figsize=(6, 6),bins=50);\n",
    "data_geo_1.describe()"
   ]
  },
  {
   "cell_type": "markdown",
   "id": "519611e2",
   "metadata": {},
   "source": [
    "The distribution of features `f0`, `f2` and `product` does not look normal, the features `f1` has a normal distribution. The maximum value of the sign `product` in region 1 is 137 thousand barrels, the average is 68.8 thousand barrels, these are significantly lower values compared with region 0."
   ]
  },
  {
   "cell_type": "markdown",
   "id": "9dbfaa89",
   "metadata": {},
   "source": [
    "Let's construct an overall histogram for all the numeric columns of the dataframe for region 2, and examine the information obtained by `describe()`:"
   ]
  },
  {
   "cell_type": "code",
   "execution_count": 8,
   "id": "356a840a",
   "metadata": {},
   "outputs": [
    {
     "data": {
      "text/html": [
       "<div>\n",
       "<style scoped>\n",
       "    .dataframe tbody tr th:only-of-type {\n",
       "        vertical-align: middle;\n",
       "    }\n",
       "\n",
       "    .dataframe tbody tr th {\n",
       "        vertical-align: top;\n",
       "    }\n",
       "\n",
       "    .dataframe thead th {\n",
       "        text-align: right;\n",
       "    }\n",
       "</style>\n",
       "<table border=\"1\" class=\"dataframe\">\n",
       "  <thead>\n",
       "    <tr style=\"text-align: right;\">\n",
       "      <th></th>\n",
       "      <th>f0</th>\n",
       "      <th>f1</th>\n",
       "      <th>f2</th>\n",
       "      <th>product</th>\n",
       "    </tr>\n",
       "  </thead>\n",
       "  <tbody>\n",
       "    <tr>\n",
       "      <th>count</th>\n",
       "      <td>100000.000000</td>\n",
       "      <td>100000.000000</td>\n",
       "      <td>100000.000000</td>\n",
       "      <td>100000.000000</td>\n",
       "    </tr>\n",
       "    <tr>\n",
       "      <th>mean</th>\n",
       "      <td>0.002023</td>\n",
       "      <td>-0.002081</td>\n",
       "      <td>2.495128</td>\n",
       "      <td>95.000000</td>\n",
       "    </tr>\n",
       "    <tr>\n",
       "      <th>std</th>\n",
       "      <td>1.732045</td>\n",
       "      <td>1.730417</td>\n",
       "      <td>3.473445</td>\n",
       "      <td>44.749921</td>\n",
       "    </tr>\n",
       "    <tr>\n",
       "      <th>min</th>\n",
       "      <td>-8.760004</td>\n",
       "      <td>-7.084020</td>\n",
       "      <td>-11.970335</td>\n",
       "      <td>0.000000</td>\n",
       "    </tr>\n",
       "    <tr>\n",
       "      <th>25%</th>\n",
       "      <td>-1.162288</td>\n",
       "      <td>-1.174820</td>\n",
       "      <td>0.130359</td>\n",
       "      <td>59.450441</td>\n",
       "    </tr>\n",
       "    <tr>\n",
       "      <th>50%</th>\n",
       "      <td>0.009424</td>\n",
       "      <td>-0.009482</td>\n",
       "      <td>2.484236</td>\n",
       "      <td>94.925613</td>\n",
       "    </tr>\n",
       "    <tr>\n",
       "      <th>75%</th>\n",
       "      <td>1.158535</td>\n",
       "      <td>1.163678</td>\n",
       "      <td>4.858794</td>\n",
       "      <td>130.595027</td>\n",
       "    </tr>\n",
       "    <tr>\n",
       "      <th>max</th>\n",
       "      <td>7.238262</td>\n",
       "      <td>7.844801</td>\n",
       "      <td>16.739402</td>\n",
       "      <td>190.029838</td>\n",
       "    </tr>\n",
       "  </tbody>\n",
       "</table>\n",
       "</div>"
      ],
      "text/plain": [
       "                  f0             f1             f2        product\n",
       "count  100000.000000  100000.000000  100000.000000  100000.000000\n",
       "mean        0.002023      -0.002081       2.495128      95.000000\n",
       "std         1.732045       1.730417       3.473445      44.749921\n",
       "min        -8.760004      -7.084020     -11.970335       0.000000\n",
       "25%        -1.162288      -1.174820       0.130359      59.450441\n",
       "50%         0.009424      -0.009482       2.484236      94.925613\n",
       "75%         1.158535       1.163678       4.858794     130.595027\n",
       "max         7.238262       7.844801      16.739402     190.029838"
      ]
     },
     "execution_count": 8,
     "metadata": {},
     "output_type": "execute_result"
    },
    {
     "data": {
      "image/png": "[encoded data removed]",
      "text/plain": [
       "<Figure size 600x600 with 4 Axes>"
      ]
     },
     "metadata": {},
     "output_type": "display_data"
    }
   ],
   "source": [
    "data_geo_2.hist(figsize=(6, 6),bins=50);\n",
    "data_geo_2.describe()"
   ]
  },
  {
   "cell_type": "markdown",
   "id": "f231bd42",
   "metadata": {},
   "source": [
    "The data of region 2 looks noticeably better than the previous ones, in this region only the distribution of the sign `product` does not look normal, the other signs `f0`, `f1` and `f2` have normal distribution. The maximum value of a sign `product` in region 2 is 190 thousand barrels, average 95 thousand barrels, these data tell us about more considerable volumes of stocks in a well in comparison to other regions"
   ]
  },
  {
   "cell_type": "markdown",
   "id": "d256ae67",
   "metadata": {},
   "source": [
    "**Conclusion:**\n",
    "- We imported `pandas`, `sklearn`, `numpy` libraries, unloaded data using `describe()`, `info()` methods and analyzed them\n",
    "- checked the data for duplicates and missing values, found that there were no duplicates and missing values in the data\n",
    "- We plotted histograms for all numeric features of the three regions and found that the distribution of some features differ from the normal, the scale of distribution of features `f0`, `f1` and `f2` do not differ significantly, so we will not apply scaling in the future\n",
    "- we analyzed the data and made a conclusion that maximum value of indicator in region 2 is 190 thousand barrels, average value is 95 thousand barrels, this data tells us about more significant reserves in the well in comparison to other regions (region 0: mean=92.5, max=185; region 1: mean=68.8, max=138)\n",
    "- we do not know what signs `f0`, `f1` and `f2` mean, so it is difficult to assess the adequacy of distributions and emissions, we leave the data unchanged"
   ]
  },
  {
   "cell_type": "markdown",
   "id": "8924715a",
   "metadata": {},
   "source": [
    "## 2. Model training and validation"
   ]
  },
  {
   "cell_type": "markdown",
   "id": "d5857372",
   "metadata": {},
   "source": [
    "Split the data into **features** (`f0`, `f1` and `f2`) and the target feature **target** (`product`)"
   ]
  },
  {
   "cell_type": "code",
   "execution_count": 9,
   "id": "61c51d4a",
   "metadata": {},
   "outputs": [],
   "source": [
    "features = ['f0', 'f1', 'f2']\n",
    "target = ['product']\n",
    "features_0 = data_geo_0[features]\n",
    "features_1 = data_geo_1[features]\n",
    "features_2 = data_geo_2[features]\n",
    "target_0 = data_geo_0[target]\n",
    "target_1 = data_geo_1[target]\n",
    "target_2 = data_geo_2[target]"
   ]
  },
  {
   "cell_type": "markdown",
   "id": "4650a496",
   "metadata": {},
   "source": [
    "Split the data into training and validation samples in the ratio of 75:25 and check the resulting sample size:"
   ]
  },
  {
   "cell_type": "code",
   "execution_count": 10,
   "id": "bd7b89ea",
   "metadata": {},
   "outputs": [
    {
     "name": "stdout",
     "output_type": "stream",
     "text": [
      "Region 0 training sample size: 75% | Region 0 validation sample size: 25%\n",
      "Region 1 training sample size:: 75% | Region 1 validation sample size: 25%\n",
      "Region 2 training sample size:: 75% | Region 2 validation sample size: 25%\n"
     ]
    }
   ],
   "source": [
    "features_train_0, features_valid_0, target_train_0, target_valid_0 = train_test_split(features_0,\n",
    "                                                                                      target_0,\n",
    "                                                                                      test_size=0.25, random_state=12345)\n",
    "features_train_1, features_valid_1, target_train_1, target_valid_1 = train_test_split(features_1,\n",
    "                                                                                      target_1,\n",
    "                                                                                      test_size=0.25, random_state=12345)\n",
    "features_train_2, features_valid_2, target_train_2, target_valid_2 = train_test_split(features_2,\n",
    "                                                                                      target_2,\n",
    "                                                                                      test_size=0.25, random_state=12345)\n",
    "print(f'Region 0 training sample size: {len((features_train_0) + (target_train_0))/ len(data_geo_0):.0%}', end=' | ')\n",
    "print(f'Region 0 validation sample size: {len((features_valid_0) + (target_valid_0)) / len(data_geo_0):.0%}')\n",
    "print(f'Region 1 training sample size:: {len((features_train_1) + (target_train_1))/ len(data_geo_1):.0%}', end=' | ')\n",
    "print(f'Region 1 validation sample size: {len((features_valid_1) + (target_valid_1)) / len(data_geo_1):.0%}')\n",
    "print(f'Region 2 training sample size:: {len((features_train_2) + (target_train_2))/ len(data_geo_2):.0%}', end=' | ')\n",
    "print(f'Region 2 validation sample size: {len((features_valid_2) + (target_valid_2)) / len(data_geo_2):.0%}')"
   ]
  },
  {
   "cell_type": "markdown",
   "id": "325f10ef",
   "metadata": {},
   "source": [
    "Train the model (LinearRegression), make predictions on the validation sample, save the predictions and correct answers on the validation sample, display the average stock of predicted raw materials and the RMSE of the model"
   ]
  },
  {
   "cell_type": "code",
   "execution_count": 11,
   "id": "d371fee1",
   "metadata": {},
   "outputs": [],
   "source": [
    "def print_predict_mean_rmse(region, predict_mean, rmse):\n",
    "    print(region, end=' | ')\n",
    "    print('average stock of predicted raw materials: ', predict_mean, end=' | ')\n",
    "    print('RMSE: ', rmse)"
   ]
  },
  {
   "cell_type": "code",
   "execution_count": 12,
   "id": "eb258a81",
   "metadata": {},
   "outputs": [],
   "source": [
    "def predict_mean_rmse(region, features_train, target_train, features_valid, target_valid, show_res=True, return_res=False):\n",
    "    model = LinearRegression()\n",
    "    model.fit(features_train, target_train)\n",
    "    predict_valid = model.predict(features_valid)\n",
    "    predict_mean = predict_valid.mean()\n",
    "    rmse = mean_squared_error(target_valid, predict_valid)**0.5\n",
    "    if show_res:\n",
    "        print_predict_mean_rmse(region, predict_mean, rmse)\n",
    "    if return_res:\n",
    "        return rmse"
   ]
  },
  {
   "cell_type": "code",
   "execution_count": 13,
   "id": "a97e64e5",
   "metadata": {},
   "outputs": [
    {
     "name": "stdout",
     "output_type": "stream",
     "text": [
      "Region 0 | average stock of predicted raw materials:  92.59256778438035 | RMSE:  37.5794217150813\n",
      "Region 1 | average stock of predicted raw materials:  68.72854689544602 | RMSE:  0.893099286775617\n",
      "Region 2 | average stock of predicted raw materials:  94.96504596800489 | RMSE:  40.02970873393434\n"
     ]
    }
   ],
   "source": [
    "predict_mean_rmse('Region 0', features_train_0, target_train_0, features_valid_0, target_valid_0)\n",
    "predict_mean_rmse('Region 1', features_train_1, target_train_1, features_valid_1, target_valid_1)\n",
    "predict_mean_rmse('Region 2', features_train_2, target_train_2, features_valid_2, target_valid_2)"
   ]
  },
  {
   "cell_type": "markdown",
   "id": "bd9c8cef",
   "metadata": {},
   "source": [
    "From the data obtained, it follows that the highest average stock of predicted raw materials showed regions 0 (92.59) and 2 (94.96), the figure in region 1 is much lower (68.72), while the lowest value of the root mean square error (RMSE) showed region 1 (0.89). This demonstrates the accuracy of the predictions and the quality of the model, which cannot be said about regions 0 and 2, where the RMSE is rather high (37.57 and 40.02, respectively)."
   ]
  },
  {
   "cell_type": "markdown",
   "id": "32fc77f3",
   "metadata": {},
   "source": [
    "**Conclusion:**\n",
    "- we trained and tested the model for each region\n",
    "- we analyzed the results and found out that regions 0 (92.59) and 2 (94.96) showed the highest average stock of predicted raw materials, the figure in region 1 was significantly lower (68.72)\n",
    "- we also found out that the lowest RMSE value was in region 1 (0.89), which shows the accuracy of the predictions and the quality of the built model, which cannot be said about regions 0 and 2, where the RMSE is rather high (37.57 and 40.02 respectively)"
   ]
  },
  {
   "cell_type": "markdown",
   "id": "3d9a764e",
   "metadata": {},
   "source": [
    "## 3 Preparation for Profit Calculation"
   ]
  },
  {
   "cell_type": "markdown",
   "id": "27d7f8c2",
   "metadata": {},
   "source": [
    "Let's keep all the key values for calculations in separate variables (move them to the beginning of the project) and calculate the sufficient amount of feedstock for break-even development of a new well. Let's compare the resulting volume of feedstock with the average stock in each region.\n",
    "\n",
    "Key figures:\n",
    "- `budget` - budget for well development in the region\n",
    "\n",
    "\n",
    "- `all_oil_wells` - number of points, which are explored during the exploration of the region\n",
    "\n",
    "\n",
    "- `best_oil_wells` - number of best development points selected by machine learning from those explored during regional exploration \n",
    "\n",
    "\n",
    "- `income_unit_product` - income from each unit of product (volume is specified in thousands of barrels)\n",
    "\n",
    "\n",
    "- `alpha` - probability of loss"
   ]
  },
  {
   "cell_type": "code",
   "execution_count": 14,
   "id": "b0385663",
   "metadata": {},
   "outputs": [
    {
     "name": "stdout",
     "output_type": "stream",
     "text": [
      "Minimum volume of feedstock for break-even development of a new well:  111.11111111111111 barrels\n"
     ]
    }
   ],
   "source": [
    "volume = BUDGET / BEST_OIL_WELLS / INCOME_UNIT_PRODUCT\n",
    "print('Minimum volume of feedstock for break-even development of a new well: ', volume, 'barrels')"
   ]
  },
  {
   "cell_type": "markdown",
   "id": "20c8f41a",
   "metadata": {},
   "source": [
    "**Conclusion:**\n",
    "- The minimum feedstock volume for break-even development of a new well is 111 barrels. The figure was calculated on the basis of the 200 best points for development in the region\n",
    "- Calculations yielded a result that exceeded the average for all three regions"
   ]
  },
  {
   "cell_type": "markdown",
   "id": "de02617a",
   "metadata": {},
   "source": [
    "## 4 Calculation of profits and risks"
   ]
  },
  {
   "cell_type": "markdown",
   "id": "340a325a",
   "metadata": {},
   "source": [
    "Let's write a function to calculate profits for selected wells and model predictions. Let's choose the wells with maximum predictions. Let's sum up the target value of the volume of raw material corresponding to these predictions. Let's calculate the profit for the obtained volume of raw material"
   ]
  },
  {
   "cell_type": "code",
   "execution_count": 15,
   "id": "064cf0a6",
   "metadata": {},
   "outputs": [],
   "source": [
    "def predict_valid(features_train, target_train, features_valid):\n",
    "    model = LinearRegression()\n",
    "    model.fit(features_train, target_train)\n",
    "    predict_valid = model.predict(features_valid)\n",
    "    return predict_valid\n",
    "predict_valid_0 = predict_valid(features_train_0, target_train_0, features_valid_0)\n",
    "predict_valid_1 = predict_valid(features_train_1, target_train_1, features_valid_1)\n",
    "predict_valid_2 = predict_valid(features_train_2, target_train_2, features_valid_2)"
   ]
  },
  {
   "cell_type": "code",
   "execution_count": 16,
   "id": "85d2a070",
   "metadata": {},
   "outputs": [],
   "source": [
    "target_0 = pd.Series(target_valid_0['product']).reset_index(drop=True)\n",
    "predict_0 = pd.Series(*predict_valid_0.reshape(1,-1))\n",
    "target_1 = pd.Series(target_valid_1['product']).reset_index(drop=True)\n",
    "predict_1 = pd.Series(*predict_valid_1.reshape(1,-1))\n",
    "target_2 = pd.Series(target_valid_2['product']).reset_index(drop=True)\n",
    "predict_2 = pd.Series(*predict_valid_2.reshape(1,-1))"
   ]
  },
  {
   "cell_type": "code",
   "execution_count": 17,
   "id": "b50d125c",
   "metadata": {},
   "outputs": [],
   "source": [
    "def print_predict_income(region, best_oil_wells_mean, volume, income):\n",
    "    print(region, ':')\n",
    "    print('Average stock of raw materials among the wells with the maximum index:', best_oil_wells_mean)\n",
    "    print('Total target volume of raw materials:', volume)\n",
    "    print('Profit for the received volume of raw materials:', income)"
   ]
  },
  {
   "cell_type": "code",
   "execution_count": 18,
   "id": "d56f9bf4",
   "metadata": {},
   "outputs": [],
   "source": [
    "state = RandomState(50)\n",
    "def predict_income(target, predicts, region, state, replace=False, show_res=True, return_res=False):\n",
    "    all_oil_wells_predict = predicts.sample(n=ALL_OIL_WELLS, replace=replace, random_state=state)\n",
    "    best_predict = all_oil_wells_predict.sort_values(ascending=False)[:BEST_OIL_WELLS]\n",
    "    best_targets = target[best_predict.index]\n",
    "    best_oil_wells_mean = best_targets.mean()\n",
    "    volume = sum(best_targets)\n",
    "    income = volume * INCOME_UNIT_PRODUCT - BUDGET\n",
    "    if show_res:\n",
    "        print_predict_income(region, best_oil_wells_mean, volume, income)\n",
    "    if return_res:\n",
    "        return income"
   ]
  },
  {
   "cell_type": "code",
   "execution_count": 19,
   "id": "973e1db2",
   "metadata": {},
   "outputs": [
    {
     "name": "stdout",
     "output_type": "stream",
     "text": [
      "Region 0 :\n",
      "Average stock of raw materials among the wells with the maximum index: 119.07023671877805\n",
      "Total target volume of raw materials: 23814.04734375561\n",
      "Profit for the received volume of raw materials: 716321304.6900253\n"
     ]
    }
   ],
   "source": [
    "predict_income(target_0, predict_0, 'Region 0', state)"
   ]
  },
  {
   "cell_type": "code",
   "execution_count": 20,
   "id": "bd6cf688",
   "metadata": {},
   "outputs": [
    {
     "name": "stdout",
     "output_type": "stream",
     "text": [
      "Region 1 :\n",
      "Average stock of raw materials among the wells with the maximum index: 118.27367384342533\n",
      "Total target volume of raw materials: 23654.734768685066\n",
      "Profit for the received volume of raw materials: 644630645.9082794\n"
     ]
    }
   ],
   "source": [
    "predict_income(target_1, predict_1, 'Region 1', state)"
   ]
  },
  {
   "cell_type": "code",
   "execution_count": 21,
   "id": "e070e51f",
   "metadata": {},
   "outputs": [
    {
     "name": "stdout",
     "output_type": "stream",
     "text": [
      "Region 2 :\n",
      "Average stock of raw materials among the wells with the maximum index: 113.64867433311143\n",
      "Total target volume of raw materials: 22729.734866622286\n",
      "Profit for the received volume of raw materials: 228380689.98002815\n"
     ]
    }
   ],
   "source": [
    "predict_income(target_2, predict_2, 'Region 2', state)"
   ]
  },
  {
   "cell_type": "markdown",
   "id": "770ff23a",
   "metadata": {},
   "source": [
    "From the data obtained: the average stock of raw materials from one well in all regions (119, 118 and 113 barrels, respectively) is more than the minimum allowable amount of 111 barrels"
   ]
  },
  {
   "cell_type": "markdown",
   "id": "ef3f06b7",
   "metadata": {},
   "source": [
    "Calculate the risks and profits for each region. Let's apply the Bootstrap technique with 1000 samples to find the profit distribution. Find the average profit, the 95% confidence interval, and the risk of loss. A loss is a negative profit."
   ]
  },
  {
   "cell_type": "code",
   "execution_count": 22,
   "id": "a88e4bf1",
   "metadata": {},
   "outputs": [],
   "source": [
    "def profit(target_predict_sample, target_valid):\n",
    "    target_predict_best_200 = target_predict_sample.sort_values(ascending=False)[:BEST_OIL_WELLS]\n",
    "    sample_profit = target_valid[target_predict_best_200.index].sum() * INCOME_UNIT_PRODUCT - BUDGET\n",
    "    return sample_profit\n",
    "\n",
    "def sample_risk(target_predict, target_valid):\n",
    "    state = RandomState(12345)\n",
    "    sample_profit_distrib = []\n",
    "    count = 0\n",
    "    for i in range(BOOTSTRAP_SAMPLES):    \n",
    "        target_predict_sample = pd.Series(target_predict).sample(n=ALL_OIL_WELLS, replace=True, random_state=state)\n",
    "        sample_profit = profit(target_predict_sample, target_valid)\n",
    "        sample_profit_distrib.append(sample_profit)\n",
    "        if sample_profit < 0:\n",
    "            count += 1\n",
    "    return pd.Series(sample_profit_distrib), count\n",
    "\n",
    "sample_profit_dist_0, count_0 = sample_risk(predict_0, target_0)\n",
    "sample_profit_dist_1, count_1 = sample_risk(predict_1, target_1)\n",
    "sample_profit_dist_2, count_2 = sample_risk(predict_2, target_2)"
   ]
  },
  {
   "cell_type": "code",
   "execution_count": 23,
   "id": "f687d040",
   "metadata": {},
   "outputs": [],
   "source": [
    "def risk(profit, count):\n",
    "    print (f'Average profit: {profit.mean() / 1000000:.2f} mln rub.')   \n",
    "    print (f'95% confidence interval: {np.quantile(profit, 0.025):.0f}, {np.quantile(profit, 0.975):.0f}')\n",
    "    p_value = 1. * count / BOOTSTRAP_SAMPLES\n",
    "    if p_value < ALPHA:\n",
    "        print(f'The probability of loss is {p_value:.2%}. The region is suitable for development', '\\n')\n",
    "    else:\n",
    "        print(f'The probability of loss is {p_value:.2%}. The region is not suitable for development', '\\n')"
   ]
  },
  {
   "cell_type": "code",
   "execution_count": 24,
   "id": "859c8def",
   "metadata": {},
   "outputs": [
    {
     "name": "stdout",
     "output_type": "stream",
     "text": [
      "Region 0:\n",
      "Average profit: 396.16 mln rub.\n",
      "95% confidence interval: -111215546, 909766942\n",
      "The probability of loss is 6.90%. The region is not suitable for development \n",
      "\n",
      "Region 1:\n",
      "Average profit: 456.05 mln rub.\n",
      "95% confidence interval: 33820509, 852289454\n",
      "The probability of loss is 1.50%. The region is suitable for development \n",
      "\n",
      "Region 2:\n",
      "Average profit: 404.40 mln rub.\n",
      "95% confidence interval: -163350413, 950359575\n",
      "The probability of loss is 7.60%. The region is not suitable for development \n",
      "\n"
     ]
    }
   ],
   "source": [
    "print ('Region 0:')\n",
    "risk(sample_profit_dist_0, count_0)\n",
    "print ('Region 1:')\n",
    "risk(sample_profit_dist_1, count_1)\n",
    "print ('Region 2:')\n",
    "risk(sample_profit_dist_2, count_2)"
   ]
  },
  {
   "cell_type": "markdown",
   "id": "a8ef9a95",
   "metadata": {},
   "source": [
    "**Conclusion:**\n",
    "- we calculated indicators for the top 200 wells out of 500 and found that the average reserve of raw materials from one well of all regions (119, 118 and 113 barrels, respectively) is greater than the minimum allowable volume of 111 barrels\n",
    "- we applied bootstrap technique and found out that average profit estimate is maximal for region 1 (456 million rubles) and region 1 predicts profitable development according to 95% confidence interval\n",
    "- risk of losses for region 1 (1.5%) and the other two regions are not suitable for development, their risk of losses is 6.9% and 7.6%, respectively\n",
    "- region 1 is recommended for development"
   ]
  },
  {
   "cell_type": "markdown",
   "id": "a79b63a8",
   "metadata": {},
   "source": [
    "**General conclusion:**\n",
    "- we checked the data for duplicates and missing values and found that there were no duplicates or missing values in the data\n",
    "- we drew histograms for all numerical features of the three regions and found that the distribution of some features differs from the normal, the scale of distribution of features f0, f1 and f2 do not differ significantly, so further scaling was not applied\n",
    "- analyzed the data and made a conclusion that the maximum value of indicator in region 2 is 190 thousand barrels, the average value is 95 thousand barrels, this data tells us about more significant reserves in the well comparing to other regions (region 0: mean=92.5, max=185; region 1: mean=68.8, max=138)\n",
    "- trained and tested the model for each region\n",
    "- we analyzed the results and found that the highest average stock of predicted raw materials was in region 0 (92.59) and region 2 (94.96), the figure in region 1 was significantly lower (68.72)\n",
    "- we also found that the lowest RMSE value was found in region 1 (0.89), which demonstrates the accuracy of the predictions and the quality of the model built, which cannot be said about regions 0 and 2, where the RMSE is quite high (37.57 and 40.02, respectively)\n",
    "- preparing the data for profit calculation, we found out that the minimum volume of feedstock for break-even development of a new well is 111 barrels. The figure was calculated on the basis of the 200 best points for development in the region\n",
    "- Calculated a result which is higher than the average for all three regions\n",
    "- in calculating profits and risks, we calculated the indicators for the top 200 wells out of 500 and found that the average reserve from one well in all regions (119, 118 and 113 barrels, respectively) exceeds the minimum allowable volume of 111 barrels\n",
    "- we applied bootstrap technique and found out that average profit estimate is maximal for region 1 (456 million rubles) and region 1 predicts profitable development according to 95% confidence interval\n",
    "- risk of losses for region 1 (1.5%) and the other two regions are not suitable for development, their risk of losses is 6.9% and 7.6%, respectively\n",
    "- region 1 is recommended for development"
   ]
  },
  {
   "cell_type": "code",
   "execution_count": null,
   "id": "92a5c77e",
   "metadata": {},
   "outputs": [],
   "source": []
  }
 ],
 "metadata": {
  "ExecuteTimeLog": [
   {
    "duration": 1838,
    "start_time": "2023-02-12T06:22:30.616Z"
   },
   {
    "duration": 678,
    "start_time": "2023-02-12T06:22:32.456Z"
   },
   {
    "duration": 93,
    "start_time": "2023-02-12T06:22:33.136Z"
   },
   {
    "duration": 94,
    "start_time": "2023-02-12T06:22:33.231Z"
   },
   {
    "duration": 93,
    "start_time": "2023-02-12T06:22:33.327Z"
   },
   {
    "duration": 1110,
    "start_time": "2023-02-12T06:22:33.422Z"
   },
   {
    "duration": 781,
    "start_time": "2023-02-12T06:22:34.534Z"
   },
   {
    "duration": 666,
    "start_time": "2023-02-12T06:22:35.316Z"
   },
   {
    "duration": 14,
    "start_time": "2023-02-12T06:22:35.995Z"
   },
   {
    "duration": 103,
    "start_time": "2023-02-12T06:22:36.014Z"
   },
   {
    "duration": 226,
    "start_time": "2023-02-12T06:22:36.120Z"
   },
   {
    "duration": 9,
    "start_time": "2023-02-12T06:22:36.401Z"
   },
   {
    "duration": 84,
    "start_time": "2023-02-12T06:22:36.412Z"
   },
   {
    "duration": 27,
    "start_time": "2023-02-12T06:22:36.499Z"
   },
   {
    "duration": 15,
    "start_time": "2023-02-12T06:22:36.529Z"
   },
   {
    "duration": 8,
    "start_time": "2023-02-12T06:22:36.546Z"
   },
   {
    "duration": 5,
    "start_time": "2023-02-12T06:22:36.556Z"
   },
   {
    "duration": 8,
    "start_time": "2023-02-12T06:22:36.563Z"
   },
   {
    "duration": 2274,
    "start_time": "2023-02-12T06:22:36.572Z"
   },
   {
    "duration": 3,
    "start_time": "2023-02-12T06:22:38.848Z"
   },
   {
    "duration": 9,
    "start_time": "2023-02-12T06:22:38.853Z"
   },
   {
    "duration": 7,
    "start_time": "2023-02-12T06:27:14.417Z"
   },
   {
    "duration": 5,
    "start_time": "2023-02-12T06:27:25.873Z"
   },
   {
    "duration": 6,
    "start_time": "2023-02-12T06:27:40.316Z"
   },
   {
    "duration": 6,
    "start_time": "2023-02-12T06:28:20.480Z"
   },
   {
    "duration": 11,
    "start_time": "2023-02-12T06:28:28.592Z"
   },
   {
    "duration": 9,
    "start_time": "2023-02-12T06:28:44.465Z"
   },
   {
    "duration": 6,
    "start_time": "2023-02-12T06:29:03.441Z"
   },
   {
    "duration": 1607,
    "start_time": "2023-02-12T06:29:51.956Z"
   },
   {
    "duration": 1237,
    "start_time": "2023-02-12T06:29:53.565Z"
   },
   {
    "duration": 74,
    "start_time": "2023-02-12T06:29:54.804Z"
   },
   {
    "duration": 68,
    "start_time": "2023-02-12T06:29:54.880Z"
   },
   {
    "duration": 72,
    "start_time": "2023-02-12T06:29:54.949Z"
   },
   {
    "duration": 805,
    "start_time": "2023-02-12T06:29:55.023Z"
   },
   {
    "duration": 730,
    "start_time": "2023-02-12T06:29:55.830Z"
   },
   {
    "duration": 550,
    "start_time": "2023-02-12T06:29:56.562Z"
   },
   {
    "duration": 12,
    "start_time": "2023-02-12T06:29:57.113Z"
   },
   {
    "duration": 83,
    "start_time": "2023-02-12T06:29:57.129Z"
   },
   {
    "duration": 189,
    "start_time": "2023-02-12T06:29:57.214Z"
   },
   {
    "duration": 4,
    "start_time": "2023-02-12T06:29:57.493Z"
   },
   {
    "duration": 104,
    "start_time": "2023-02-12T06:29:57.498Z"
   },
   {
    "duration": 9,
    "start_time": "2023-02-12T06:29:57.604Z"
   },
   {
    "duration": 6,
    "start_time": "2023-02-12T06:29:57.615Z"
   },
   {
    "duration": 8,
    "start_time": "2023-02-12T06:29:57.623Z"
   },
   {
    "duration": 6,
    "start_time": "2023-02-12T06:29:57.633Z"
   },
   {
    "duration": 10,
    "start_time": "2023-02-12T06:29:57.641Z"
   },
   {
    "duration": 7,
    "start_time": "2023-02-12T06:29:57.652Z"
   },
   {
    "duration": 9,
    "start_time": "2023-02-12T06:29:57.661Z"
   },
   {
    "duration": 8,
    "start_time": "2023-02-12T06:29:57.693Z"
   },
   {
    "duration": 2117,
    "start_time": "2023-02-12T06:29:57.703Z"
   },
   {
    "duration": 4,
    "start_time": "2023-02-12T06:29:59.822Z"
   },
   {
    "duration": 13,
    "start_time": "2023-02-12T06:29:59.828Z"
   },
   {
    "duration": 5,
    "start_time": "2023-02-12T06:31:02.198Z"
   },
   {
    "duration": 6,
    "start_time": "2023-02-12T06:31:05.321Z"
   },
   {
    "duration": 6,
    "start_time": "2023-02-12T06:31:07.527Z"
   },
   {
    "duration": 6,
    "start_time": "2023-02-12T06:31:09.927Z"
   },
   {
    "duration": 1545,
    "start_time": "2023-02-12T06:36:39.798Z"
   },
   {
    "duration": 114,
    "start_time": "2023-02-12T06:36:41.345Z"
   },
   {
    "duration": 0,
    "start_time": "2023-02-12T06:36:41.461Z"
   },
   {
    "duration": 0,
    "start_time": "2023-02-12T06:36:41.462Z"
   },
   {
    "duration": 0,
    "start_time": "2023-02-12T06:36:41.463Z"
   },
   {
    "duration": 0,
    "start_time": "2023-02-12T06:36:41.464Z"
   },
   {
    "duration": 0,
    "start_time": "2023-02-12T06:36:41.465Z"
   },
   {
    "duration": 0,
    "start_time": "2023-02-12T06:36:41.466Z"
   },
   {
    "duration": 0,
    "start_time": "2023-02-12T06:36:41.467Z"
   },
   {
    "duration": 0,
    "start_time": "2023-02-12T06:36:41.468Z"
   },
   {
    "duration": 0,
    "start_time": "2023-02-12T06:36:41.469Z"
   },
   {
    "duration": 0,
    "start_time": "2023-02-12T06:36:41.469Z"
   },
   {
    "duration": 0,
    "start_time": "2023-02-12T06:36:41.470Z"
   },
   {
    "duration": 0,
    "start_time": "2023-02-12T06:36:41.471Z"
   },
   {
    "duration": 0,
    "start_time": "2023-02-12T06:36:41.472Z"
   },
   {
    "duration": 0,
    "start_time": "2023-02-12T06:36:41.491Z"
   },
   {
    "duration": 0,
    "start_time": "2023-02-12T06:36:41.492Z"
   },
   {
    "duration": 0,
    "start_time": "2023-02-12T06:36:41.493Z"
   },
   {
    "duration": 0,
    "start_time": "2023-02-12T06:36:41.494Z"
   },
   {
    "duration": 0,
    "start_time": "2023-02-12T06:36:41.495Z"
   },
   {
    "duration": 0,
    "start_time": "2023-02-12T06:36:41.496Z"
   }
  ],
  "kernelspec": {
   "display_name": "Python 3 (ipykernel)",
   "language": "python",
   "name": "python3"
  },
  "language_info": {
   "codemirror_mode": {
    "name": "ipython",
    "version": 3
   },
   "file_extension": ".py",
   "mimetype": "text/x-python",
   "name": "python",
   "nbconvert_exporter": "python",
   "pygments_lexer": "ipython3",
   "version": "3.9.13"
  },
  "toc": {
   "base_numbering": 1,
   "nav_menu": {},
   "number_sections": true,
   "sideBar": true,
   "skip_h1_title": true,
   "title_cell": "Table of Contents",
   "title_sidebar": "Contents",
   "toc_cell": false,
   "toc_position": {},
   "toc_section_display": true,
   "toc_window_display": true
  }
 },
 "nbformat": 4,
 "nbformat_minor": 5
}
