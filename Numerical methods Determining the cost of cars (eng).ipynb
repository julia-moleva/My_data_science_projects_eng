{
 "cells": [
  {
   "cell_type": "markdown",
   "metadata": {},
   "source": [
    "# Determining the value of automobiles"
   ]
  },
  {
   "cell_type": "markdown",
   "metadata": {},
   "source": [
    "The \"Belka car\" used car sales service is developing an application to attract new customers. In it you can quickly find out the market value of your car. You have historical data at your disposal: technical characteristics, equipment and prices of cars. You need to build a model to determine the value. \n",
    "\n",
    "**The customer cares about:**\n",
    "- prediction quality;\n",
    "- prediction speed;\n",
    "- learning time.\n",
    "\n",
    "**Data description**.\n",
    "- DateCrawled - date the questionnaire was downloaded from the database;\n",
    "- VehicleType - type of car body;\n",
    "- RegistrationYear - year of vehicle registration;\n",
    "- Gearbox - type of gearbox;\n",
    "- Power - power (hp);\n",
    "- Model - vehicle model;\n",
    "- Kilometer - mileage (km);\n",
    "- RegistrationMonth - month when the vehicle was registered;\n",
    "- FuelType - fuel type;\n",
    "- Brand - brand of the car;\n",
    "- Repaired - if the car was repaired or not;\n",
    "- DateCreated - date of questionnaire creation;\n",
    "- NumberOfPictures - number of pictures of the car;\n",
    "- PostalCode - postal code of the questionnaire owner (user);\n",
    "- LastSeen - date of the last activity of the user.\n",
    "- Price - price (euros)"
   ]
  },
  {
   "cell_type": "markdown",
   "metadata": {},
   "source": [
    "<h1>Содержание<span class=\"tocSkip\"></span></h1>\n",
    "<div class=\"toc\"><ul class=\"toc-item\"><li><span><a href=\"#Data-preprocessing-данных\" data-toc-modified-id=\"Data-preprocessing-1\"><span class=\"toc-item-num\">1&nbsp;&nbsp;</span>Data preprocessing</a></span></li><li><span><a href=\"#Model-training\" data-toc-modified-id=\"Model-training-2\"><span class=\"toc-item-num\">2&nbsp;&nbsp;</span>Model training</a></span></li><li><span><a href=\"#Model-analysis\" data-toc-modified-id=\"Model-analysis\"><span class=\"toc-item-num\">3&nbsp;&nbsp;</span>Model analysis</a></span>"
   ]
  },
  {
   "cell_type": "markdown",
   "metadata": {},
   "source": [
    "## Data preprocessing"
   ]
  },
  {
   "cell_type": "markdown",
   "metadata": {},
   "source": [
    "Import pandas, numpy, and sklearn libraries for further work:"
   ]
  },
  {
   "cell_type": "code",
   "execution_count": 1,
   "metadata": {},
   "outputs": [],
   "source": [
    "import pandas as pd\n",
    "import numpy as np\n",
    "import seaborn as sns\n",
    "import matplotlib.pyplot as plt\n",
    "from sklearn.preprocessing import StandardScaler\n",
    "from sklearn.model_selection import train_test_split, cross_val_score, GridSearchCV\n",
    "from sklearn.linear_model import LinearRegression, Ridge, Lasso\n",
    "from sklearn.metrics import mean_squared_error\n",
    "import lightgbm"
   ]
  },
  {
   "cell_type": "markdown",
   "metadata": {},
   "source": [
    "Let's print the first 5 lines of the dataframe:"
   ]
  },
  {
   "cell_type": "code",
   "execution_count": 2,
   "metadata": {},
   "outputs": [
    {
     "data": {
      "text/html": [
       "<div>\n",
       "<style scoped>\n",
       "    .dataframe tbody tr th:only-of-type {\n",
       "        vertical-align: middle;\n",
       "    }\n",
       "\n",
       "    .dataframe tbody tr th {\n",
       "        vertical-align: top;\n",
       "    }\n",
       "\n",
       "    .dataframe thead th {\n",
       "        text-align: right;\n",
       "    }\n",
       "</style>\n",
       "<table border=\"1\" class=\"dataframe\">\n",
       "  <thead>\n",
       "    <tr style=\"text-align: right;\">\n",
       "      <th></th>\n",
       "      <th>DateCrawled</th>\n",
       "      <th>Price</th>\n",
       "      <th>VehicleType</th>\n",
       "      <th>RegistrationYear</th>\n",
       "      <th>Gearbox</th>\n",
       "      <th>Power</th>\n",
       "      <th>Model</th>\n",
       "      <th>Kilometer</th>\n",
       "      <th>RegistrationMonth</th>\n",
       "      <th>FuelType</th>\n",
       "      <th>Brand</th>\n",
       "      <th>Repaired</th>\n",
       "      <th>DateCreated</th>\n",
       "      <th>NumberOfPictures</th>\n",
       "      <th>PostalCode</th>\n",
       "      <th>LastSeen</th>\n",
       "    </tr>\n",
       "  </thead>\n",
       "  <tbody>\n",
       "    <tr>\n",
       "      <th>0</th>\n",
       "      <td>2016-03-24 11:52:17</td>\n",
       "      <td>480</td>\n",
       "      <td>NaN</td>\n",
       "      <td>1993</td>\n",
       "      <td>manual</td>\n",
       "      <td>0</td>\n",
       "      <td>golf</td>\n",
       "      <td>150000</td>\n",
       "      <td>0</td>\n",
       "      <td>petrol</td>\n",
       "      <td>volkswagen</td>\n",
       "      <td>NaN</td>\n",
       "      <td>2016-03-24 00:00:00</td>\n",
       "      <td>0</td>\n",
       "      <td>70435</td>\n",
       "      <td>2016-04-07 03:16:57</td>\n",
       "    </tr>\n",
       "    <tr>\n",
       "      <th>1</th>\n",
       "      <td>2016-03-24 10:58:45</td>\n",
       "      <td>18300</td>\n",
       "      <td>coupe</td>\n",
       "      <td>2011</td>\n",
       "      <td>manual</td>\n",
       "      <td>190</td>\n",
       "      <td>NaN</td>\n",
       "      <td>125000</td>\n",
       "      <td>5</td>\n",
       "      <td>gasoline</td>\n",
       "      <td>audi</td>\n",
       "      <td>yes</td>\n",
       "      <td>2016-03-24 00:00:00</td>\n",
       "      <td>0</td>\n",
       "      <td>66954</td>\n",
       "      <td>2016-04-07 01:46:50</td>\n",
       "    </tr>\n",
       "    <tr>\n",
       "      <th>2</th>\n",
       "      <td>2016-03-14 12:52:21</td>\n",
       "      <td>9800</td>\n",
       "      <td>suv</td>\n",
       "      <td>2004</td>\n",
       "      <td>auto</td>\n",
       "      <td>163</td>\n",
       "      <td>grand</td>\n",
       "      <td>125000</td>\n",
       "      <td>8</td>\n",
       "      <td>gasoline</td>\n",
       "      <td>jeep</td>\n",
       "      <td>NaN</td>\n",
       "      <td>2016-03-14 00:00:00</td>\n",
       "      <td>0</td>\n",
       "      <td>90480</td>\n",
       "      <td>2016-04-05 12:47:46</td>\n",
       "    </tr>\n",
       "    <tr>\n",
       "      <th>3</th>\n",
       "      <td>2016-03-17 16:54:04</td>\n",
       "      <td>1500</td>\n",
       "      <td>small</td>\n",
       "      <td>2001</td>\n",
       "      <td>manual</td>\n",
       "      <td>75</td>\n",
       "      <td>golf</td>\n",
       "      <td>150000</td>\n",
       "      <td>6</td>\n",
       "      <td>petrol</td>\n",
       "      <td>volkswagen</td>\n",
       "      <td>no</td>\n",
       "      <td>2016-03-17 00:00:00</td>\n",
       "      <td>0</td>\n",
       "      <td>91074</td>\n",
       "      <td>2016-03-17 17:40:17</td>\n",
       "    </tr>\n",
       "    <tr>\n",
       "      <th>4</th>\n",
       "      <td>2016-03-31 17:25:20</td>\n",
       "      <td>3600</td>\n",
       "      <td>small</td>\n",
       "      <td>2008</td>\n",
       "      <td>manual</td>\n",
       "      <td>69</td>\n",
       "      <td>fabia</td>\n",
       "      <td>90000</td>\n",
       "      <td>7</td>\n",
       "      <td>gasoline</td>\n",
       "      <td>skoda</td>\n",
       "      <td>no</td>\n",
       "      <td>2016-03-31 00:00:00</td>\n",
       "      <td>0</td>\n",
       "      <td>60437</td>\n",
       "      <td>2016-04-06 10:17:21</td>\n",
       "    </tr>\n",
       "  </tbody>\n",
       "</table>\n",
       "</div>"
      ],
      "text/plain": [
       "           DateCrawled  Price VehicleType  RegistrationYear Gearbox  Power  \\\n",
       "0  2016-03-24 11:52:17    480         NaN              1993  manual      0   \n",
       "1  2016-03-24 10:58:45  18300       coupe              2011  manual    190   \n",
       "2  2016-03-14 12:52:21   9800         suv              2004    auto    163   \n",
       "3  2016-03-17 16:54:04   1500       small              2001  manual     75   \n",
       "4  2016-03-31 17:25:20   3600       small              2008  manual     69   \n",
       "\n",
       "   Model  Kilometer  RegistrationMonth  FuelType       Brand Repaired  \\\n",
       "0   golf     150000                  0    petrol  volkswagen      NaN   \n",
       "1    NaN     125000                  5  gasoline        audi      yes   \n",
       "2  grand     125000                  8  gasoline        jeep      NaN   \n",
       "3   golf     150000                  6    petrol  volkswagen       no   \n",
       "4  fabia      90000                  7  gasoline       skoda       no   \n",
       "\n",
       "           DateCreated  NumberOfPictures  PostalCode             LastSeen  \n",
       "0  2016-03-24 00:00:00                 0       70435  2016-04-07 03:16:57  \n",
       "1  2016-03-24 00:00:00                 0       66954  2016-04-07 01:46:50  \n",
       "2  2016-03-14 00:00:00                 0       90480  2016-04-05 12:47:46  \n",
       "3  2016-03-17 00:00:00                 0       91074  2016-03-17 17:40:17  \n",
       "4  2016-03-31 00:00:00                 0       60437  2016-04-06 10:17:21  "
      ]
     },
     "execution_count": 2,
     "metadata": {},
     "output_type": "execute_result"
    }
   ],
   "source": [
    "try:\n",
    "    data = pd.read_csv(r'C:\\Users\\Julia\\Desktop\\DATA_SCIENCE\\Datasets\\autos.csv')\n",
    "except:\n",
    "    data = pd.read_csv('/datasets/autos.csv')\n",
    "    \n",
    "data.head()"
   ]
  },
  {
   "cell_type": "markdown",
   "metadata": {},
   "source": [
    "Check the data for duplicates, missing values, and display the statistical information of the dataframe using the `describe()` method:"
   ]
  },
  {
   "cell_type": "code",
   "execution_count": 3,
   "metadata": {},
   "outputs": [
    {
     "name": "stdout",
     "output_type": "stream",
     "text": [
      "Duplicates: 4\n",
      "\n",
      "Missing values:\n",
      " DateCrawled              0\n",
      "Price                    0\n",
      "VehicleType          37490\n",
      "RegistrationYear         0\n",
      "Gearbox              19833\n",
      "Power                    0\n",
      "Model                19705\n",
      "Kilometer                0\n",
      "RegistrationMonth        0\n",
      "FuelType             32895\n",
      "Brand                    0\n",
      "Repaired             71154\n",
      "DateCreated              0\n",
      "NumberOfPictures         0\n",
      "PostalCode               0\n",
      "LastSeen                 0\n",
      "dtype: int64\n",
      "\n",
      "Table size: (354369, 16)\n",
      "\n",
      "<class 'pandas.core.frame.DataFrame'>\n",
      "RangeIndex: 354369 entries, 0 to 354368\n",
      "Data columns (total 16 columns):\n",
      " #   Column             Non-Null Count   Dtype \n",
      "---  ------             --------------   ----- \n",
      " 0   DateCrawled        354369 non-null  object\n",
      " 1   Price              354369 non-null  int64 \n",
      " 2   VehicleType        316879 non-null  object\n",
      " 3   RegistrationYear   354369 non-null  int64 \n",
      " 4   Gearbox            334536 non-null  object\n",
      " 5   Power              354369 non-null  int64 \n",
      " 6   Model              334664 non-null  object\n",
      " 7   Kilometer          354369 non-null  int64 \n",
      " 8   RegistrationMonth  354369 non-null  int64 \n",
      " 9   FuelType           321474 non-null  object\n",
      " 10  Brand              354369 non-null  object\n",
      " 11  Repaired           283215 non-null  object\n",
      " 12  DateCreated        354369 non-null  object\n",
      " 13  NumberOfPictures   354369 non-null  int64 \n",
      " 14  PostalCode         354369 non-null  int64 \n",
      " 15  LastSeen           354369 non-null  object\n",
      "dtypes: int64(7), object(9)\n",
      "memory usage: 43.3+ MB\n"
     ]
    },
    {
     "data": {
      "text/html": [
       "<div>\n",
       "<style scoped>\n",
       "    .dataframe tbody tr th:only-of-type {\n",
       "        vertical-align: middle;\n",
       "    }\n",
       "\n",
       "    .dataframe tbody tr th {\n",
       "        vertical-align: top;\n",
       "    }\n",
       "\n",
       "    .dataframe thead th {\n",
       "        text-align: right;\n",
       "    }\n",
       "</style>\n",
       "<table border=\"1\" class=\"dataframe\">\n",
       "  <thead>\n",
       "    <tr style=\"text-align: right;\">\n",
       "      <th></th>\n",
       "      <th>Price</th>\n",
       "      <th>RegistrationYear</th>\n",
       "      <th>Power</th>\n",
       "      <th>Kilometer</th>\n",
       "      <th>RegistrationMonth</th>\n",
       "      <th>NumberOfPictures</th>\n",
       "      <th>PostalCode</th>\n",
       "    </tr>\n",
       "  </thead>\n",
       "  <tbody>\n",
       "    <tr>\n",
       "      <th>count</th>\n",
       "      <td>354369.000000</td>\n",
       "      <td>354369.000000</td>\n",
       "      <td>354369.000000</td>\n",
       "      <td>354369.000000</td>\n",
       "      <td>354369.000000</td>\n",
       "      <td>354369.0</td>\n",
       "      <td>354369.000000</td>\n",
       "    </tr>\n",
       "    <tr>\n",
       "      <th>mean</th>\n",
       "      <td>4416.656776</td>\n",
       "      <td>2004.234448</td>\n",
       "      <td>110.094337</td>\n",
       "      <td>128211.172535</td>\n",
       "      <td>5.714645</td>\n",
       "      <td>0.0</td>\n",
       "      <td>50508.689087</td>\n",
       "    </tr>\n",
       "    <tr>\n",
       "      <th>std</th>\n",
       "      <td>4514.158514</td>\n",
       "      <td>90.227958</td>\n",
       "      <td>189.850405</td>\n",
       "      <td>37905.341530</td>\n",
       "      <td>3.726421</td>\n",
       "      <td>0.0</td>\n",
       "      <td>25783.096248</td>\n",
       "    </tr>\n",
       "    <tr>\n",
       "      <th>min</th>\n",
       "      <td>0.000000</td>\n",
       "      <td>1000.000000</td>\n",
       "      <td>0.000000</td>\n",
       "      <td>5000.000000</td>\n",
       "      <td>0.000000</td>\n",
       "      <td>0.0</td>\n",
       "      <td>1067.000000</td>\n",
       "    </tr>\n",
       "    <tr>\n",
       "      <th>25%</th>\n",
       "      <td>1050.000000</td>\n",
       "      <td>1999.000000</td>\n",
       "      <td>69.000000</td>\n",
       "      <td>125000.000000</td>\n",
       "      <td>3.000000</td>\n",
       "      <td>0.0</td>\n",
       "      <td>30165.000000</td>\n",
       "    </tr>\n",
       "    <tr>\n",
       "      <th>50%</th>\n",
       "      <td>2700.000000</td>\n",
       "      <td>2003.000000</td>\n",
       "      <td>105.000000</td>\n",
       "      <td>150000.000000</td>\n",
       "      <td>6.000000</td>\n",
       "      <td>0.0</td>\n",
       "      <td>49413.000000</td>\n",
       "    </tr>\n",
       "    <tr>\n",
       "      <th>75%</th>\n",
       "      <td>6400.000000</td>\n",
       "      <td>2008.000000</td>\n",
       "      <td>143.000000</td>\n",
       "      <td>150000.000000</td>\n",
       "      <td>9.000000</td>\n",
       "      <td>0.0</td>\n",
       "      <td>71083.000000</td>\n",
       "    </tr>\n",
       "    <tr>\n",
       "      <th>max</th>\n",
       "      <td>20000.000000</td>\n",
       "      <td>9999.000000</td>\n",
       "      <td>20000.000000</td>\n",
       "      <td>150000.000000</td>\n",
       "      <td>12.000000</td>\n",
       "      <td>0.0</td>\n",
       "      <td>99998.000000</td>\n",
       "    </tr>\n",
       "  </tbody>\n",
       "</table>\n",
       "</div>"
      ],
      "text/plain": [
       "               Price  RegistrationYear          Power      Kilometer  \\\n",
       "count  354369.000000     354369.000000  354369.000000  354369.000000   \n",
       "mean     4416.656776       2004.234448     110.094337  128211.172535   \n",
       "std      4514.158514         90.227958     189.850405   37905.341530   \n",
       "min         0.000000       1000.000000       0.000000    5000.000000   \n",
       "25%      1050.000000       1999.000000      69.000000  125000.000000   \n",
       "50%      2700.000000       2003.000000     105.000000  150000.000000   \n",
       "75%      6400.000000       2008.000000     143.000000  150000.000000   \n",
       "max     20000.000000       9999.000000   20000.000000  150000.000000   \n",
       "\n",
       "       RegistrationMonth  NumberOfPictures     PostalCode  \n",
       "count      354369.000000          354369.0  354369.000000  \n",
       "mean            5.714645               0.0   50508.689087  \n",
       "std             3.726421               0.0   25783.096248  \n",
       "min             0.000000               0.0    1067.000000  \n",
       "25%             3.000000               0.0   30165.000000  \n",
       "50%             6.000000               0.0   49413.000000  \n",
       "75%             9.000000               0.0   71083.000000  \n",
       "max            12.000000               0.0   99998.000000  "
      ]
     },
     "execution_count": 3,
     "metadata": {},
     "output_type": "execute_result"
    }
   ],
   "source": [
    "def show (data):\n",
    "    print('Duplicates:', data.duplicated().sum())\n",
    "    print()\n",
    "    print('Missing values:\\n', data.isna().sum())\n",
    "    print()\n",
    "    print('Table size:', data.shape)\n",
    "    print()\n",
    "    data.info()\n",
    "    return data.describe()\n",
    "show(data)"
   ]
  },
  {
   "cell_type": "markdown",
   "metadata": {},
   "source": [
    "Four duplicates were found in the data, let's delete them and display the size of the resulting table:"
   ]
  },
  {
   "cell_type": "code",
   "execution_count": 4,
   "metadata": {},
   "outputs": [
    {
     "name": "stdout",
     "output_type": "stream",
     "text": [
      "Table size: (354365, 16)\n"
     ]
    }
   ],
   "source": [
    "data.drop_duplicates(inplace=True)\n",
    "data.reset_index(drop=True, inplace=True)\n",
    "print('Table size:', data.shape)"
   ]
  },
  {
   "cell_type": "markdown",
   "metadata": {},
   "source": [
    "Remove the `NumberOfPictures` and `PostalCode` features:"
   ]
  },
  {
   "cell_type": "code",
   "execution_count": 5,
   "metadata": {},
   "outputs": [],
   "source": [
    "data = data.drop(['NumberOfPictures', 'PostalCode'], axis=1)"
   ]
  },
  {
   "cell_type": "markdown",
   "metadata": {},
   "source": [
    "Let's take a closer look at the features with missing values and anomalies. First, let us check the feature `price`:"
   ]
  },
  {
   "cell_type": "code",
   "execution_count": 6,
   "metadata": {},
   "outputs": [
    {
     "name": "stdout",
     "output_type": "stream",
     "text": [
      "Number of ads with zero price: 10772\n"
     ]
    }
   ],
   "source": [
    "print('Number of ads with zero price:', len(data.loc[data['Price'] == 0]))"
   ]
  },
  {
   "cell_type": "markdown",
   "metadata": {},
   "source": [
    "The price can't be zero, maybe the sellers didn't put a price in the ad. We have no way to restore the target in these objects, let's delete them:"
   ]
  },
  {
   "cell_type": "code",
   "execution_count": 7,
   "metadata": {},
   "outputs": [],
   "source": [
    "data = data.loc[data['Price'] != 0]"
   ]
  },
  {
   "cell_type": "code",
   "execution_count": 8,
   "metadata": {},
   "outputs": [
    {
     "data": {
      "text/plain": [
       "count    343593.000000\n",
       "mean       4555.147363\n",
       "std        4515.076200\n",
       "min           1.000000\n",
       "25%        1200.000000\n",
       "50%        2890.000000\n",
       "75%        6500.000000\n",
       "max       20000.000000\n",
       "Name: Price, dtype: float64"
      ]
     },
     "metadata": {},
     "output_type": "display_data"
    },
    {
     "data": {
      "image/png": "[encoded data removed]",
      "text/plain": [
       "<Figure size 640x480 with 1 Axes>"
      ]
     },
     "metadata": {},
     "output_type": "display_data"
    }
   ],
   "source": [
    "data.boxplot(column=['Price'])\n",
    "plt.title('Boxplot Auto Price (euro)')\n",
    "plt.xlabel('euro')\n",
    "display(data['Price'].describe())\n",
    "plt.show()"
   ]
  },
  {
   "cell_type": "code",
   "execution_count": 9,
   "metadata": {},
   "outputs": [
    {
     "data": {
      "image/png": "[encoded data removed]",
      "text/plain": [
       "<Figure size 640x480 with 1 Axes>"
      ]
     },
     "metadata": {},
     "output_type": "display_data"
    }
   ],
   "source": [
    "data['Price'].hist(bins=50)\n",
    "plt.xlabel('Price euro')\n",
    "plt.ylabel('Count auto')\n",
    "plt.title('Histplot Auto Price (euro)')\n",
    "plt.show()"
   ]
  },
  {
   "cell_type": "markdown",
   "metadata": {},
   "source": [
    "From the data obtained, we conclude that abnormally high prices are in the range of 14,100 euros and above, and abnormally low prices from 1 to 1000 euros. Let us get rid of them:"
   ]
  },
  {
   "cell_type": "code",
   "execution_count": 10,
   "metadata": {},
   "outputs": [],
   "source": [
    "data = data.loc[data['Price'] >= 1000]\n",
    "data = data.loc[data['Price'] <= 14100]"
   ]
  },
  {
   "cell_type": "markdown",
   "metadata": {},
   "source": [
    "Let's check the `Model` feature for anomalies:"
   ]
  },
  {
   "cell_type": "code",
   "execution_count": 11,
   "metadata": {},
   "outputs": [
    {
     "name": "stdout",
     "output_type": "stream",
     "text": [
      "Number of ads with a blank model: 10794\n"
     ]
    }
   ],
   "source": [
    "print('Number of ads with a blank model:', len(data.loc[data['Model'].isna()]))"
   ]
  },
  {
   "cell_type": "markdown",
   "metadata": {},
   "source": [
    "The feature `Model` is one of the main for predicting the price, missing about 5% of the data, there is no way to recover these data correctly, replace them with 'unknown':"
   ]
  },
  {
   "cell_type": "code",
   "execution_count": 12,
   "metadata": {},
   "outputs": [],
   "source": [
    "data['Model'] = data['Model'].fillna('unknown')"
   ]
  },
  {
   "cell_type": "markdown",
   "metadata": {},
   "source": [
    "Check the `power` feature for anomalies:"
   ]
  },
  {
   "cell_type": "code",
   "execution_count": 13,
   "metadata": {},
   "outputs": [
    {
     "data": {
      "text/plain": [
       "count    251415.000000\n",
       "mean        116.942414\n",
       "std         195.569344\n",
       "min           0.000000\n",
       "25%          75.000000\n",
       "50%         110.000000\n",
       "75%         147.000000\n",
       "max       20000.000000\n",
       "Name: Power, dtype: float64"
      ]
     },
     "metadata": {},
     "output_type": "display_data"
    },
    {
     "data": {
      "image/png": "[encoded data removed]",
      "text/plain": [
       "<Figure size 640x480 with 1 Axes>"
      ]
     },
     "metadata": {},
     "output_type": "display_data"
    }
   ],
   "source": [
    "data.boxplot(column=['Power'])\n",
    "plt.title('Boxplot Auto Power (horsepower)')\n",
    "plt.xlabel('horsepower')\n",
    "display(data['Power'].describe())\n",
    "plt.show()"
   ]
  },
  {
   "cell_type": "code",
   "execution_count": 14,
   "metadata": {},
   "outputs": [
    {
     "name": "stdout",
     "output_type": "stream",
     "text": [
      "Number of cars with power > 1000 hp.: 0.08074299465027941\n",
      "Number of cars with power 0 hp.: 8.114472087982023\n"
     ]
    }
   ],
   "source": [
    "print('Number of cars with power > 1000 hp.:', len(data.loc[(data['Power'] > 1000)]) /len(data)*100)\n",
    "print('Number of cars with power 0 hp.:', len(data.loc[(data['Power'] ==0) | (data['Power'] == 0)])/len(data)*100)"
   ]
  },
  {
   "cell_type": "markdown",
   "metadata": {},
   "source": [
    "Objects with more than 1000 hp can be deleted, because they constitute a small part of the data (0.08%). But there are a lot of objects with zero power (8.1%), probably in this way the gaps are filled. Deletion of such amount of data is undesirable, but the feature is important enough, and the qualitative recovery on the basis of available data is impossible."
   ]
  },
  {
   "cell_type": "code",
   "execution_count": 15,
   "metadata": {},
   "outputs": [],
   "source": [
    "data = data[(data['Power'] <= 1000) & (data['Power'] > 0)]"
   ]
  },
  {
   "cell_type": "markdown",
   "metadata": {},
   "source": [
    "The `DateCreated` and `LastSeen` features do not affect the price and are not needed for further analysis, so we remove them:"
   ]
  },
  {
   "cell_type": "code",
   "execution_count": 16,
   "metadata": {},
   "outputs": [],
   "source": [
    "data = data.drop(['DateCreated', 'LastSeen'], axis=1)"
   ]
  },
  {
   "cell_type": "markdown",
   "metadata": {},
   "source": [
    "Check the `RegistrationYear` feature:"
   ]
  },
  {
   "cell_type": "code",
   "execution_count": 17,
   "metadata": {},
   "outputs": [
    {
     "data": {
      "text/plain": [
       "array([1000, 1234, 1500, 1800, 1910, 1923, 1928, 1929, 1930, 1931, 1935,\n",
       "       1937, 1938, 1941, 1942, 1943, 1945, 1948, 1949, 1950, 1951, 1952,\n",
       "       1953, 1954, 1955, 1956, 1957, 1958, 1959, 1960, 1961, 1962, 1963,\n",
       "       1964, 1965, 1966, 1967, 1968, 1969, 1970, 1971, 1972, 1973, 1974,\n",
       "       1975, 1976, 1977, 1978, 1979, 1980, 1981, 1982, 1983, 1984, 1985,\n",
       "       1986, 1987, 1988, 1989, 1990, 1991, 1992, 1993, 1994, 1995, 1996,\n",
       "       1997, 1998, 1999, 2000, 2001, 2002, 2003, 2004, 2005, 2006, 2007,\n",
       "       2008, 2009, 2010, 2011, 2012, 2013, 2014, 2015, 2016, 2017, 2018,\n",
       "       2019, 2800, 2900, 3000, 4000, 4500, 5000, 5911, 6000, 9999],\n",
       "      dtype=int64)"
      ]
     },
     "execution_count": 17,
     "metadata": {},
     "output_type": "execute_result"
    }
   ],
   "source": [
    "data['RegistrationYear'].sort_values().unique()"
   ]
  },
  {
   "cell_type": "markdown",
   "metadata": {},
   "source": [
    "The data contain obviously erroneous values, let's remove ads with the year of registration before 1910 and after 2019, checking beforehand how many such ads are contained in the feature:"
   ]
  },
  {
   "cell_type": "code",
   "execution_count": 18,
   "metadata": {},
   "outputs": [],
   "source": [
    "registration_min = data[(data['RegistrationYear'] > 2020)]\n",
    "registration_max = data[(data['RegistrationYear'] < 1922)]"
   ]
  },
  {
   "cell_type": "code",
   "execution_count": 19,
   "metadata": {},
   "outputs": [
    {
     "name": "stdout",
     "output_type": "stream",
     "text": [
      "Number of ads with the date of registration of the car later than 2020 16\n",
      "Number of announcements with registration date earlier than 1922 10\n"
     ]
    }
   ],
   "source": [
    "print('Number of ads with the date of registration of the car later than 2020', registration_min['RegistrationYear'].count())\n",
    "print('Number of announcements with registration date earlier than 1922', registration_max['RegistrationYear'].count())"
   ]
  },
  {
   "cell_type": "markdown",
   "metadata": {},
   "source": [
    "Ads containing the wrong date of registration of the car are 111 pcs, let's delete them:"
   ]
  },
  {
   "cell_type": "code",
   "execution_count": 20,
   "metadata": {},
   "outputs": [],
   "source": [
    "data = data[(data['RegistrationYear'] <= 2020) & (data['RegistrationYear'] >= 1922)]"
   ]
  },
  {
   "cell_type": "markdown",
   "metadata": {},
   "source": [
    "Let's check how many objects with the date of registration later than the date of downloading the questionnaire:"
   ]
  },
  {
   "cell_type": "code",
   "execution_count": 21,
   "metadata": {},
   "outputs": [
    {
     "data": {
      "text/plain": [
       "3.438265051888121"
      ]
     },
     "execution_count": 21,
     "metadata": {},
     "output_type": "execute_result"
    }
   ],
   "source": [
    "data['DateCrawled'] = pd.to_datetime(data['DateCrawled'], format='%Y-%m-%d %H:%M:%S')\n",
    "data[data['RegistrationYear'] > data['DateCrawled'].dt.year]['Price'].count() / data.shape[0] * 100"
   ]
  },
  {
   "cell_type": "markdown",
   "metadata": {},
   "source": [
    "The data on the date of registration that exceeds the date of download is 4%. Let's delete them and then remove the `DateCrawled` feature, it does not affect the price of the car:"
   ]
  },
  {
   "cell_type": "code",
   "execution_count": 22,
   "metadata": {},
   "outputs": [],
   "source": [
    "data = data[~(data['RegistrationYear'] > data['DateCrawled'].dt.year)]\n",
    "data = data.drop('DateCrawled', axis=1)"
   ]
  },
  {
   "cell_type": "markdown",
   "metadata": {},
   "source": [
    "The technical parameters of the features `VehicleType`, `Gearbox`, `FuelType` are most likely the same in the same car models, so let's fill in the blanks with the most common values for the same model:"
   ]
  },
  {
   "cell_type": "code",
   "execution_count": 23,
   "metadata": {},
   "outputs": [],
   "source": [
    "data['VehicleType'] = data['VehicleType'].fillna(data.groupby('Model')['VehicleType'].transform(lambda x: x.value_counts()\n",
    "                                                                                                .idxmax()))\n",
    "data['Gearbox'] = data['Gearbox'].fillna(data.groupby('Model')['VehicleType'].transform(lambda x: x.value_counts().idxmax()))\n",
    "data['FuelType'] = data['FuelType'].fillna(data.groupby('Model')['VehicleType'].transform(lambda x: x.value_counts().idxmax()))"
   ]
  },
  {
   "cell_type": "markdown",
   "metadata": {},
   "source": [
    "Let's replace the missing values in the `Repaired` feature with 'unknown', because it is impossible to restore the information about whether the machine was repaired or not, and there are too many missing values to get rid of:"
   ]
  },
  {
   "cell_type": "code",
   "execution_count": 24,
   "metadata": {},
   "outputs": [],
   "source": [
    "data['Repaired'] = data['Repaired'].fillna('unknown')\n",
    "data.reset_index(drop=True, inplace=True)"
   ]
  },
  {
   "cell_type": "markdown",
   "metadata": {},
   "source": [
    "Let's look at the resulting table and see if there are any missing values:"
   ]
  },
  {
   "cell_type": "code",
   "execution_count": 25,
   "metadata": {},
   "outputs": [
    {
     "name": "stdout",
     "output_type": "stream",
     "text": [
      "Missing values:\n",
      " Price                0\n",
      "VehicleType          0\n",
      "RegistrationYear     0\n",
      "Gearbox              0\n",
      "Power                0\n",
      "Model                0\n",
      "Kilometer            0\n",
      "RegistrationMonth    0\n",
      "FuelType             0\n",
      "Brand                0\n",
      "Repaired             0\n",
      "dtype: int64\n",
      "\n"
     ]
    },
    {
     "data": {
      "text/html": [
       "<div>\n",
       "<style scoped>\n",
       "    .dataframe tbody tr th:only-of-type {\n",
       "        vertical-align: middle;\n",
       "    }\n",
       "\n",
       "    .dataframe tbody tr th {\n",
       "        vertical-align: top;\n",
       "    }\n",
       "\n",
       "    .dataframe thead th {\n",
       "        text-align: right;\n",
       "    }\n",
       "</style>\n",
       "<table border=\"1\" class=\"dataframe\">\n",
       "  <thead>\n",
       "    <tr style=\"text-align: right;\">\n",
       "      <th></th>\n",
       "      <th>Price</th>\n",
       "      <th>VehicleType</th>\n",
       "      <th>RegistrationYear</th>\n",
       "      <th>Gearbox</th>\n",
       "      <th>Power</th>\n",
       "      <th>Model</th>\n",
       "      <th>Kilometer</th>\n",
       "      <th>RegistrationMonth</th>\n",
       "      <th>FuelType</th>\n",
       "      <th>Brand</th>\n",
       "      <th>Repaired</th>\n",
       "    </tr>\n",
       "  </thead>\n",
       "  <tbody>\n",
       "    <tr>\n",
       "      <th>0</th>\n",
       "      <td>9800</td>\n",
       "      <td>suv</td>\n",
       "      <td>2004</td>\n",
       "      <td>auto</td>\n",
       "      <td>163</td>\n",
       "      <td>grand</td>\n",
       "      <td>125000</td>\n",
       "      <td>8</td>\n",
       "      <td>gasoline</td>\n",
       "      <td>jeep</td>\n",
       "      <td>unknown</td>\n",
       "    </tr>\n",
       "    <tr>\n",
       "      <th>1</th>\n",
       "      <td>1500</td>\n",
       "      <td>small</td>\n",
       "      <td>2001</td>\n",
       "      <td>manual</td>\n",
       "      <td>75</td>\n",
       "      <td>golf</td>\n",
       "      <td>150000</td>\n",
       "      <td>6</td>\n",
       "      <td>petrol</td>\n",
       "      <td>volkswagen</td>\n",
       "      <td>no</td>\n",
       "    </tr>\n",
       "    <tr>\n",
       "      <th>2</th>\n",
       "      <td>3600</td>\n",
       "      <td>small</td>\n",
       "      <td>2008</td>\n",
       "      <td>manual</td>\n",
       "      <td>69</td>\n",
       "      <td>fabia</td>\n",
       "      <td>90000</td>\n",
       "      <td>7</td>\n",
       "      <td>gasoline</td>\n",
       "      <td>skoda</td>\n",
       "      <td>no</td>\n",
       "    </tr>\n",
       "    <tr>\n",
       "      <th>3</th>\n",
       "      <td>2200</td>\n",
       "      <td>convertible</td>\n",
       "      <td>2004</td>\n",
       "      <td>manual</td>\n",
       "      <td>109</td>\n",
       "      <td>2_reihe</td>\n",
       "      <td>150000</td>\n",
       "      <td>8</td>\n",
       "      <td>petrol</td>\n",
       "      <td>peugeot</td>\n",
       "      <td>no</td>\n",
       "    </tr>\n",
       "    <tr>\n",
       "      <th>4</th>\n",
       "      <td>2000</td>\n",
       "      <td>sedan</td>\n",
       "      <td>2004</td>\n",
       "      <td>manual</td>\n",
       "      <td>105</td>\n",
       "      <td>3_reihe</td>\n",
       "      <td>150000</td>\n",
       "      <td>12</td>\n",
       "      <td>petrol</td>\n",
       "      <td>mazda</td>\n",
       "      <td>no</td>\n",
       "    </tr>\n",
       "  </tbody>\n",
       "</table>\n",
       "</div>"
      ],
      "text/plain": [
       "   Price  VehicleType  RegistrationYear Gearbox  Power    Model  Kilometer  \\\n",
       "0   9800          suv              2004    auto    163    grand     125000   \n",
       "1   1500        small              2001  manual     75     golf     150000   \n",
       "2   3600        small              2008  manual     69    fabia      90000   \n",
       "3   2200  convertible              2004  manual    109  2_reihe     150000   \n",
       "4   2000        sedan              2004  manual    105  3_reihe     150000   \n",
       "\n",
       "   RegistrationMonth  FuelType       Brand Repaired  \n",
       "0                  8  gasoline        jeep  unknown  \n",
       "1                  6    petrol  volkswagen       no  \n",
       "2                  7  gasoline       skoda       no  \n",
       "3                  8    petrol     peugeot       no  \n",
       "4                 12    petrol       mazda       no  "
      ]
     },
     "execution_count": 25,
     "metadata": {},
     "output_type": "execute_result"
    }
   ],
   "source": [
    "print('Missing values:\\n', data.isna().sum())\n",
    "print()\n",
    "data.head()"
   ]
  },
  {
   "cell_type": "markdown",
   "metadata": {},
   "source": [
    "After making adjustments at the preprocessing stage, let's check how the numerical features correlate with each other:"
   ]
  },
  {
   "cell_type": "code",
   "execution_count": 26,
   "metadata": {},
   "outputs": [
    {
     "data": {
      "image/png": "[encoded data removed]",
      "text/plain": [
       "<Figure size 640x480 with 2 Axes>"
      ]
     },
     "metadata": {},
     "output_type": "display_data"
    }
   ],
   "source": [
    "sns.heatmap(data.corr(), annot=True, fmt='.3f', linewidth=.5, cmap='crest')\n",
    "plt.title('Correlation Heatmap')\n",
    "plt.show()"
   ]
  },
  {
   "cell_type": "markdown",
   "metadata": {},
   "source": [
    "Most of all, the price is affected by the power of the car and the year of registration, the dependence is direct: the higher these indicators, the higher the price. Also the mileage of the car affects the price, here we see the opposite dependence: the higher the mileage, the lower the cost of the car. The data look logical."
   ]
  },
  {
   "cell_type": "markdown",
   "metadata": {},
   "source": [
    "**Conclusion:**\n",
    "- imported pandas, numpy and sklearn libraries for further work and examined the data\n",
    "- we detected and removed duplicates; we also replaced the values with the correct ones and if they could not be restored, removed the listings with the missing values\n",
    "- abnormal values in features 'Price' and 'RegistrationYear' were detected and removed\n",
    "- The technical parameters of the features 'VehicleType', 'Gearbox', 'FuelType' are likely to coincide in identical models of cars, so we filled the gaps with the most frequently occurring values for the same model\n",
    "- After the adjustments made at the preprocessing stage, we checked how the features correlate to each other and found that the price is most influenced by the power of the car and the year of registration, the relationship is direct: the higher these figures are, the higher the price. Also, the mileage affects the price - here we see the inverse dependence: the higher the mileage, the lower the price of the car. The data look logical."
   ]
  },
  {
   "cell_type": "markdown",
   "metadata": {},
   "source": [
    "## Model training"
   ]
  },
  {
   "cell_type": "markdown",
   "metadata": {},
   "source": [
    "The features `VehicleType`, `Gearbox`, `FuelType`, `Repaired`, `Brand`, and `Model` will be encoded by direct encoding:"
   ]
  },
  {
   "cell_type": "code",
   "execution_count": 27,
   "metadata": {},
   "outputs": [],
   "source": [
    "def get_dummies_func(data, column, prefix):\n",
    "    df = pd.get_dummies(data[column], prefix=prefix, drop_first=True)\n",
    "    data = data.drop(column, axis=1)\n",
    "    return data.join(df)"
   ]
  },
  {
   "cell_type": "code",
   "execution_count": 28,
   "metadata": {
    "scrolled": true
   },
   "outputs": [
    {
     "data": {
      "text/html": [
       "<div>\n",
       "<style scoped>\n",
       "    .dataframe tbody tr th:only-of-type {\n",
       "        vertical-align: middle;\n",
       "    }\n",
       "\n",
       "    .dataframe tbody tr th {\n",
       "        vertical-align: top;\n",
       "    }\n",
       "\n",
       "    .dataframe thead th {\n",
       "        text-align: right;\n",
       "    }\n",
       "</style>\n",
       "<table border=\"1\" class=\"dataframe\">\n",
       "  <thead>\n",
       "    <tr style=\"text-align: right;\">\n",
       "      <th></th>\n",
       "      <th>Price</th>\n",
       "      <th>RegistrationYear</th>\n",
       "      <th>Power</th>\n",
       "      <th>Kilometer</th>\n",
       "      <th>RegistrationMonth</th>\n",
       "      <th>VType_convertible</th>\n",
       "      <th>VType_coupe</th>\n",
       "      <th>VType_other</th>\n",
       "      <th>VType_sedan</th>\n",
       "      <th>VType_small</th>\n",
       "      <th>...</th>\n",
       "      <th>Model_wrangler</th>\n",
       "      <th>Model_x_reihe</th>\n",
       "      <th>Model_x_trail</th>\n",
       "      <th>Model_x_type</th>\n",
       "      <th>Model_xc_reihe</th>\n",
       "      <th>Model_yaris</th>\n",
       "      <th>Model_yeti</th>\n",
       "      <th>Model_ypsilon</th>\n",
       "      <th>Model_z_reihe</th>\n",
       "      <th>Model_zafira</th>\n",
       "    </tr>\n",
       "  </thead>\n",
       "  <tbody>\n",
       "    <tr>\n",
       "      <th>222845</th>\n",
       "      <td>5250</td>\n",
       "      <td>2016</td>\n",
       "      <td>150</td>\n",
       "      <td>150000</td>\n",
       "      <td>12</td>\n",
       "      <td>0</td>\n",
       "      <td>0</td>\n",
       "      <td>0</td>\n",
       "      <td>0</td>\n",
       "      <td>0</td>\n",
       "      <td>...</td>\n",
       "      <td>0</td>\n",
       "      <td>0</td>\n",
       "      <td>0</td>\n",
       "      <td>0</td>\n",
       "      <td>0</td>\n",
       "      <td>0</td>\n",
       "      <td>0</td>\n",
       "      <td>0</td>\n",
       "      <td>0</td>\n",
       "      <td>0</td>\n",
       "    </tr>\n",
       "    <tr>\n",
       "      <th>222846</th>\n",
       "      <td>3200</td>\n",
       "      <td>2004</td>\n",
       "      <td>225</td>\n",
       "      <td>150000</td>\n",
       "      <td>5</td>\n",
       "      <td>0</td>\n",
       "      <td>0</td>\n",
       "      <td>0</td>\n",
       "      <td>1</td>\n",
       "      <td>0</td>\n",
       "      <td>...</td>\n",
       "      <td>0</td>\n",
       "      <td>0</td>\n",
       "      <td>0</td>\n",
       "      <td>0</td>\n",
       "      <td>0</td>\n",
       "      <td>0</td>\n",
       "      <td>0</td>\n",
       "      <td>0</td>\n",
       "      <td>0</td>\n",
       "      <td>0</td>\n",
       "    </tr>\n",
       "    <tr>\n",
       "      <th>222847</th>\n",
       "      <td>1199</td>\n",
       "      <td>2000</td>\n",
       "      <td>101</td>\n",
       "      <td>125000</td>\n",
       "      <td>3</td>\n",
       "      <td>1</td>\n",
       "      <td>0</td>\n",
       "      <td>0</td>\n",
       "      <td>0</td>\n",
       "      <td>0</td>\n",
       "      <td>...</td>\n",
       "      <td>0</td>\n",
       "      <td>0</td>\n",
       "      <td>0</td>\n",
       "      <td>0</td>\n",
       "      <td>0</td>\n",
       "      <td>0</td>\n",
       "      <td>0</td>\n",
       "      <td>0</td>\n",
       "      <td>0</td>\n",
       "      <td>0</td>\n",
       "    </tr>\n",
       "    <tr>\n",
       "      <th>222848</th>\n",
       "      <td>9200</td>\n",
       "      <td>1996</td>\n",
       "      <td>102</td>\n",
       "      <td>150000</td>\n",
       "      <td>3</td>\n",
       "      <td>0</td>\n",
       "      <td>0</td>\n",
       "      <td>0</td>\n",
       "      <td>0</td>\n",
       "      <td>0</td>\n",
       "      <td>...</td>\n",
       "      <td>0</td>\n",
       "      <td>0</td>\n",
       "      <td>0</td>\n",
       "      <td>0</td>\n",
       "      <td>0</td>\n",
       "      <td>0</td>\n",
       "      <td>0</td>\n",
       "      <td>0</td>\n",
       "      <td>0</td>\n",
       "      <td>0</td>\n",
       "    </tr>\n",
       "    <tr>\n",
       "      <th>222849</th>\n",
       "      <td>3400</td>\n",
       "      <td>2002</td>\n",
       "      <td>100</td>\n",
       "      <td>150000</td>\n",
       "      <td>6</td>\n",
       "      <td>0</td>\n",
       "      <td>0</td>\n",
       "      <td>0</td>\n",
       "      <td>0</td>\n",
       "      <td>0</td>\n",
       "      <td>...</td>\n",
       "      <td>0</td>\n",
       "      <td>0</td>\n",
       "      <td>0</td>\n",
       "      <td>0</td>\n",
       "      <td>0</td>\n",
       "      <td>0</td>\n",
       "      <td>0</td>\n",
       "      <td>0</td>\n",
       "      <td>0</td>\n",
       "      <td>0</td>\n",
       "    </tr>\n",
       "  </tbody>\n",
       "</table>\n",
       "<p>5 rows × 323 columns</p>\n",
       "</div>"
      ],
      "text/plain": [
       "        Price  RegistrationYear  Power  Kilometer  RegistrationMonth  \\\n",
       "222845   5250              2016    150     150000                 12   \n",
       "222846   3200              2004    225     150000                  5   \n",
       "222847   1199              2000    101     125000                  3   \n",
       "222848   9200              1996    102     150000                  3   \n",
       "222849   3400              2002    100     150000                  6   \n",
       "\n",
       "        VType_convertible  VType_coupe  VType_other  VType_sedan  VType_small  \\\n",
       "222845                  0            0            0            0            0   \n",
       "222846                  0            0            0            1            0   \n",
       "222847                  1            0            0            0            0   \n",
       "222848                  0            0            0            0            0   \n",
       "222849                  0            0            0            0            0   \n",
       "\n",
       "        ...  Model_wrangler  Model_x_reihe  Model_x_trail  Model_x_type  \\\n",
       "222845  ...               0              0              0             0   \n",
       "222846  ...               0              0              0             0   \n",
       "222847  ...               0              0              0             0   \n",
       "222848  ...               0              0              0             0   \n",
       "222849  ...               0              0              0             0   \n",
       "\n",
       "        Model_xc_reihe  Model_yaris  Model_yeti  Model_ypsilon  Model_z_reihe  \\\n",
       "222845               0            0           0              0              0   \n",
       "222846               0            0           0              0              0   \n",
       "222847               0            0           0              0              0   \n",
       "222848               0            0           0              0              0   \n",
       "222849               0            0           0              0              0   \n",
       "\n",
       "        Model_zafira  \n",
       "222845             0  \n",
       "222846             0  \n",
       "222847             0  \n",
       "222848             0  \n",
       "222849             0  \n",
       "\n",
       "[5 rows x 323 columns]"
      ]
     },
     "execution_count": 28,
     "metadata": {},
     "output_type": "execute_result"
    }
   ],
   "source": [
    "data_coded = data\n",
    "data_coded = get_dummies_func(data_coded, 'VehicleType', 'VType')\n",
    "data_coded = get_dummies_func(data_coded, 'Gearbox', 'Gear')\n",
    "data_coded = get_dummies_func(data_coded, 'FuelType', 'Fuel')\n",
    "data_coded = get_dummies_func(data_coded, 'Repaired', 'Repair')\n",
    "data_coded = get_dummies_func(data_coded, 'Brand', 'Brand')\n",
    "data_coded = get_dummies_func(data_coded, 'Model', 'Model')\n",
    "data_coded.tail(5)"
   ]
  },
  {
   "cell_type": "markdown",
   "metadata": {},
   "source": [
    "Let's save the features and the target feature in the `features` and `target` variables and divide the sample into the training and test samples at a ratio of 4:1:"
   ]
  },
  {
   "cell_type": "code",
   "execution_count": 29,
   "metadata": {},
   "outputs": [
    {
     "name": "stdout",
     "output_type": "stream",
     "text": [
      "The size of the training sample: 80%\n",
      "The size of the test sample: 20%\n"
     ]
    }
   ],
   "source": [
    "features = data_coded.drop('Price',axis=1)\n",
    "target = data_coded['Price']\n",
    "features_train, features_test, target_train, target_test = train_test_split(features, target, test_size = 0.2,\n",
    "                                                                            random_state=12345)\n",
    "print(f'The size of the training sample: {len (features_train) / len(data_coded):.0%}')\n",
    "print(f'The size of the test sample: {len (features_test) / len(data_coded):.0%}')"
   ]
  },
  {
   "cell_type": "markdown",
   "metadata": {},
   "source": [
    "Let us scale the features to a standard normal distribution using the StandardScaler method of the sklearn library:"
   ]
  },
  {
   "cell_type": "code",
   "execution_count": 30,
   "metadata": {},
   "outputs": [
    {
     "data": {
      "text/html": [
       "<div>\n",
       "<style scoped>\n",
       "    .dataframe tbody tr th:only-of-type {\n",
       "        vertical-align: middle;\n",
       "    }\n",
       "\n",
       "    .dataframe tbody tr th {\n",
       "        vertical-align: top;\n",
       "    }\n",
       "\n",
       "    .dataframe thead th {\n",
       "        text-align: right;\n",
       "    }\n",
       "</style>\n",
       "<table border=\"1\" class=\"dataframe\">\n",
       "  <thead>\n",
       "    <tr style=\"text-align: right;\">\n",
       "      <th></th>\n",
       "      <th>RegistrationYear</th>\n",
       "      <th>Power</th>\n",
       "      <th>Kilometer</th>\n",
       "      <th>RegistrationMonth</th>\n",
       "      <th>VType_convertible</th>\n",
       "      <th>VType_coupe</th>\n",
       "      <th>VType_other</th>\n",
       "      <th>VType_sedan</th>\n",
       "      <th>VType_small</th>\n",
       "      <th>VType_suv</th>\n",
       "      <th>...</th>\n",
       "      <th>Model_wrangler</th>\n",
       "      <th>Model_x_reihe</th>\n",
       "      <th>Model_x_trail</th>\n",
       "      <th>Model_x_type</th>\n",
       "      <th>Model_xc_reihe</th>\n",
       "      <th>Model_yaris</th>\n",
       "      <th>Model_yeti</th>\n",
       "      <th>Model_ypsilon</th>\n",
       "      <th>Model_z_reihe</th>\n",
       "      <th>Model_zafira</th>\n",
       "    </tr>\n",
       "  </thead>\n",
       "  <tbody>\n",
       "    <tr>\n",
       "      <th>17419</th>\n",
       "      <td>1.078927</td>\n",
       "      <td>0.318874</td>\n",
       "      <td>-0.783703</td>\n",
       "      <td>-0.602947</td>\n",
       "      <td>0</td>\n",
       "      <td>0</td>\n",
       "      <td>0</td>\n",
       "      <td>0</td>\n",
       "      <td>0</td>\n",
       "      <td>0</td>\n",
       "      <td>...</td>\n",
       "      <td>0</td>\n",
       "      <td>0</td>\n",
       "      <td>0</td>\n",
       "      <td>0</td>\n",
       "      <td>0</td>\n",
       "      <td>0</td>\n",
       "      <td>0</td>\n",
       "      <td>0</td>\n",
       "      <td>0</td>\n",
       "      <td>0</td>\n",
       "    </tr>\n",
       "    <tr>\n",
       "      <th>94759</th>\n",
       "      <td>0.753246</td>\n",
       "      <td>-0.072191</td>\n",
       "      <td>-0.089635</td>\n",
       "      <td>0.812404</td>\n",
       "      <td>0</td>\n",
       "      <td>0</td>\n",
       "      <td>0</td>\n",
       "      <td>0</td>\n",
       "      <td>0</td>\n",
       "      <td>0</td>\n",
       "      <td>...</td>\n",
       "      <td>0</td>\n",
       "      <td>0</td>\n",
       "      <td>0</td>\n",
       "      <td>0</td>\n",
       "      <td>0</td>\n",
       "      <td>0</td>\n",
       "      <td>0</td>\n",
       "      <td>0</td>\n",
       "      <td>0</td>\n",
       "      <td>0</td>\n",
       "    </tr>\n",
       "    <tr>\n",
       "      <th>72049</th>\n",
       "      <td>-1.037997</td>\n",
       "      <td>-1.245385</td>\n",
       "      <td>0.604432</td>\n",
       "      <td>-0.602947</td>\n",
       "      <td>0</td>\n",
       "      <td>0</td>\n",
       "      <td>0</td>\n",
       "      <td>0</td>\n",
       "      <td>1</td>\n",
       "      <td>0</td>\n",
       "      <td>...</td>\n",
       "      <td>0</td>\n",
       "      <td>0</td>\n",
       "      <td>0</td>\n",
       "      <td>0</td>\n",
       "      <td>0</td>\n",
       "      <td>0</td>\n",
       "      <td>0</td>\n",
       "      <td>0</td>\n",
       "      <td>0</td>\n",
       "      <td>0</td>\n",
       "    </tr>\n",
       "    <tr>\n",
       "      <th>169908</th>\n",
       "      <td>-0.223796</td>\n",
       "      <td>-0.952087</td>\n",
       "      <td>-0.089635</td>\n",
       "      <td>1.095474</td>\n",
       "      <td>0</td>\n",
       "      <td>0</td>\n",
       "      <td>0</td>\n",
       "      <td>1</td>\n",
       "      <td>0</td>\n",
       "      <td>0</td>\n",
       "      <td>...</td>\n",
       "      <td>0</td>\n",
       "      <td>0</td>\n",
       "      <td>0</td>\n",
       "      <td>0</td>\n",
       "      <td>0</td>\n",
       "      <td>0</td>\n",
       "      <td>0</td>\n",
       "      <td>0</td>\n",
       "      <td>0</td>\n",
       "      <td>0</td>\n",
       "    </tr>\n",
       "    <tr>\n",
       "      <th>7178</th>\n",
       "      <td>0.753246</td>\n",
       "      <td>1.296535</td>\n",
       "      <td>0.604432</td>\n",
       "      <td>1.095474</td>\n",
       "      <td>0</td>\n",
       "      <td>0</td>\n",
       "      <td>0</td>\n",
       "      <td>0</td>\n",
       "      <td>0</td>\n",
       "      <td>0</td>\n",
       "      <td>...</td>\n",
       "      <td>0</td>\n",
       "      <td>0</td>\n",
       "      <td>0</td>\n",
       "      <td>0</td>\n",
       "      <td>0</td>\n",
       "      <td>0</td>\n",
       "      <td>0</td>\n",
       "      <td>0</td>\n",
       "      <td>0</td>\n",
       "      <td>0</td>\n",
       "    </tr>\n",
       "  </tbody>\n",
       "</table>\n",
       "<p>5 rows × 322 columns</p>\n",
       "</div>"
      ],
      "text/plain": [
       "        RegistrationYear     Power  Kilometer  RegistrationMonth  \\\n",
       "17419           1.078927  0.318874  -0.783703          -0.602947   \n",
       "94759           0.753246 -0.072191  -0.089635           0.812404   \n",
       "72049          -1.037997 -1.245385   0.604432          -0.602947   \n",
       "169908         -0.223796 -0.952087  -0.089635           1.095474   \n",
       "7178            0.753246  1.296535   0.604432           1.095474   \n",
       "\n",
       "        VType_convertible  VType_coupe  VType_other  VType_sedan  VType_small  \\\n",
       "17419                   0            0            0            0            0   \n",
       "94759                   0            0            0            0            0   \n",
       "72049                   0            0            0            0            1   \n",
       "169908                  0            0            0            1            0   \n",
       "7178                    0            0            0            0            0   \n",
       "\n",
       "        VType_suv  ...  Model_wrangler  Model_x_reihe  Model_x_trail  \\\n",
       "17419           0  ...               0              0              0   \n",
       "94759           0  ...               0              0              0   \n",
       "72049           0  ...               0              0              0   \n",
       "169908          0  ...               0              0              0   \n",
       "7178            0  ...               0              0              0   \n",
       "\n",
       "        Model_x_type  Model_xc_reihe  Model_yaris  Model_yeti  Model_ypsilon  \\\n",
       "17419              0               0            0           0              0   \n",
       "94759              0               0            0           0              0   \n",
       "72049              0               0            0           0              0   \n",
       "169908             0               0            0           0              0   \n",
       "7178               0               0            0           0              0   \n",
       "\n",
       "        Model_z_reihe  Model_zafira  \n",
       "17419               0             0  \n",
       "94759               0             0  \n",
       "72049               0             0  \n",
       "169908              0             0  \n",
       "7178                0             0  \n",
       "\n",
       "[5 rows x 322 columns]"
      ]
     },
     "execution_count": 30,
     "metadata": {},
     "output_type": "execute_result"
    }
   ],
   "source": [
    "numeric = ['RegistrationYear', 'Power', 'Kilometer', 'RegistrationMonth']\n",
    "scaler = StandardScaler()\n",
    "scaler.fit(features_train[numeric])\n",
    "features_train[numeric] = scaler.transform(features_train[numeric])\n",
    "features_test[numeric] = scaler.transform(features_test[numeric])\n",
    "features_train.sample(5)"
   ]
  },
  {
   "cell_type": "markdown",
   "metadata": {},
   "source": [
    "Let's create a constant model. It will always predict the average value of `Price`, let's calculate the RMSE for the model:"
   ]
  },
  {
   "cell_type": "code",
   "execution_count": 31,
   "metadata": {},
   "outputs": [
    {
     "name": "stdout",
     "output_type": "stream",
     "text": [
      "RMSE of the constant model on the test sample: 3403.98062\n"
     ]
    }
   ],
   "source": [
    "print('RMSE of the constant model on the test sample:',\n",
    "      (mean_squared_error(target_test, pd.Series(target_train.mean(), index=target_test.index)) ** 0.5).round(5))"
   ]
  },
  {
   "cell_type": "markdown",
   "metadata": {},
   "source": [
    "Train the **linear model**. Calculate the learning rate, prediction rate, and RMSE of the model. We will train the model using cross validation:"
   ]
  },
  {
   "cell_type": "code",
   "execution_count": 32,
   "metadata": {},
   "outputs": [
    {
     "name": "stdout",
     "output_type": "stream",
     "text": [
      "RMSE for the linear model on the crossvalidation sample: 2153.00546\n",
      "Wall time: 39.6 s\n"
     ]
    }
   ],
   "source": [
    "%%time\n",
    "lm = LinearRegression()\n",
    "rmse = cross_val_score(lm, features_train, target_train, cv=3, n_jobs=-1, scoring='neg_root_mean_squared_error')\n",
    "print('RMSE for the linear model on the crossvalidation sample:', round((-rmse.mean()), 5))"
   ]
  },
  {
   "cell_type": "code",
   "execution_count": 33,
   "metadata": {},
   "outputs": [
    {
     "name": "stdout",
     "output_type": "stream",
     "text": [
      "Wall time: 6.14 s\n"
     ]
    },
    {
     "data": {
      "text/plain": [
       "LinearRegression()"
      ]
     },
     "execution_count": 33,
     "metadata": {},
     "output_type": "execute_result"
    }
   ],
   "source": [
    "%%time\n",
    "lm.fit(features_train, target_train)"
   ]
  },
  {
   "cell_type": "code",
   "execution_count": 34,
   "metadata": {},
   "outputs": [
    {
     "name": "stdout",
     "output_type": "stream",
     "text": [
      "RMSE for the linear model on the training sample: 2147.39194\n",
      "Wall time: 396 ms\n"
     ]
    }
   ],
   "source": [
    "%%time\n",
    "preds_lm = lm.predict(features_train)\n",
    "mse_lm = mean_squared_error(target_train, preds_lm)\n",
    "print('RMSE for the linear model on the training sample:', round((mse_lm) ** 0.5, 5))"
   ]
  },
  {
   "cell_type": "markdown",
   "metadata": {},
   "source": [
    "The speed of operations is sufficiently high. \n",
    "\n",
    "Let's train linear models with regularization. **Lasso:**"
   ]
  },
  {
   "cell_type": "code",
   "execution_count": 35,
   "metadata": {},
   "outputs": [
    {
     "name": "stdout",
     "output_type": "stream",
     "text": [
      "RMSE for Lasso model on crossvalidation sampling: alpha=0.1 2154.09121\n",
      "Wall time: 27min 42s\n"
     ]
    }
   ],
   "source": [
    "%%time\n",
    "start = (-(cross_val_score(Lasso(alpha=0.1), features_train, target_train, cv=3, n_jobs=-1,\n",
    "                           scoring='neg_root_mean_squared_error').mean()))\n",
    "best_alpha = []\n",
    "best_rmse = 0\n",
    "alphas = np.arange(0.1, 1, 0.1)\n",
    "for alpha in alphas:\n",
    "    lasso = Lasso(alpha = alpha)\n",
    "    rmse = cross_val_score(lasso, features_train, target_train, cv=3, n_jobs=-1, scoring='neg_root_mean_squared_error')\n",
    "    rmse = (-rmse.mean())\n",
    "    if rmse <= start:\n",
    "        best_alpha = alpha\n",
    "        best_rmse = rmse\n",
    "print('RMSE for Lasso model on crossvalidation sampling: alpha={:.1f} {:.5f}'.format(best_alpha, best_rmse))"
   ]
  },
  {
   "cell_type": "code",
   "execution_count": 36,
   "metadata": {},
   "outputs": [
    {
     "name": "stdout",
     "output_type": "stream",
     "text": [
      "Wall time: 1min 54s\n"
     ]
    },
    {
     "data": {
      "text/plain": [
       "Lasso(alpha=0.1)"
      ]
     },
     "execution_count": 36,
     "metadata": {},
     "output_type": "execute_result"
    }
   ],
   "source": [
    "%%time\n",
    "lasso = Lasso(alpha=0.1)\n",
    "lasso.fit(features_train, target_train)"
   ]
  },
  {
   "cell_type": "code",
   "execution_count": 37,
   "metadata": {},
   "outputs": [
    {
     "name": "stdout",
     "output_type": "stream",
     "text": [
      "RMSE for the Lasso model on the training sample: 2149.35143\n",
      "Wall time: 433 ms\n"
     ]
    }
   ],
   "source": [
    "%%time\n",
    "preds_ls = lasso.predict(features_train)\n",
    "mse_ls = mean_squared_error(target_train, preds_ls)\n",
    "print('RMSE for the Lasso model on the training sample:', round((mse_ls) ** 0.5, 5))"
   ]
  },
  {
   "cell_type": "markdown",
   "metadata": {},
   "source": [
    "Lasso did not significantly improve the RMSE metric, the training and prediction rates are lower than those of the linear model without regularization."
   ]
  },
  {
   "cell_type": "markdown",
   "metadata": {},
   "source": [
    "**Ridge:**"
   ]
  },
  {
   "cell_type": "code",
   "execution_count": 38,
   "metadata": {},
   "outputs": [
    {
     "name": "stdout",
     "output_type": "stream",
     "text": [
      "RMSE for Ridge model on crossvalidation sampling: alpha=0.9 2152.91341\n",
      "Wall time: 55.6 s\n"
     ]
    }
   ],
   "source": [
    "%%time\n",
    "start = (-(cross_val_score(Ridge(alpha=0.1), features_train, target_train, cv=3, n_jobs=-1,\n",
    "                           scoring='neg_root_mean_squared_error').mean()))\n",
    "best_alpha = []\n",
    "best_rmse = 0\n",
    "alphas = np.arange(0.1, 1, 0.1)\n",
    "for alpha in alphas:\n",
    "    ridge = Ridge(alpha = alpha)\n",
    "    rmse = cross_val_score(ridge, features_train, target_train, cv=3, n_jobs=-1, scoring='neg_root_mean_squared_error')\n",
    "    rmse = (-rmse.mean())\n",
    "    if rmse <= start:\n",
    "        best_alpha = alpha\n",
    "        best_rmse = rmse\n",
    "print('RMSE for Ridge model on crossvalidation sampling: alpha={:.1f} {:.5f}'.format(best_alpha, best_rmse))"
   ]
  },
  {
   "cell_type": "code",
   "execution_count": 39,
   "metadata": {},
   "outputs": [
    {
     "name": "stdout",
     "output_type": "stream",
     "text": [
      "Wall time: 1.93 s\n"
     ]
    },
    {
     "data": {
      "text/plain": [
       "Ridge(alpha=0.9)"
      ]
     },
     "execution_count": 39,
     "metadata": {},
     "output_type": "execute_result"
    }
   ],
   "source": [
    "%%time\n",
    "ridge = Ridge(alpha=0.9)\n",
    "ridge.fit(features_train, target_train)"
   ]
  },
  {
   "cell_type": "code",
   "execution_count": 40,
   "metadata": {},
   "outputs": [
    {
     "name": "stdout",
     "output_type": "stream",
     "text": [
      "RMSE for the Ridge model on the training sample: 2147.46871\n",
      "Wall time: 401 ms\n"
     ]
    }
   ],
   "source": [
    "%%time\n",
    "preds_rg = ridge.predict(features_train)\n",
    "mse_rg = mean_squared_error(target_train, preds_rg)\n",
    "print('RMSE for the Ridge model on the training sample:', round((mse_rg) ** 0.5, 5))"
   ]
  },
  {
   "cell_type": "markdown",
   "metadata": {},
   "source": [
    "**Ridge has a slightly increased metric and a higher learning rate than the previous two models:**\n",
    "- Ridge fit time: 1.02 ms\n",
    "- Lasso fit time: 1 m\n",
    "- LinearRegression fit time: 4.42 s"
   ]
  },
  {
   "cell_type": "markdown",
   "metadata": {},
   "source": [
    "Let's train the model with gradient boosting **LightGBM**. We will select the parameters with the help of GridSearch library sklearn:"
   ]
  },
  {
   "cell_type": "code",
   "execution_count": 41,
   "metadata": {},
   "outputs": [],
   "source": [
    "numerical_features = ['DateCreated', 'RegistrationYear', 'Power', 'Kilometer', 'LastSeen']\n",
    "categorical_features = ['VehicleType', 'Gearbox', 'Model', 'FuelType', 'Repaired', 'Brand']\n",
    "categorical_features = [i for i in list(data_coded.columns) if i not in numerical_features]"
   ]
  },
  {
   "cell_type": "code",
   "execution_count": 42,
   "metadata": {},
   "outputs": [
    {
     "name": "stdout",
     "output_type": "stream",
     "text": [
      "Fitting 3 folds for each of 16 candidates, totalling 48 fits\n",
      "Wall time: 2min 9s\n"
     ]
    },
    {
     "data": {
      "text/plain": [
       "GridSearchCV(cv=3, estimator=LGBMRegressor(), n_jobs=-1,\n",
       "             param_grid={'learning_rate': [0.1, 0.3, 0.5, 0.7],\n",
       "                         'max_depth': [3, 5, 7, 9], 'random_state': [12345]},\n",
       "             scoring='neg_root_mean_squared_error', verbose=10)"
      ]
     },
     "execution_count": 42,
     "metadata": {},
     "output_type": "execute_result"
    }
   ],
   "source": [
    "%%time\n",
    "train_data = lightgbm.Dataset(features_train, label=target_train, \n",
    "                              free_raw_data=False,\n",
    "                              categorical_feature=categorical_features)\n",
    "test_data = lightgbm.Dataset(features_test, label=target_test)\n",
    "param_grid = {'learning_rate': [0.1, 0.3, 0.5, 0.7], \n",
    "              'max_depth': [3, 5, 7, 9], \n",
    "              'random_state': [12345]}\n",
    "lgbm = lightgbm.LGBMRegressor()\n",
    "grid_search = GridSearchCV(estimator = lgbm, \n",
    "                           param_grid = param_grid, \n",
    "                           cv = 3,\n",
    "                           n_jobs = -1, \n",
    "                           verbose = 10,\n",
    "                           scoring = 'neg_root_mean_squared_error')\n",
    "grid_search.fit(features_train, target_train)"
   ]
  },
  {
   "cell_type": "code",
   "execution_count": 43,
   "metadata": {},
   "outputs": [
    {
     "name": "stdout",
     "output_type": "stream",
     "text": [
      "Parameters of the best model: {'learning_rate': 0.5, 'max_depth': 9, 'random_state': 12345}\n",
      "RMSE for LightGBM model: 1394.9078098198854\n"
     ]
    }
   ],
   "source": [
    "print('Parameters of the best model:', grid_search.best_params_)\n",
    "print('RMSE for LightGBM model:', -(grid_search.best_score_))"
   ]
  },
  {
   "cell_type": "code",
   "execution_count": 44,
   "metadata": {},
   "outputs": [
    {
     "name": "stdout",
     "output_type": "stream",
     "text": [
      "Wall time: 2.95 s\n"
     ]
    },
    {
     "data": {
      "text/plain": [
       "LGBMRegressor(learning_rate=0.5, max_depth=9, random_state=12345)"
      ]
     },
     "execution_count": 44,
     "metadata": {},
     "output_type": "execute_result"
    }
   ],
   "source": [
    "%%time\n",
    "lgbm = lightgbm.LGBMRegressor(learning_rate = 0.5, max_depth = 9, random_state = 12345)\n",
    "lgbm.fit(features_train, target_train)"
   ]
  },
  {
   "cell_type": "code",
   "execution_count": 45,
   "metadata": {},
   "outputs": [
    {
     "name": "stdout",
     "output_type": "stream",
     "text": [
      "RMSE for the LightGBM model on the training sample: 1326.8299\n",
      "Wall time: 1.54 s\n"
     ]
    }
   ],
   "source": [
    "%%time\n",
    "preds_lgbm = lgbm.predict(features_train)\n",
    "mse_lgbm = mean_squared_error(target_train, preds_lgbm)\n",
    "print('RMSE for the LightGBM model on the training sample:', round((mse_lgbm) ** 0.5, 5))"
   ]
  },
  {
   "cell_type": "markdown",
   "metadata": {},
   "source": [
    "**Conclusion:**\n",
    "- we prepared samples for model training\n",
    "- coded categorical features by direct coding method\n",
    "- kept in variables `features` and `target` features and target feature\n",
    "- divided the sample into training, validation and test samples in the ratio of 60:20:20\n",
    "- trained linear regression models without regularization, Lasso and Ridge with regularization and the LightGBM gradient boosting model\n",
    "- we measured the training time, prediction time, and model prediction quality using the RMSE metric."
   ]
  },
  {
   "cell_type": "markdown",
   "metadata": {},
   "source": [
    "## Model analysis"
   ]
  },
  {
   "cell_type": "markdown",
   "metadata": {},
   "source": [
    "All of the trained models were able to improve the RMSE of the constant model. The linear model without regularization for this problem showed prediction quality close to that of Lasso and Ridge. The RMSE metric on the validation sample for **LightGBM** is half as good. **Prediction quality**:\n",
    "- **LightGBM rmse: 1394.38922**.\n",
    "- Ridge rmse: 2139.02252\n",
    "- LinearRegression rmse: 2139.16757\n",
    "- Lasso rmse: 2140.44898\n",
    "- Constant model rmse: 3403.90138\n",
    "\n",
    "In terms of learning time **Ridge** model is the fastest, LightGBM time is not significantly different. Lasso is inferior to the linear model without regularization. **Model learning time**:\n",
    "- **Ridge fit time: 1.02 ms**\n",
    "- LightGBM fit time: 2.42 ms\n",
    "- LinearRegression fit time: 4.42 s\n",
    "- Lasso fit time: 1.1 m\n",
    "\n",
    "As for the prediction times, the linear models predict approximately the same, the LightGBM predicts several times faster than the others **Lasso predictions time:**\n",
    "- **Lasso predictions time: 103 ms**\n",
    "- LinearRegression predictions time: 116 ms\n",
    "- Ridge predictions time: 139 ms\n",
    "- LightGBM predictions time: 1.1 s"
   ]
  },
  {
   "cell_type": "markdown",
   "metadata": {},
   "source": [
    "From the data it follows that the best model is LightGBM (RMSE 1394, fit time 2.42 ms, predictions time 1.1 s). Its quality is far ahead of the other models, and the speed is just as high. Let's check its quality on a test sample:"
   ]
  },
  {
   "cell_type": "code",
   "execution_count": 46,
   "metadata": {},
   "outputs": [
    {
     "name": "stdout",
     "output_type": "stream",
     "text": [
      "RMSE for the LightGBM model on the test sample: 1384.92901\n",
      "Wall time: 447 ms\n"
     ]
    }
   ],
   "source": [
    "%%time\n",
    "preds_lgbm_test = lgbm.predict(features_test)\n",
    "mse_lgbm_test = mean_squared_error(target_test, preds_lgbm_test)\n",
    "print('RMSE for the LightGBM model on the test sample:', round((mse_lgbm_test) ** 0.5, 5))"
   ]
  },
  {
   "cell_type": "markdown",
   "metadata": {},
   "source": [
    "**General conclusion:**\n",
    "- imported pandas, numpy and sklearn libraries for further work and examined the data\n",
    "- we detected and removed duplicates; we also replaced the values with the right ones and if they could not be recovered, removed the missing announcements\n",
    "- abnormal values in the features were detected and removed.\n",
    "- The technical parameters of the features `VehicleType`, `Gearbox`, `FuelType` most likely coincide in the same vehicle models, so we filled the gaps with the most common values for the same model\n",
    "- After the adjustments made at the preprocessing stage, we checked how the features correlate to each other and found that the price is most influenced by the power of the car and the year of registration, the correlation is direct: the higher these figures are, the higher the price. Also the mileage affects the price - here we see the inverse relationship: the higher the mileage, the lower the price of the car\n",
    "- we prepared the samples for training models\n",
    "- coded categorical features using the method of direct coding\n",
    "- stored the features and the target feature in the `features` and `target` variables\n",
    "- divided the sample into training and test samples in the ratio of 80:20\n",
    "- trained linear regression models without regularization, Lasso and Ridge with regularization and the LightGBM gradient boosting model\n",
    "- we have measured the training time, prediction time and model prediction quality using the RMSE metric\n",
    "- evaluated the quality, the training time, the model prediction time and determined the best model - LightGBM (RMSE 1394, fit time 2 ms, predictions time 1s)\n",
    "- tested its quality using RMSE metric on a test sample (1384)"
   ]
  }
 ],
 "metadata": {
  "ExecuteTimeLog": [
   {
    "duration": 438,
    "start_time": "2023-03-23T14:54:16.525Z"
   },
   {
    "duration": 1512,
    "start_time": "2023-03-23T14:54:42.766Z"
   },
   {
    "duration": 4,
    "start_time": "2023-03-23T14:56:04.615Z"
   },
   {
    "duration": 1078,
    "start_time": "2023-03-23T14:56:24.208Z"
   },
   {
    "duration": 1244,
    "start_time": "2023-03-23T15:02:46.343Z"
   },
   {
    "duration": 956,
    "start_time": "2023-03-23T15:03:13.757Z"
   },
   {
    "duration": 958,
    "start_time": "2023-03-23T15:03:17.584Z"
   },
   {
    "duration": 1005,
    "start_time": "2023-03-23T15:03:19.572Z"
   },
   {
    "duration": 931,
    "start_time": "2023-03-23T15:03:57.806Z"
   },
   {
    "duration": 526,
    "start_time": "2023-03-23T15:06:13.523Z"
   },
   {
    "duration": 658,
    "start_time": "2023-03-23T15:06:45.752Z"
   },
   {
    "duration": 89,
    "start_time": "2023-03-23T15:08:06.808Z"
   },
   {
    "duration": 8,
    "start_time": "2023-03-23T15:08:47.644Z"
   },
   {
    "duration": 47,
    "start_time": "2023-03-23T15:12:24.763Z"
   },
   {
    "duration": 2108,
    "start_time": "2023-03-23T15:12:52.513Z"
   },
   {
    "duration": 83,
    "start_time": "2023-03-23T15:13:10.368Z"
   },
   {
    "duration": 127,
    "start_time": "2023-03-23T15:13:52.516Z"
   },
   {
    "duration": 97,
    "start_time": "2023-03-23T15:14:54.184Z"
   },
   {
    "duration": 143,
    "start_time": "2023-03-23T15:15:18.423Z"
   },
   {
    "duration": 62,
    "start_time": "2023-03-23T15:29:28.868Z"
   },
   {
    "duration": 108,
    "start_time": "2023-03-23T15:29:35.938Z"
   },
   {
    "duration": 38,
    "start_time": "2023-03-23T15:33:36.971Z"
   },
   {
    "duration": 73,
    "start_time": "2023-03-23T15:33:38.262Z"
   },
   {
    "duration": 29,
    "start_time": "2023-03-23T15:33:51.003Z"
   },
   {
    "duration": 454,
    "start_time": "2023-03-23T15:33:54.925Z"
   },
   {
    "duration": 18,
    "start_time": "2023-03-23T15:33:55.482Z"
   },
   {
    "duration": 21,
    "start_time": "2023-03-23T15:34:16.870Z"
   },
   {
    "duration": 23,
    "start_time": "2023-03-23T15:34:22.007Z"
   },
   {
    "duration": 17,
    "start_time": "2023-03-23T15:34:27.623Z"
   },
   {
    "duration": 3,
    "start_time": "2023-03-23T15:34:36.742Z"
   },
   {
    "duration": 1152,
    "start_time": "2023-03-23T15:34:36.752Z"
   },
   {
    "duration": 1102,
    "start_time": "2023-03-23T15:34:37.906Z"
   },
   {
    "duration": 624,
    "start_time": "2023-03-23T15:34:39.015Z"
   },
   {
    "duration": 54,
    "start_time": "2023-03-23T15:34:39.641Z"
   },
   {
    "duration": 88,
    "start_time": "2023-03-23T15:34:39.697Z"
   },
   {
    "duration": 380,
    "start_time": "2023-03-23T19:53:22.265Z"
   },
   {
    "duration": 1229,
    "start_time": "2023-03-23T19:53:22.647Z"
   },
   {
    "duration": 836,
    "start_time": "2023-03-23T19:53:23.878Z"
   },
   {
    "duration": 537,
    "start_time": "2023-03-23T19:53:24.716Z"
   },
   {
    "duration": 47,
    "start_time": "2023-03-23T19:53:25.258Z"
   },
   {
    "duration": 537,
    "start_time": "2023-03-23T19:53:25.307Z"
   },
   {
    "duration": 51,
    "start_time": "2023-03-24T13:58:16.692Z"
   },
   {
    "duration": 436,
    "start_time": "2023-03-24T13:58:20.422Z"
   },
   {
    "duration": 2937,
    "start_time": "2023-03-24T13:58:20.860Z"
   },
   {
    "duration": 767,
    "start_time": "2023-03-24T13:58:23.799Z"
   },
   {
    "duration": 483,
    "start_time": "2023-03-24T13:58:24.568Z"
   },
   {
    "duration": 39,
    "start_time": "2023-03-24T13:58:25.052Z"
   },
   {
    "duration": 14,
    "start_time": "2023-03-24T13:58:25.093Z"
   },
   {
    "duration": 551,
    "start_time": "2023-03-24T13:58:25.108Z"
   },
   {
    "duration": 81,
    "start_time": "2023-03-24T13:59:08.900Z"
   },
   {
    "duration": 15,
    "start_time": "2023-03-24T13:59:25.351Z"
   },
   {
    "duration": 10,
    "start_time": "2023-03-24T13:59:35.892Z"
   },
   {
    "duration": 40,
    "start_time": "2023-03-24T14:00:38.422Z"
   },
   {
    "duration": 56,
    "start_time": "2023-03-24T14:00:47.651Z"
   },
   {
    "duration": 48,
    "start_time": "2023-03-24T14:01:23.388Z"
   },
   {
    "duration": 498,
    "start_time": "2023-03-24T14:01:51.953Z"
   },
   {
    "duration": 3,
    "start_time": "2023-03-24T14:01:54.985Z"
   },
   {
    "duration": 816,
    "start_time": "2023-03-24T14:01:54.990Z"
   },
   {
    "duration": 702,
    "start_time": "2023-03-24T14:01:55.808Z"
   },
   {
    "duration": 436,
    "start_time": "2023-03-24T14:01:56.512Z"
   },
   {
    "duration": 30,
    "start_time": "2023-03-24T14:01:56.951Z"
   },
   {
    "duration": 11,
    "start_time": "2023-03-24T14:01:56.983Z"
   },
   {
    "duration": 58,
    "start_time": "2023-03-24T14:01:56.995Z"
   },
   {
    "duration": 330,
    "start_time": "2023-03-24T14:01:57.055Z"
   },
   {
    "duration": 61,
    "start_time": "2023-03-24T14:01:57.387Z"
   },
   {
    "duration": 305,
    "start_time": "2023-03-24T14:02:03.078Z"
   },
   {
    "duration": 102,
    "start_time": "2023-03-24T14:02:47.936Z"
   },
   {
    "duration": 21,
    "start_time": "2023-03-24T14:03:32.840Z"
   },
   {
    "duration": 3,
    "start_time": "2023-03-24T14:03:45.250Z"
   },
   {
    "duration": 803,
    "start_time": "2023-03-24T14:03:45.255Z"
   },
   {
    "duration": 737,
    "start_time": "2023-03-24T14:03:46.060Z"
   },
   {
    "duration": 451,
    "start_time": "2023-03-24T14:03:46.799Z"
   },
   {
    "duration": 37,
    "start_time": "2023-03-24T14:03:47.252Z"
   },
   {
    "duration": 18,
    "start_time": "2023-03-24T14:03:47.291Z"
   },
   {
    "duration": 43,
    "start_time": "2023-03-24T14:03:47.311Z"
   },
   {
    "duration": 323,
    "start_time": "2023-03-24T14:03:47.356Z"
   },
   {
    "duration": 20,
    "start_time": "2023-03-24T14:03:47.681Z"
   },
   {
    "duration": 74,
    "start_time": "2023-03-24T14:03:47.702Z"
   },
   {
    "duration": 23,
    "start_time": "2023-03-24T14:04:25.612Z"
   },
   {
    "duration": 47,
    "start_time": "2023-03-24T14:05:47.683Z"
   },
   {
    "duration": 92,
    "start_time": "2023-03-24T14:07:09.712Z"
   },
   {
    "duration": 89,
    "start_time": "2023-03-24T14:07:14.403Z"
   },
   {
    "duration": 94,
    "start_time": "2023-03-24T14:07:22.812Z"
   },
   {
    "duration": 79,
    "start_time": "2023-03-24T14:09:03.210Z"
   },
   {
    "duration": 73,
    "start_time": "2023-03-24T14:09:16.133Z"
   },
   {
    "duration": 15,
    "start_time": "2023-03-24T14:09:21.084Z"
   },
   {
    "duration": 110,
    "start_time": "2023-03-24T14:11:06.617Z"
   },
   {
    "duration": 25,
    "start_time": "2023-03-24T14:14:05.240Z"
   },
   {
    "duration": 6807,
    "start_time": "2023-03-24T14:15:59.749Z"
   },
   {
    "duration": 15,
    "start_time": "2023-03-24T14:17:08.456Z"
   },
   {
    "duration": 9,
    "start_time": "2023-03-24T14:17:36.605Z"
   },
   {
    "duration": 6,
    "start_time": "2023-03-24T14:17:59.960Z"
   },
   {
    "duration": 5,
    "start_time": "2023-03-24T14:18:04.808Z"
   },
   {
    "duration": 48,
    "start_time": "2023-03-24T14:18:37.718Z"
   },
   {
    "duration": 7,
    "start_time": "2023-03-24T14:18:41.878Z"
   },
   {
    "duration": 9,
    "start_time": "2023-03-24T14:18:59.909Z"
   },
   {
    "duration": 10,
    "start_time": "2023-03-24T14:19:14.968Z"
   },
   {
    "duration": 11,
    "start_time": "2023-03-24T14:19:19.168Z"
   },
   {
    "duration": 29,
    "start_time": "2023-03-24T14:19:27.801Z"
   },
   {
    "duration": 128,
    "start_time": "2023-03-24T14:20:18.317Z"
   },
   {
    "duration": 27,
    "start_time": "2023-03-24T14:23:04.109Z"
   },
   {
    "duration": 32,
    "start_time": "2023-03-24T14:23:10.569Z"
   },
   {
    "duration": 78,
    "start_time": "2023-03-24T14:23:41.417Z"
   },
   {
    "duration": 10,
    "start_time": "2023-03-24T14:24:08.590Z"
   },
   {
    "duration": 25,
    "start_time": "2023-03-24T14:24:21.150Z"
   },
   {
    "duration": 25,
    "start_time": "2023-03-24T14:24:54.937Z"
   },
   {
    "duration": 25,
    "start_time": "2023-03-24T14:26:21.476Z"
   },
   {
    "duration": 28,
    "start_time": "2023-03-24T14:26:50.936Z"
   },
   {
    "duration": 15,
    "start_time": "2023-03-24T14:27:16.915Z"
   },
   {
    "duration": 4,
    "start_time": "2023-03-24T14:27:21.383Z"
   },
   {
    "duration": 80,
    "start_time": "2023-03-24T14:27:24.857Z"
   },
   {
    "duration": 22,
    "start_time": "2023-03-24T14:27:35.537Z"
   },
   {
    "duration": 25,
    "start_time": "2023-03-24T14:28:07.637Z"
   },
   {
    "duration": 9,
    "start_time": "2023-03-24T14:28:41.889Z"
   },
   {
    "duration": 30,
    "start_time": "2023-03-24T14:30:24.008Z"
   },
   {
    "duration": 50,
    "start_time": "2023-03-24T14:31:41.669Z"
   },
   {
    "duration": 5,
    "start_time": "2023-03-24T14:32:07.918Z"
   },
   {
    "duration": 6,
    "start_time": "2023-03-24T14:32:12.958Z"
   },
   {
    "duration": 11,
    "start_time": "2023-03-24T14:32:24.247Z"
   },
   {
    "duration": 11,
    "start_time": "2023-03-24T14:33:07.650Z"
   },
   {
    "duration": 93,
    "start_time": "2023-03-24T14:33:28.657Z"
   },
   {
    "duration": 78,
    "start_time": "2023-03-24T14:33:37.277Z"
   },
   {
    "duration": 8,
    "start_time": "2023-03-24T14:33:55.418Z"
   },
   {
    "duration": 7,
    "start_time": "2023-03-24T14:34:00.878Z"
   },
   {
    "duration": 4,
    "start_time": "2023-03-24T14:34:13.048Z"
   },
   {
    "duration": 730,
    "start_time": "2023-03-24T14:34:13.054Z"
   },
   {
    "duration": 719,
    "start_time": "2023-03-24T14:34:13.785Z"
   },
   {
    "duration": 477,
    "start_time": "2023-03-24T14:34:14.506Z"
   },
   {
    "duration": 45,
    "start_time": "2023-03-24T14:34:14.985Z"
   },
   {
    "duration": 21,
    "start_time": "2023-03-24T14:34:15.032Z"
   },
   {
    "duration": 35,
    "start_time": "2023-03-24T14:34:15.056Z"
   },
   {
    "duration": 326,
    "start_time": "2023-03-24T14:34:15.093Z"
   },
   {
    "duration": 21,
    "start_time": "2023-03-24T14:34:15.421Z"
   },
   {
    "duration": 43,
    "start_time": "2023-03-24T14:34:15.444Z"
   },
   {
    "duration": 43,
    "start_time": "2023-03-24T14:34:15.489Z"
   },
   {
    "duration": 73,
    "start_time": "2023-03-24T14:34:15.534Z"
   },
   {
    "duration": 33,
    "start_time": "2023-03-24T14:34:15.608Z"
   },
   {
    "duration": 7071,
    "start_time": "2023-03-24T14:34:15.643Z"
   },
   {
    "duration": 36,
    "start_time": "2023-03-24T14:34:22.715Z"
   },
   {
    "duration": 30,
    "start_time": "2023-03-24T14:34:22.756Z"
   },
   {
    "duration": 67,
    "start_time": "2023-03-24T14:34:22.788Z"
   },
   {
    "duration": 3184,
    "start_time": "2023-03-24T14:34:22.857Z"
   },
   {
    "duration": 66,
    "start_time": "2023-03-24T14:34:26.043Z"
   },
   {
    "duration": 93,
    "start_time": "2023-03-24T14:34:26.111Z"
   },
   {
    "duration": 96,
    "start_time": "2023-03-24T14:37:56.802Z"
   },
   {
    "duration": 8,
    "start_time": "2023-03-24T14:38:00.105Z"
   },
   {
    "duration": 3,
    "start_time": "2023-03-24T14:38:07.020Z"
   },
   {
    "duration": 749,
    "start_time": "2023-03-24T14:38:07.026Z"
   },
   {
    "duration": 700,
    "start_time": "2023-03-24T14:38:07.776Z"
   },
   {
    "duration": 447,
    "start_time": "2023-03-24T14:38:08.478Z"
   },
   {
    "duration": 38,
    "start_time": "2023-03-24T14:38:08.928Z"
   },
   {
    "duration": 14,
    "start_time": "2023-03-24T14:38:08.968Z"
   },
   {
    "duration": 49,
    "start_time": "2023-03-24T14:38:08.983Z"
   },
   {
    "duration": 309,
    "start_time": "2023-03-24T14:38:09.034Z"
   },
   {
    "duration": 22,
    "start_time": "2023-03-24T14:38:09.345Z"
   },
   {
    "duration": 60,
    "start_time": "2023-03-24T14:38:09.369Z"
   },
   {
    "duration": 15,
    "start_time": "2023-03-24T14:38:09.431Z"
   },
   {
    "duration": 87,
    "start_time": "2023-03-24T14:38:09.447Z"
   },
   {
    "duration": 29,
    "start_time": "2023-03-24T14:38:09.535Z"
   },
   {
    "duration": 6580,
    "start_time": "2023-03-24T14:38:09.567Z"
   },
   {
    "duration": 27,
    "start_time": "2023-03-24T14:38:16.149Z"
   },
   {
    "duration": 24,
    "start_time": "2023-03-24T14:38:16.177Z"
   },
   {
    "duration": 59,
    "start_time": "2023-03-24T14:38:16.203Z"
   },
   {
    "duration": 3120,
    "start_time": "2023-03-24T14:38:16.263Z"
   },
   {
    "duration": 67,
    "start_time": "2023-03-24T14:38:19.385Z"
   },
   {
    "duration": 124,
    "start_time": "2023-03-24T14:38:19.455Z"
   },
   {
    "duration": 10,
    "start_time": "2023-03-24T14:38:53.918Z"
   },
   {
    "duration": 12,
    "start_time": "2023-03-24T14:40:25.855Z"
   },
   {
    "duration": 12,
    "start_time": "2023-03-24T14:41:11.867Z"
   },
   {
    "duration": 16,
    "start_time": "2023-03-24T14:41:17.288Z"
   },
   {
    "duration": 12,
    "start_time": "2023-03-24T14:41:31.356Z"
   },
   {
    "duration": 10,
    "start_time": "2023-03-24T14:41:55.347Z"
   },
   {
    "duration": 6,
    "start_time": "2023-03-24T14:44:24.508Z"
   },
   {
    "duration": 3,
    "start_time": "2023-03-24T14:44:30.047Z"
   },
   {
    "duration": 876,
    "start_time": "2023-03-24T14:44:30.052Z"
   },
   {
    "duration": 717,
    "start_time": "2023-03-24T14:44:30.930Z"
   },
   {
    "duration": 436,
    "start_time": "2023-03-24T14:44:31.649Z"
   },
   {
    "duration": 43,
    "start_time": "2023-03-24T14:44:32.088Z"
   },
   {
    "duration": 36,
    "start_time": "2023-03-24T14:44:32.132Z"
   },
   {
    "duration": 32,
    "start_time": "2023-03-24T14:44:32.169Z"
   },
   {
    "duration": 301,
    "start_time": "2023-03-24T14:44:32.203Z"
   },
   {
    "duration": 25,
    "start_time": "2023-03-24T14:44:32.506Z"
   },
   {
    "duration": 44,
    "start_time": "2023-03-24T14:44:32.533Z"
   },
   {
    "duration": 14,
    "start_time": "2023-03-24T14:44:32.578Z"
   },
   {
    "duration": 92,
    "start_time": "2023-03-24T14:44:32.594Z"
   },
   {
    "duration": 25,
    "start_time": "2023-03-24T14:44:32.688Z"
   },
   {
    "duration": 6523,
    "start_time": "2023-03-24T14:44:32.725Z"
   },
   {
    "duration": 28,
    "start_time": "2023-03-24T14:44:39.249Z"
   },
   {
    "duration": 15,
    "start_time": "2023-03-24T14:44:39.279Z"
   },
   {
    "duration": 32,
    "start_time": "2023-03-24T14:44:39.295Z"
   },
   {
    "duration": 41,
    "start_time": "2023-03-24T14:44:39.329Z"
   },
   {
    "duration": 3250,
    "start_time": "2023-03-24T14:44:39.372Z"
   },
   {
    "duration": 65,
    "start_time": "2023-03-24T14:44:42.624Z"
   },
   {
    "duration": 93,
    "start_time": "2023-03-24T14:44:42.691Z"
   },
   {
    "duration": 14,
    "start_time": "2023-03-24T14:44:49.194Z"
   },
   {
    "duration": 8,
    "start_time": "2023-03-24T14:45:56.581Z"
   },
   {
    "duration": 13,
    "start_time": "2023-03-24T14:48:24.209Z"
   },
   {
    "duration": 12,
    "start_time": "2023-03-24T14:48:29.042Z"
   },
   {
    "duration": 4,
    "start_time": "2023-03-24T14:50:49.207Z"
   },
   {
    "duration": 7,
    "start_time": "2023-03-24T14:50:58.244Z"
   },
   {
    "duration": 11,
    "start_time": "2023-03-24T14:51:12.272Z"
   },
   {
    "duration": 7,
    "start_time": "2023-03-24T14:51:24.773Z"
   },
   {
    "duration": 7,
    "start_time": "2023-03-24T14:51:44.412Z"
   },
   {
    "duration": 3,
    "start_time": "2023-03-24T14:51:50.152Z"
   },
   {
    "duration": 791,
    "start_time": "2023-03-24T14:51:50.161Z"
   },
   {
    "duration": 835,
    "start_time": "2023-03-24T14:51:50.954Z"
   },
   {
    "duration": 489,
    "start_time": "2023-03-24T14:51:51.790Z"
   },
   {
    "duration": 44,
    "start_time": "2023-03-24T14:51:52.280Z"
   },
   {
    "duration": 20,
    "start_time": "2023-03-24T14:51:52.327Z"
   },
   {
    "duration": 41,
    "start_time": "2023-03-24T14:51:52.349Z"
   },
   {
    "duration": 325,
    "start_time": "2023-03-24T14:51:52.392Z"
   },
   {
    "duration": 25,
    "start_time": "2023-03-24T14:51:52.723Z"
   },
   {
    "duration": 44,
    "start_time": "2023-03-24T14:51:52.750Z"
   },
   {
    "duration": 30,
    "start_time": "2023-03-24T14:51:52.796Z"
   },
   {
    "duration": 75,
    "start_time": "2023-03-24T14:51:52.828Z"
   },
   {
    "duration": 38,
    "start_time": "2023-03-24T14:51:52.905Z"
   },
   {
    "duration": 6462,
    "start_time": "2023-03-24T14:51:52.945Z"
   },
   {
    "duration": 37,
    "start_time": "2023-03-24T14:51:59.409Z"
   },
   {
    "duration": 17,
    "start_time": "2023-03-24T14:51:59.448Z"
   },
   {
    "duration": 12,
    "start_time": "2023-03-24T14:51:59.467Z"
   },
   {
    "duration": 8,
    "start_time": "2023-03-24T14:51:59.480Z"
   },
   {
    "duration": 35,
    "start_time": "2023-03-24T14:51:59.489Z"
   },
   {
    "duration": 9,
    "start_time": "2023-03-24T14:51:59.526Z"
   },
   {
    "duration": 120,
    "start_time": "2023-03-24T14:51:59.536Z"
   },
   {
    "duration": 7,
    "start_time": "2023-03-24T14:52:18.501Z"
   },
   {
    "duration": 3,
    "start_time": "2023-03-24T14:52:25.292Z"
   },
   {
    "duration": 735,
    "start_time": "2023-03-24T14:52:25.309Z"
   },
   {
    "duration": 705,
    "start_time": "2023-03-24T14:52:26.046Z"
   },
   {
    "duration": 444,
    "start_time": "2023-03-24T14:52:26.754Z"
   },
   {
    "duration": 41,
    "start_time": "2023-03-24T14:52:27.200Z"
   },
   {
    "duration": 12,
    "start_time": "2023-03-24T14:52:27.243Z"
   },
   {
    "duration": 33,
    "start_time": "2023-03-24T14:52:27.257Z"
   },
   {
    "duration": 319,
    "start_time": "2023-03-24T14:52:27.292Z"
   },
   {
    "duration": 27,
    "start_time": "2023-03-24T14:52:27.613Z"
   },
   {
    "duration": 42,
    "start_time": "2023-03-24T14:52:27.642Z"
   },
   {
    "duration": 14,
    "start_time": "2023-03-24T14:52:27.686Z"
   },
   {
    "duration": 95,
    "start_time": "2023-03-24T14:52:27.701Z"
   },
   {
    "duration": 34,
    "start_time": "2023-03-24T14:52:27.798Z"
   },
   {
    "duration": 6492,
    "start_time": "2023-03-24T14:52:27.834Z"
   },
   {
    "duration": 30,
    "start_time": "2023-03-24T14:52:34.329Z"
   },
   {
    "duration": 25,
    "start_time": "2023-03-24T14:52:34.361Z"
   },
   {
    "duration": 33,
    "start_time": "2023-03-24T14:52:34.388Z"
   },
   {
    "duration": 52,
    "start_time": "2023-03-24T14:52:34.423Z"
   },
   {
    "duration": 5,
    "start_time": "2023-03-24T14:52:34.476Z"
   },
   {
    "duration": 24,
    "start_time": "2023-03-24T14:52:34.482Z"
   },
   {
    "duration": 21,
    "start_time": "2023-03-24T14:52:34.508Z"
   },
   {
    "duration": 6,
    "start_time": "2023-03-24T14:52:59.012Z"
   },
   {
    "duration": 3,
    "start_time": "2023-03-24T14:53:20.871Z"
   },
   {
    "duration": 748,
    "start_time": "2023-03-24T14:53:20.881Z"
   },
   {
    "duration": 706,
    "start_time": "2023-03-24T14:53:21.631Z"
   },
   {
    "duration": 437,
    "start_time": "2023-03-24T14:53:22.339Z"
   },
   {
    "duration": 36,
    "start_time": "2023-03-24T14:53:22.778Z"
   },
   {
    "duration": 15,
    "start_time": "2023-03-24T14:53:22.817Z"
   },
   {
    "duration": 32,
    "start_time": "2023-03-24T14:53:22.834Z"
   },
   {
    "duration": 320,
    "start_time": "2023-03-24T14:53:22.868Z"
   },
   {
    "duration": 23,
    "start_time": "2023-03-24T14:53:23.190Z"
   },
   {
    "duration": 42,
    "start_time": "2023-03-24T14:53:23.222Z"
   },
   {
    "duration": 14,
    "start_time": "2023-03-24T14:53:23.266Z"
   },
   {
    "duration": 93,
    "start_time": "2023-03-24T14:53:23.282Z"
   },
   {
    "duration": 26,
    "start_time": "2023-03-24T14:53:23.376Z"
   },
   {
    "duration": 6554,
    "start_time": "2023-03-24T14:53:23.404Z"
   },
   {
    "duration": 29,
    "start_time": "2023-03-24T14:53:29.961Z"
   },
   {
    "duration": 31,
    "start_time": "2023-03-24T14:53:29.994Z"
   },
   {
    "duration": 11,
    "start_time": "2023-03-24T14:53:30.027Z"
   },
   {
    "duration": 10,
    "start_time": "2023-03-24T14:53:30.040Z"
   },
   {
    "duration": 25,
    "start_time": "2023-03-24T14:53:30.052Z"
   },
   {
    "duration": 41,
    "start_time": "2023-03-24T14:53:30.080Z"
   },
   {
    "duration": 72,
    "start_time": "2023-03-24T14:53:30.123Z"
   },
   {
    "duration": 7,
    "start_time": "2023-03-24T14:54:20.721Z"
   },
   {
    "duration": 7,
    "start_time": "2023-03-24T14:54:37.212Z"
   },
   {
    "duration": 7,
    "start_time": "2023-03-24T14:55:02.360Z"
   },
   {
    "duration": 5,
    "start_time": "2023-03-24T14:55:24.392Z"
   },
   {
    "duration": 3,
    "start_time": "2023-03-24T14:55:28.092Z"
   },
   {
    "duration": 768,
    "start_time": "2023-03-24T14:55:28.108Z"
   },
   {
    "duration": 712,
    "start_time": "2023-03-24T14:55:28.878Z"
   },
   {
    "duration": 486,
    "start_time": "2023-03-24T14:55:29.592Z"
   },
   {
    "duration": 52,
    "start_time": "2023-03-24T14:55:30.080Z"
   },
   {
    "duration": 31,
    "start_time": "2023-03-24T14:55:30.135Z"
   },
   {
    "duration": 54,
    "start_time": "2023-03-24T14:55:30.168Z"
   },
   {
    "duration": 391,
    "start_time": "2023-03-24T14:55:30.224Z"
   },
   {
    "duration": 33,
    "start_time": "2023-03-24T14:55:30.617Z"
   },
   {
    "duration": 53,
    "start_time": "2023-03-24T14:55:30.652Z"
   },
   {
    "duration": 36,
    "start_time": "2023-03-24T14:55:30.707Z"
   },
   {
    "duration": 111,
    "start_time": "2023-03-24T14:55:30.745Z"
   },
   {
    "duration": 26,
    "start_time": "2023-03-24T14:55:30.857Z"
   },
   {
    "duration": 6844,
    "start_time": "2023-03-24T14:55:30.884Z"
   },
   {
    "duration": 29,
    "start_time": "2023-03-24T14:55:37.730Z"
   },
   {
    "duration": 21,
    "start_time": "2023-03-24T14:55:37.762Z"
   },
   {
    "duration": 5,
    "start_time": "2023-03-24T14:55:37.785Z"
   },
   {
    "duration": 34,
    "start_time": "2023-03-24T14:55:37.792Z"
   },
   {
    "duration": 5,
    "start_time": "2023-03-24T14:55:37.828Z"
   },
   {
    "duration": 15,
    "start_time": "2023-03-24T14:55:37.836Z"
   },
   {
    "duration": 24,
    "start_time": "2023-03-24T14:55:37.853Z"
   },
   {
    "duration": 71,
    "start_time": "2023-03-24T14:56:53.773Z"
   },
   {
    "duration": 4,
    "start_time": "2023-03-24T14:56:57.674Z"
   },
   {
    "duration": 94,
    "start_time": "2023-03-24T14:57:17.841Z"
   },
   {
    "duration": 5,
    "start_time": "2023-03-24T14:57:26.713Z"
   },
   {
    "duration": 5,
    "start_time": "2023-03-24T14:57:33.520Z"
   },
   {
    "duration": 9,
    "start_time": "2023-03-24T15:03:32.137Z"
   },
   {
    "duration": 9,
    "start_time": "2023-03-24T15:04:02.550Z"
   },
   {
    "duration": 4,
    "start_time": "2023-03-24T15:04:07.119Z"
   },
   {
    "duration": 807,
    "start_time": "2023-03-24T15:04:07.126Z"
   },
   {
    "duration": 842,
    "start_time": "2023-03-24T15:04:07.935Z"
   },
   {
    "duration": 465,
    "start_time": "2023-03-24T15:04:08.779Z"
   },
   {
    "duration": 44,
    "start_time": "2023-03-24T15:04:09.247Z"
   },
   {
    "duration": 33,
    "start_time": "2023-03-24T15:04:09.294Z"
   },
   {
    "duration": 49,
    "start_time": "2023-03-24T15:04:09.329Z"
   },
   {
    "duration": 347,
    "start_time": "2023-03-24T15:04:09.380Z"
   },
   {
    "duration": 25,
    "start_time": "2023-03-24T15:04:09.729Z"
   },
   {
    "duration": 81,
    "start_time": "2023-03-24T15:04:09.756Z"
   },
   {
    "duration": 18,
    "start_time": "2023-03-24T15:04:09.839Z"
   },
   {
    "duration": 97,
    "start_time": "2023-03-24T15:04:09.859Z"
   },
   {
    "duration": 47,
    "start_time": "2023-03-24T15:04:09.961Z"
   },
   {
    "duration": 6775,
    "start_time": "2023-03-24T15:04:10.011Z"
   },
   {
    "duration": 36,
    "start_time": "2023-03-24T15:04:16.788Z"
   },
   {
    "duration": 23,
    "start_time": "2023-03-24T15:04:16.826Z"
   },
   {
    "duration": 5,
    "start_time": "2023-03-24T15:04:16.851Z"
   },
   {
    "duration": 26,
    "start_time": "2023-03-24T15:04:16.858Z"
   },
   {
    "duration": 12,
    "start_time": "2023-03-24T15:04:16.886Z"
   },
   {
    "duration": 35,
    "start_time": "2023-03-24T15:04:16.901Z"
   },
   {
    "duration": 37,
    "start_time": "2023-03-24T15:04:16.940Z"
   },
   {
    "duration": 1162,
    "start_time": "2023-03-24T15:05:26.882Z"
   },
   {
    "duration": 5,
    "start_time": "2023-03-24T15:05:38.883Z"
   },
   {
    "duration": 6,
    "start_time": "2023-03-24T15:06:12.389Z"
   },
   {
    "duration": 11,
    "start_time": "2023-03-24T15:06:16.102Z"
   },
   {
    "duration": 5,
    "start_time": "2023-03-24T15:06:16.547Z"
   },
   {
    "duration": 4,
    "start_time": "2023-03-24T15:06:16.828Z"
   },
   {
    "duration": 3,
    "start_time": "2023-03-24T15:06:25.227Z"
   },
   {
    "duration": 771,
    "start_time": "2023-03-24T15:06:25.238Z"
   },
   {
    "duration": 748,
    "start_time": "2023-03-24T15:06:26.011Z"
   },
   {
    "duration": 456,
    "start_time": "2023-03-24T15:06:26.761Z"
   },
   {
    "duration": 38,
    "start_time": "2023-03-24T15:06:27.219Z"
   },
   {
    "duration": 14,
    "start_time": "2023-03-24T15:06:27.261Z"
   },
   {
    "duration": 69,
    "start_time": "2023-03-24T15:06:27.277Z"
   },
   {
    "duration": 399,
    "start_time": "2023-03-24T15:06:27.348Z"
   },
   {
    "duration": 34,
    "start_time": "2023-03-24T15:06:27.749Z"
   },
   {
    "duration": 87,
    "start_time": "2023-03-24T15:06:27.785Z"
   },
   {
    "duration": 21,
    "start_time": "2023-03-24T15:06:27.875Z"
   },
   {
    "duration": 135,
    "start_time": "2023-03-24T15:06:27.898Z"
   },
   {
    "duration": 40,
    "start_time": "2023-03-24T15:06:28.036Z"
   },
   {
    "duration": 7829,
    "start_time": "2023-03-24T15:06:28.079Z"
   },
   {
    "duration": 32,
    "start_time": "2023-03-24T15:06:35.911Z"
   },
   {
    "duration": 23,
    "start_time": "2023-03-24T15:06:35.945Z"
   },
   {
    "duration": 5,
    "start_time": "2023-03-24T15:06:35.971Z"
   },
   {
    "duration": 23,
    "start_time": "2023-03-24T15:06:35.979Z"
   },
   {
    "duration": 24,
    "start_time": "2023-03-24T15:06:36.005Z"
   },
   {
    "duration": 11,
    "start_time": "2023-03-24T15:06:36.032Z"
   },
   {
    "duration": 8,
    "start_time": "2023-03-24T15:06:36.045Z"
   },
   {
    "duration": 20,
    "start_time": "2023-03-24T15:06:36.055Z"
   },
   {
    "duration": 50,
    "start_time": "2023-03-24T15:06:36.078Z"
   },
   {
    "duration": 7,
    "start_time": "2023-03-24T15:06:48.128Z"
   },
   {
    "duration": 1489,
    "start_time": "2023-03-24T15:07:12.188Z"
   },
   {
    "duration": 1148,
    "start_time": "2023-03-24T15:07:13.680Z"
   },
   {
    "duration": 1237,
    "start_time": "2023-03-24T15:07:14.833Z"
   },
   {
    "duration": 599,
    "start_time": "2023-03-24T15:07:16.072Z"
   },
   {
    "duration": 56,
    "start_time": "2023-03-24T15:07:16.675Z"
   },
   {
    "duration": 20,
    "start_time": "2023-03-24T15:07:16.736Z"
   },
   {
    "duration": 65,
    "start_time": "2023-03-24T15:07:16.758Z"
   },
   {
    "duration": 367,
    "start_time": "2023-03-24T15:07:16.826Z"
   },
   {
    "duration": 42,
    "start_time": "2023-03-24T15:07:17.196Z"
   },
   {
    "duration": 65,
    "start_time": "2023-03-24T15:07:17.241Z"
   },
   {
    "duration": 34,
    "start_time": "2023-03-24T15:07:17.308Z"
   },
   {
    "duration": 130,
    "start_time": "2023-03-24T15:07:17.344Z"
   },
   {
    "duration": 47,
    "start_time": "2023-03-24T15:07:17.477Z"
   },
   {
    "duration": 8840,
    "start_time": "2023-03-24T15:07:17.526Z"
   },
   {
    "duration": 28,
    "start_time": "2023-03-24T15:07:26.368Z"
   },
   {
    "duration": 29,
    "start_time": "2023-03-24T15:07:26.397Z"
   },
   {
    "duration": 5,
    "start_time": "2023-03-24T15:07:26.428Z"
   },
   {
    "duration": 32,
    "start_time": "2023-03-24T15:07:26.435Z"
   },
   {
    "duration": 10,
    "start_time": "2023-03-24T15:07:26.469Z"
   },
   {
    "duration": 9,
    "start_time": "2023-03-24T15:07:26.480Z"
   },
   {
    "duration": 20,
    "start_time": "2023-03-24T15:07:26.491Z"
   },
   {
    "duration": 86,
    "start_time": "2023-03-24T15:07:26.513Z"
   },
   {
    "duration": 8,
    "start_time": "2023-03-24T15:07:42.877Z"
   },
   {
    "duration": 140,
    "start_time": "2023-03-24T15:07:48.727Z"
   },
   {
    "duration": 6,
    "start_time": "2023-03-24T15:08:11.697Z"
   },
   {
    "duration": 8,
    "start_time": "2023-03-24T15:08:40.854Z"
   },
   {
    "duration": 4,
    "start_time": "2023-03-24T15:08:49.425Z"
   },
   {
    "duration": 852,
    "start_time": "2023-03-24T15:08:49.435Z"
   },
   {
    "duration": 860,
    "start_time": "2023-03-24T15:08:50.290Z"
   },
   {
    "duration": 481,
    "start_time": "2023-03-24T15:08:51.152Z"
   },
   {
    "duration": 37,
    "start_time": "2023-03-24T15:08:51.635Z"
   },
   {
    "duration": 14,
    "start_time": "2023-03-24T15:08:51.675Z"
   },
   {
    "duration": 65,
    "start_time": "2023-03-24T15:08:51.691Z"
   },
   {
    "duration": 332,
    "start_time": "2023-03-24T15:08:51.757Z"
   },
   {
    "duration": 41,
    "start_time": "2023-03-24T15:08:52.091Z"
   },
   {
    "duration": 53,
    "start_time": "2023-03-24T15:08:52.134Z"
   },
   {
    "duration": 37,
    "start_time": "2023-03-24T15:08:52.188Z"
   },
   {
    "duration": 78,
    "start_time": "2023-03-24T15:08:52.227Z"
   },
   {
    "duration": 38,
    "start_time": "2023-03-24T15:08:52.307Z"
   },
   {
    "duration": 6349,
    "start_time": "2023-03-24T15:08:52.348Z"
   },
   {
    "duration": 41,
    "start_time": "2023-03-24T15:08:58.701Z"
   },
   {
    "duration": 16,
    "start_time": "2023-03-24T15:08:58.744Z"
   },
   {
    "duration": 5,
    "start_time": "2023-03-24T15:08:58.762Z"
   },
   {
    "duration": 10,
    "start_time": "2023-03-24T15:08:58.769Z"
   },
   {
    "duration": 9,
    "start_time": "2023-03-24T15:08:58.781Z"
   },
   {
    "duration": 10,
    "start_time": "2023-03-24T15:08:58.824Z"
   },
   {
    "duration": 7,
    "start_time": "2023-03-24T15:08:58.836Z"
   },
   {
    "duration": 6,
    "start_time": "2023-03-24T15:08:58.845Z"
   },
   {
    "duration": 29,
    "start_time": "2023-03-24T15:08:58.853Z"
   },
   {
    "duration": 6,
    "start_time": "2023-03-24T15:09:51.332Z"
   },
   {
    "duration": 13,
    "start_time": "2023-03-24T15:09:53.578Z"
   },
   {
    "duration": 13,
    "start_time": "2023-03-24T15:09:54.287Z"
   },
   {
    "duration": 5,
    "start_time": "2023-03-24T15:09:55.587Z"
   },
   {
    "duration": 3,
    "start_time": "2023-03-24T15:09:59.578Z"
   },
   {
    "duration": 853,
    "start_time": "2023-03-24T15:09:59.583Z"
   },
   {
    "duration": 865,
    "start_time": "2023-03-24T15:10:00.438Z"
   },
   {
    "duration": 502,
    "start_time": "2023-03-24T15:10:01.304Z"
   },
   {
    "duration": 47,
    "start_time": "2023-03-24T15:10:01.809Z"
   },
   {
    "duration": 13,
    "start_time": "2023-03-24T15:10:01.859Z"
   },
   {
    "duration": 73,
    "start_time": "2023-03-24T15:10:01.874Z"
   },
   {
    "duration": 328,
    "start_time": "2023-03-24T15:10:01.949Z"
   },
   {
    "duration": 24,
    "start_time": "2023-03-24T15:10:02.279Z"
   },
   {
    "duration": 57,
    "start_time": "2023-03-24T15:10:02.305Z"
   },
   {
    "duration": 16,
    "start_time": "2023-03-24T15:10:02.364Z"
   },
   {
    "duration": 101,
    "start_time": "2023-03-24T15:10:02.382Z"
   },
   {
    "duration": 26,
    "start_time": "2023-03-24T15:10:02.486Z"
   },
   {
    "duration": 6313,
    "start_time": "2023-03-24T15:10:02.526Z"
   },
   {
    "duration": 34,
    "start_time": "2023-03-24T15:10:08.841Z"
   },
   {
    "duration": 15,
    "start_time": "2023-03-24T15:10:08.877Z"
   },
   {
    "duration": 5,
    "start_time": "2023-03-24T15:10:08.895Z"
   },
   {
    "duration": 42,
    "start_time": "2023-03-24T15:10:08.902Z"
   },
   {
    "duration": 773,
    "start_time": "2023-03-24T15:10:08.947Z"
   },
   {
    "duration": 12,
    "start_time": "2023-03-24T15:10:09.724Z"
   },
   {
    "duration": 176,
    "start_time": "2023-03-24T15:10:09.739Z"
   },
   {
    "duration": 22,
    "start_time": "2023-03-24T15:10:09.917Z"
   },
   {
    "duration": 82,
    "start_time": "2023-03-24T15:10:09.941Z"
   },
   {
    "duration": 21,
    "start_time": "2023-03-24T15:10:38.127Z"
   },
   {
    "duration": 20,
    "start_time": "2023-03-24T15:10:52.688Z"
   },
   {
    "duration": 11,
    "start_time": "2023-03-24T15:11:35.086Z"
   },
   {
    "duration": 29,
    "start_time": "2023-03-24T15:11:40.227Z"
   },
   {
    "duration": 21,
    "start_time": "2023-03-24T15:11:51.887Z"
   },
   {
    "duration": 20,
    "start_time": "2023-03-24T15:12:21.080Z"
   },
   {
    "duration": 3,
    "start_time": "2023-03-24T15:12:25.727Z"
   },
   {
    "duration": 827,
    "start_time": "2023-03-24T15:12:25.737Z"
   },
   {
    "duration": 770,
    "start_time": "2023-03-24T15:12:26.567Z"
   },
   {
    "duration": 458,
    "start_time": "2023-03-24T15:12:27.338Z"
   },
   {
    "duration": 44,
    "start_time": "2023-03-24T15:12:27.798Z"
   },
   {
    "duration": 13,
    "start_time": "2023-03-24T15:12:27.844Z"
   },
   {
    "duration": 34,
    "start_time": "2023-03-24T15:12:27.859Z"
   },
   {
    "duration": 321,
    "start_time": "2023-03-24T15:12:27.895Z"
   },
   {
    "duration": 23,
    "start_time": "2023-03-24T15:12:28.218Z"
   },
   {
    "duration": 42,
    "start_time": "2023-03-24T15:12:28.243Z"
   },
   {
    "duration": 40,
    "start_time": "2023-03-24T15:12:28.287Z"
   },
   {
    "duration": 76,
    "start_time": "2023-03-24T15:12:28.329Z"
   },
   {
    "duration": 25,
    "start_time": "2023-03-24T15:12:28.424Z"
   },
   {
    "duration": 6514,
    "start_time": "2023-03-24T15:12:28.452Z"
   },
   {
    "duration": 28,
    "start_time": "2023-03-24T15:12:34.970Z"
   },
   {
    "duration": 29,
    "start_time": "2023-03-24T15:12:35.000Z"
   },
   {
    "duration": 6,
    "start_time": "2023-03-24T15:12:35.031Z"
   },
   {
    "duration": 30,
    "start_time": "2023-03-24T15:12:35.039Z"
   },
   {
    "duration": 820,
    "start_time": "2023-03-24T15:12:35.071Z"
   },
   {
    "duration": 20,
    "start_time": "2023-03-24T15:12:35.892Z"
   },
   {
    "duration": 20,
    "start_time": "2023-03-24T15:12:35.923Z"
   },
   {
    "duration": 94,
    "start_time": "2023-03-24T15:12:35.945Z"
   },
   {
    "duration": 133,
    "start_time": "2023-03-24T15:13:50.455Z"
   },
   {
    "duration": 22,
    "start_time": "2023-03-24T15:14:03.507Z"
   },
   {
    "duration": 25,
    "start_time": "2023-03-24T15:14:12.795Z"
   },
   {
    "duration": 1281,
    "start_time": "2023-03-24T15:14:48.855Z"
   },
   {
    "duration": 16,
    "start_time": "2023-03-24T15:16:10.995Z"
   },
   {
    "duration": 65,
    "start_time": "2023-03-24T15:18:27.587Z"
   },
   {
    "duration": 135,
    "start_time": "2023-03-24T15:18:46.796Z"
   },
   {
    "duration": 18,
    "start_time": "2023-03-24T15:19:55.296Z"
   },
   {
    "duration": 73,
    "start_time": "2023-03-24T15:19:56.606Z"
   },
   {
    "duration": 139,
    "start_time": "2023-03-24T15:20:22.196Z"
   },
   {
    "duration": 121,
    "start_time": "2023-03-24T15:20:43.654Z"
   },
   {
    "duration": 6,
    "start_time": "2023-03-24T15:32:18.836Z"
   },
   {
    "duration": 9,
    "start_time": "2023-03-24T15:32:31.849Z"
   },
   {
    "duration": 25,
    "start_time": "2023-03-24T15:32:36.788Z"
   },
   {
    "duration": 1607,
    "start_time": "2023-03-24T15:35:48.293Z"
   },
   {
    "duration": 991,
    "start_time": "2023-03-24T15:35:49.903Z"
   },
   {
    "duration": 800,
    "start_time": "2023-03-24T15:35:50.896Z"
   },
   {
    "duration": 535,
    "start_time": "2023-03-24T15:35:51.698Z"
   },
   {
    "duration": 42,
    "start_time": "2023-03-24T15:35:52.236Z"
   },
   {
    "duration": 17,
    "start_time": "2023-03-24T15:35:52.281Z"
   },
   {
    "duration": 63,
    "start_time": "2023-03-24T15:35:52.300Z"
   },
   {
    "duration": 318,
    "start_time": "2023-03-24T15:35:52.365Z"
   },
   {
    "duration": 22,
    "start_time": "2023-03-24T15:35:52.685Z"
   },
   {
    "duration": 64,
    "start_time": "2023-03-24T15:35:52.709Z"
   },
   {
    "duration": 16,
    "start_time": "2023-03-24T15:35:52.775Z"
   },
   {
    "duration": 98,
    "start_time": "2023-03-24T15:35:52.793Z"
   },
   {
    "duration": 23,
    "start_time": "2023-03-24T15:35:52.893Z"
   },
   {
    "duration": 6258,
    "start_time": "2023-03-24T15:35:52.924Z"
   },
   {
    "duration": 29,
    "start_time": "2023-03-24T15:35:59.183Z"
   },
   {
    "duration": 15,
    "start_time": "2023-03-24T15:35:59.223Z"
   },
   {
    "duration": 4,
    "start_time": "2023-03-24T15:35:59.240Z"
   },
   {
    "duration": 26,
    "start_time": "2023-03-24T15:35:59.246Z"
   },
   {
    "duration": 774,
    "start_time": "2023-03-24T15:35:59.274Z"
   },
   {
    "duration": 19,
    "start_time": "2023-03-24T15:36:00.050Z"
   },
   {
    "duration": 87,
    "start_time": "2023-03-24T15:36:00.071Z"
   },
   {
    "duration": 238,
    "start_time": "2023-03-24T15:36:00.160Z"
   },
   {
    "duration": 78,
    "start_time": "2023-03-24T15:37:38.196Z"
   },
   {
    "duration": 1543,
    "start_time": "2023-03-24T17:51:09.839Z"
   },
   {
    "duration": 842,
    "start_time": "2023-03-24T17:51:11.384Z"
   },
   {
    "duration": 791,
    "start_time": "2023-03-24T17:51:12.227Z"
   },
   {
    "duration": 493,
    "start_time": "2023-03-24T17:51:13.024Z"
   },
   {
    "duration": 42,
    "start_time": "2023-03-24T17:51:13.525Z"
   },
   {
    "duration": 14,
    "start_time": "2023-03-24T17:51:13.569Z"
   },
   {
    "duration": 66,
    "start_time": "2023-03-24T17:51:13.585Z"
   },
   {
    "duration": 311,
    "start_time": "2023-03-24T17:51:13.652Z"
   },
   {
    "duration": 22,
    "start_time": "2023-03-24T17:51:13.964Z"
   },
   {
    "duration": 73,
    "start_time": "2023-03-24T17:51:13.988Z"
   },
   {
    "duration": 13,
    "start_time": "2023-03-24T17:51:14.063Z"
   },
   {
    "duration": 94,
    "start_time": "2023-03-24T17:51:14.078Z"
   },
   {
    "duration": 24,
    "start_time": "2023-03-24T17:51:14.174Z"
   },
   {
    "duration": 6474,
    "start_time": "2023-03-24T17:51:14.200Z"
   },
   {
    "duration": 32,
    "start_time": "2023-03-24T17:51:20.675Z"
   },
   {
    "duration": 25,
    "start_time": "2023-03-24T17:51:20.709Z"
   },
   {
    "duration": 5,
    "start_time": "2023-03-24T17:51:20.737Z"
   },
   {
    "duration": 33,
    "start_time": "2023-03-24T17:51:20.743Z"
   },
   {
    "duration": 761,
    "start_time": "2023-03-24T17:51:20.778Z"
   },
   {
    "duration": 18,
    "start_time": "2023-03-24T17:51:21.541Z"
   },
   {
    "duration": 79,
    "start_time": "2023-03-24T17:51:21.562Z"
   },
   {
    "duration": 204,
    "start_time": "2023-03-24T17:51:21.643Z"
   },
   {
    "duration": 67,
    "start_time": "2023-03-24T18:10:07.116Z"
   },
   {
    "duration": 264,
    "start_time": "2023-03-24T18:10:17.516Z"
   },
   {
    "duration": 1452,
    "start_time": "2023-03-24T18:12:25.230Z"
   },
   {
    "duration": 1305,
    "start_time": "2023-03-24T18:12:44.642Z"
   },
   {
    "duration": 1231,
    "start_time": "2023-03-24T18:13:10.102Z"
   },
   {
    "duration": 1176,
    "start_time": "2023-03-24T18:13:48.510Z"
   },
   {
    "duration": 1130,
    "start_time": "2023-03-24T18:13:58.381Z"
   },
   {
    "duration": 1158,
    "start_time": "2023-03-24T18:14:06.108Z"
   },
   {
    "duration": 3,
    "start_time": "2023-03-24T18:14:20.142Z"
   },
   {
    "duration": 1158,
    "start_time": "2023-03-24T18:14:23.170Z"
   },
   {
    "duration": 4,
    "start_time": "2023-03-24T18:16:11.422Z"
   },
   {
    "duration": 773,
    "start_time": "2023-03-24T18:16:11.535Z"
   },
   {
    "duration": 682,
    "start_time": "2023-03-24T18:16:12.309Z"
   },
   {
    "duration": 417,
    "start_time": "2023-03-24T18:16:12.992Z"
   },
   {
    "duration": 34,
    "start_time": "2023-03-24T18:16:13.411Z"
   },
   {
    "duration": 10,
    "start_time": "2023-03-24T18:16:13.447Z"
   },
   {
    "duration": 37,
    "start_time": "2023-03-24T18:16:13.459Z"
   },
   {
    "duration": 323,
    "start_time": "2023-03-24T18:16:13.497Z"
   },
   {
    "duration": 22,
    "start_time": "2023-03-24T18:16:13.822Z"
   },
   {
    "duration": 40,
    "start_time": "2023-03-24T18:16:13.846Z"
   },
   {
    "duration": 37,
    "start_time": "2023-03-24T18:16:13.887Z"
   },
   {
    "duration": 72,
    "start_time": "2023-03-24T18:16:13.926Z"
   },
   {
    "duration": 36,
    "start_time": "2023-03-24T18:16:14.000Z"
   },
   {
    "duration": 6350,
    "start_time": "2023-03-24T18:16:14.038Z"
   },
   {
    "duration": 43,
    "start_time": "2023-03-24T18:16:20.391Z"
   },
   {
    "duration": 15,
    "start_time": "2023-03-24T18:16:20.436Z"
   },
   {
    "duration": 6,
    "start_time": "2023-03-24T18:16:20.453Z"
   },
   {
    "duration": 28,
    "start_time": "2023-03-24T18:16:20.461Z"
   },
   {
    "duration": 781,
    "start_time": "2023-03-24T18:16:20.492Z"
   },
   {
    "duration": 19,
    "start_time": "2023-03-24T18:16:21.275Z"
   },
   {
    "duration": 81,
    "start_time": "2023-03-24T18:16:21.296Z"
   },
   {
    "duration": 89,
    "start_time": "2023-03-24T18:16:21.379Z"
   },
   {
    "duration": 74,
    "start_time": "2023-03-24T18:16:21.470Z"
   },
   {
    "duration": 0,
    "start_time": "2023-03-24T18:16:21.546Z"
   },
   {
    "duration": 1,
    "start_time": "2023-03-24T18:16:21.547Z"
   },
   {
    "duration": 240,
    "start_time": "2023-03-24T18:16:34.730Z"
   },
   {
    "duration": 3,
    "start_time": "2023-03-24T18:16:36.502Z"
   },
   {
    "duration": 236,
    "start_time": "2023-03-24T18:16:36.810Z"
   },
   {
    "duration": 10,
    "start_time": "2023-03-24T18:17:38.350Z"
   },
   {
    "duration": 3,
    "start_time": "2023-03-24T18:17:47.831Z"
   },
   {
    "duration": 1290,
    "start_time": "2023-03-24T18:17:48.950Z"
   },
   {
    "duration": 215,
    "start_time": "2023-03-24T18:17:58.583Z"
   },
   {
    "duration": 3,
    "start_time": "2023-03-24T18:17:59.063Z"
   },
   {
    "duration": 112,
    "start_time": "2023-03-24T18:17:59.371Z"
   },
   {
    "duration": 11,
    "start_time": "2023-03-24T18:18:32.190Z"
   },
   {
    "duration": 3,
    "start_time": "2023-03-24T18:18:35.130Z"
   },
   {
    "duration": 1177,
    "start_time": "2023-03-24T18:18:35.223Z"
   },
   {
    "duration": 225,
    "start_time": "2023-03-24T18:18:40.010Z"
   },
   {
    "duration": 4,
    "start_time": "2023-03-24T18:18:40.586Z"
   },
   {
    "duration": 231,
    "start_time": "2023-03-24T18:18:41.045Z"
   },
   {
    "duration": 15,
    "start_time": "2023-03-24T18:22:35.250Z"
   },
   {
    "duration": 16,
    "start_time": "2023-03-24T18:23:11.321Z"
   },
   {
    "duration": 20,
    "start_time": "2023-03-24T18:23:24.790Z"
   },
   {
    "duration": 41,
    "start_time": "2023-03-24T18:24:10.723Z"
   },
   {
    "duration": 140,
    "start_time": "2023-03-24T18:26:24.830Z"
   },
   {
    "duration": 152,
    "start_time": "2023-03-24T18:27:29.630Z"
   },
   {
    "duration": 165,
    "start_time": "2023-03-24T18:28:16.562Z"
   },
   {
    "duration": 112,
    "start_time": "2023-03-24T18:29:21.236Z"
   },
   {
    "duration": 86,
    "start_time": "2023-03-24T18:30:01.000Z"
   },
   {
    "duration": 115,
    "start_time": "2023-03-24T18:30:10.711Z"
   },
   {
    "duration": 81,
    "start_time": "2023-03-24T18:30:29.580Z"
   },
   {
    "duration": 316,
    "start_time": "2023-03-24T18:32:14.876Z"
   },
   {
    "duration": 259,
    "start_time": "2023-03-24T18:32:24.942Z"
   },
   {
    "duration": 8,
    "start_time": "2023-03-24T18:36:04.913Z"
   },
   {
    "duration": 11,
    "start_time": "2023-03-24T18:36:15.910Z"
   },
   {
    "duration": 8,
    "start_time": "2023-03-24T18:36:35.842Z"
   },
   {
    "duration": 5891,
    "start_time": "2023-03-24T18:39:39.851Z"
   },
   {
    "duration": 5891,
    "start_time": "2023-03-24T18:40:36.032Z"
   },
   {
    "duration": 6649,
    "start_time": "2023-03-24T18:40:53.284Z"
   },
   {
    "duration": 8034,
    "start_time": "2023-03-24T18:41:58.702Z"
   },
   {
    "duration": 8366,
    "start_time": "2023-03-24T18:44:34.863Z"
   },
   {
    "duration": 6781,
    "start_time": "2023-03-24T18:45:08.945Z"
   },
   {
    "duration": 8433,
    "start_time": "2023-03-24T18:45:32.223Z"
   },
   {
    "duration": 7625,
    "start_time": "2023-03-24T18:46:38.201Z"
   },
   {
    "duration": 92,
    "start_time": "2023-03-24T18:53:27.841Z"
   },
   {
    "duration": 212537,
    "start_time": "2023-03-24T19:01:29.987Z"
   },
   {
    "duration": 4596,
    "start_time": "2023-03-24T19:06:33.442Z"
   },
   {
    "duration": 6235,
    "start_time": "2023-03-24T19:07:26.297Z"
   },
   {
    "duration": 15193,
    "start_time": "2023-03-24T19:14:05.048Z"
   },
   {
    "duration": 15004,
    "start_time": "2023-03-24T19:16:21.135Z"
   },
   {
    "duration": 127,
    "start_time": "2023-03-24T19:18:50.913Z"
   },
   {
    "duration": 127,
    "start_time": "2023-03-24T19:19:19.604Z"
   },
   {
    "duration": 148,
    "start_time": "2023-03-24T19:19:28.079Z"
   },
   {
    "duration": 176,
    "start_time": "2023-03-24T19:19:34.351Z"
   },
   {
    "duration": 193,
    "start_time": "2023-03-24T19:19:40.631Z"
   },
   {
    "duration": 57,
    "start_time": "2023-03-24T19:19:47.734Z"
   },
   {
    "duration": 47,
    "start_time": "2023-03-24T19:19:53.199Z"
   },
   {
    "duration": 249,
    "start_time": "2023-03-24T19:20:00.774Z"
   },
   {
    "duration": 116,
    "start_time": "2023-03-24T19:20:09.417Z"
   },
   {
    "duration": 1604,
    "start_time": "2023-03-24T19:21:46.732Z"
   },
   {
    "duration": 5968,
    "start_time": "2023-03-24T19:23:15.461Z"
   },
   {
    "duration": 1393,
    "start_time": "2023-03-24T19:23:21.434Z"
   },
   {
    "duration": 3,
    "start_time": "2023-03-24T19:28:24.991Z"
   },
   {
    "duration": 1559,
    "start_time": "2023-03-24T19:37:10.756Z"
   },
   {
    "duration": 911,
    "start_time": "2023-03-24T19:37:12.318Z"
   },
   {
    "duration": 866,
    "start_time": "2023-03-24T19:37:13.231Z"
   },
   {
    "duration": 561,
    "start_time": "2023-03-24T19:37:14.100Z"
   },
   {
    "duration": 42,
    "start_time": "2023-03-24T19:37:14.663Z"
   },
   {
    "duration": 27,
    "start_time": "2023-03-24T19:37:14.708Z"
   },
   {
    "duration": 50,
    "start_time": "2023-03-24T19:37:14.739Z"
   },
   {
    "duration": 343,
    "start_time": "2023-03-24T19:37:14.791Z"
   },
   {
    "duration": 25,
    "start_time": "2023-03-24T19:37:15.136Z"
   },
   {
    "duration": 100,
    "start_time": "2023-03-24T19:37:15.165Z"
   },
   {
    "duration": 20,
    "start_time": "2023-03-24T19:37:15.268Z"
   },
   {
    "duration": 105,
    "start_time": "2023-03-24T19:37:15.290Z"
   },
   {
    "duration": 27,
    "start_time": "2023-03-24T19:37:15.397Z"
   },
   {
    "duration": 6791,
    "start_time": "2023-03-24T19:37:15.426Z"
   },
   {
    "duration": 35,
    "start_time": "2023-03-24T19:37:22.219Z"
   },
   {
    "duration": 15,
    "start_time": "2023-03-24T19:37:22.256Z"
   },
   {
    "duration": 4,
    "start_time": "2023-03-24T19:37:22.273Z"
   },
   {
    "duration": 52,
    "start_time": "2023-03-24T19:37:22.278Z"
   },
   {
    "duration": 839,
    "start_time": "2023-03-24T19:37:22.331Z"
   },
   {
    "duration": 19,
    "start_time": "2023-03-24T19:37:23.172Z"
   },
   {
    "duration": 94,
    "start_time": "2023-03-24T19:37:23.193Z"
   },
   {
    "duration": 212,
    "start_time": "2023-03-24T19:37:23.289Z"
   },
   {
    "duration": 250,
    "start_time": "2023-03-24T19:37:23.503Z"
   },
   {
    "duration": 3,
    "start_time": "2023-03-24T19:37:23.755Z"
   },
   {
    "duration": 256,
    "start_time": "2023-03-24T19:37:23.760Z"
   },
   {
    "duration": 95,
    "start_time": "2023-03-24T19:37:24.024Z"
   },
   {
    "duration": 326,
    "start_time": "2023-03-24T19:37:24.123Z"
   },
   {
    "duration": 7,
    "start_time": "2023-03-24T19:37:24.452Z"
   },
   {
    "duration": 6585,
    "start_time": "2023-03-24T19:37:24.460Z"
   },
   {
    "duration": 1693,
    "start_time": "2023-03-24T19:37:31.047Z"
   },
   {
    "duration": 341216,
    "start_time": "2023-03-24T19:37:32.824Z"
   },
   {
    "duration": 7310,
    "start_time": "2023-03-24T19:43:14.046Z"
   },
   {
    "duration": 15279,
    "start_time": "2023-03-24T19:43:21.358Z"
   },
   {
    "duration": 297,
    "start_time": "2023-03-24T19:43:36.641Z"
   },
   {
    "duration": 7,
    "start_time": "2023-03-24T19:43:36.942Z"
   },
   {
    "duration": 1517,
    "start_time": "2023-03-24T20:00:38.540Z"
   },
   {
    "duration": 956,
    "start_time": "2023-03-24T20:00:40.060Z"
   },
   {
    "duration": 821,
    "start_time": "2023-03-24T20:00:41.018Z"
   },
   {
    "duration": 503,
    "start_time": "2023-03-24T20:00:41.841Z"
   },
   {
    "duration": 50,
    "start_time": "2023-03-24T20:00:42.347Z"
   },
   {
    "duration": 14,
    "start_time": "2023-03-24T20:00:42.398Z"
   },
   {
    "duration": 48,
    "start_time": "2023-03-24T20:00:42.422Z"
   },
   {
    "duration": 360,
    "start_time": "2023-03-24T20:00:42.472Z"
   },
   {
    "duration": 23,
    "start_time": "2023-03-24T20:00:42.839Z"
   },
   {
    "duration": 54,
    "start_time": "2023-03-24T20:00:42.864Z"
   },
   {
    "duration": 23,
    "start_time": "2023-03-24T20:00:42.920Z"
   },
   {
    "duration": 93,
    "start_time": "2023-03-24T20:00:42.945Z"
   },
   {
    "duration": 41,
    "start_time": "2023-03-24T20:00:43.040Z"
   },
   {
    "duration": 6423,
    "start_time": "2023-03-24T20:00:43.084Z"
   },
   {
    "duration": 36,
    "start_time": "2023-03-24T20:00:49.508Z"
   },
   {
    "duration": 16,
    "start_time": "2023-03-24T20:00:49.545Z"
   },
   {
    "duration": 5,
    "start_time": "2023-03-24T20:00:49.562Z"
   },
   {
    "duration": 26,
    "start_time": "2023-03-24T20:00:49.568Z"
   },
   {
    "duration": 842,
    "start_time": "2023-03-24T20:00:49.595Z"
   },
   {
    "duration": 21,
    "start_time": "2023-03-24T20:00:50.443Z"
   },
   {
    "duration": 103,
    "start_time": "2023-03-24T20:00:50.467Z"
   },
   {
    "duration": 242,
    "start_time": "2023-03-24T20:00:50.573Z"
   },
   {
    "duration": 242,
    "start_time": "2023-03-24T20:00:50.817Z"
   },
   {
    "duration": 3,
    "start_time": "2023-03-24T20:00:51.061Z"
   },
   {
    "duration": 279,
    "start_time": "2023-03-24T20:00:51.065Z"
   },
   {
    "duration": 96,
    "start_time": "2023-03-24T20:00:51.345Z"
   },
   {
    "duration": 319,
    "start_time": "2023-03-24T20:00:51.443Z"
   },
   {
    "duration": 8,
    "start_time": "2023-03-24T20:00:51.764Z"
   },
   {
    "duration": 6656,
    "start_time": "2023-03-24T20:00:51.774Z"
   },
   {
    "duration": 1515,
    "start_time": "2023-03-24T20:00:58.435Z"
   },
   {
    "duration": 218320,
    "start_time": "2023-03-24T20:01:00.027Z"
   },
   {
    "duration": 4999,
    "start_time": "2023-03-24T20:04:38.433Z"
   },
   {
    "duration": 14896,
    "start_time": "2023-03-24T20:04:43.438Z"
   },
   {
    "duration": 305,
    "start_time": "2023-03-24T20:04:58.335Z"
   },
   {
    "duration": 76,
    "start_time": "2023-03-24T20:04:58.646Z"
   },
   {
    "duration": 4126,
    "start_time": "2023-03-25T22:14:18.324Z"
   },
   {
    "duration": 2011,
    "start_time": "2023-03-25T22:14:22.453Z"
   },
   {
    "duration": 1696,
    "start_time": "2023-03-25T22:14:24.466Z"
   },
   {
    "duration": 1017,
    "start_time": "2023-03-25T22:14:26.219Z"
   },
   {
    "duration": 99,
    "start_time": "2023-03-25T22:14:27.238Z"
   },
   {
    "duration": 25,
    "start_time": "2023-03-25T22:14:27.338Z"
   },
   {
    "duration": 95,
    "start_time": "2023-03-25T22:14:27.365Z"
   },
   {
    "duration": 659,
    "start_time": "2023-03-25T22:14:27.462Z"
   },
   {
    "duration": 25,
    "start_time": "2023-03-25T22:14:28.124Z"
   },
   {
    "duration": 183,
    "start_time": "2023-03-25T22:14:28.153Z"
   },
   {
    "duration": 15,
    "start_time": "2023-03-25T22:14:28.338Z"
   },
   {
    "duration": 189,
    "start_time": "2023-03-25T22:14:28.355Z"
   },
   {
    "duration": 77,
    "start_time": "2023-03-25T22:14:28.546Z"
   },
   {
    "duration": 12126,
    "start_time": "2023-03-25T22:14:28.625Z"
   },
   {
    "duration": 87,
    "start_time": "2023-03-25T22:14:40.752Z"
   },
   {
    "duration": 14,
    "start_time": "2023-03-25T22:14:40.841Z"
   },
   {
    "duration": 61,
    "start_time": "2023-03-25T22:14:40.857Z"
   },
   {
    "duration": 98,
    "start_time": "2023-03-25T22:14:40.920Z"
   },
   {
    "duration": 1703,
    "start_time": "2023-03-25T22:14:41.020Z"
   },
   {
    "duration": 22,
    "start_time": "2023-03-25T22:14:42.725Z"
   },
   {
    "duration": 207,
    "start_time": "2023-03-25T22:14:42.749Z"
   },
   {
    "duration": 401,
    "start_time": "2023-03-25T22:14:42.958Z"
   },
   {
    "duration": 572,
    "start_time": "2023-03-25T22:14:43.361Z"
   },
   {
    "duration": 1868,
    "start_time": "2023-03-25T22:17:18.681Z"
   },
   {
    "duration": 872,
    "start_time": "2023-03-25T22:17:20.551Z"
   },
   {
    "duration": 860,
    "start_time": "2023-03-25T22:17:21.425Z"
   },
   {
    "duration": 555,
    "start_time": "2023-03-25T22:17:22.287Z"
   },
   {
    "duration": 47,
    "start_time": "2023-03-25T22:17:22.844Z"
   },
   {
    "duration": 29,
    "start_time": "2023-03-25T22:17:22.892Z"
   },
   {
    "duration": 44,
    "start_time": "2023-03-25T22:17:22.923Z"
   },
   {
    "duration": 332,
    "start_time": "2023-03-25T22:17:22.968Z"
   },
   {
    "duration": 33,
    "start_time": "2023-03-25T22:17:23.302Z"
   },
   {
    "duration": 52,
    "start_time": "2023-03-25T22:17:23.338Z"
   },
   {
    "duration": 35,
    "start_time": "2023-03-25T22:17:23.392Z"
   },
   {
    "duration": 88,
    "start_time": "2023-03-25T22:17:23.429Z"
   },
   {
    "duration": 26,
    "start_time": "2023-03-25T22:17:23.519Z"
   },
   {
    "duration": 6072,
    "start_time": "2023-03-25T22:17:23.547Z"
   },
   {
    "duration": 28,
    "start_time": "2023-03-25T22:17:29.621Z"
   },
   {
    "duration": 16,
    "start_time": "2023-03-25T22:17:29.651Z"
   },
   {
    "duration": 5,
    "start_time": "2023-03-25T22:17:29.669Z"
   },
   {
    "duration": 65,
    "start_time": "2023-03-25T22:17:29.676Z"
   },
   {
    "duration": 744,
    "start_time": "2023-03-25T22:17:29.743Z"
   },
   {
    "duration": 33,
    "start_time": "2023-03-25T22:17:30.489Z"
   },
   {
    "duration": 106,
    "start_time": "2023-03-25T22:17:30.524Z"
   },
   {
    "duration": 203,
    "start_time": "2023-03-25T22:17:30.632Z"
   },
   {
    "duration": 203,
    "start_time": "2023-03-25T22:17:30.959Z"
   },
   {
    "duration": 22,
    "start_time": "2023-03-25T22:17:34.093Z"
   },
   {
    "duration": 36,
    "start_time": "2023-03-25T22:17:46.199Z"
   },
   {
    "duration": 40,
    "start_time": "2023-03-25T22:17:56.993Z"
   },
   {
    "duration": 22,
    "start_time": "2023-03-25T22:18:05.706Z"
   },
   {
    "duration": 10,
    "start_time": "2023-03-25T22:18:14.931Z"
   },
   {
    "duration": 4,
    "start_time": "2023-03-25T22:19:01.126Z"
   },
   {
    "duration": 4,
    "start_time": "2023-03-25T22:19:11.972Z"
   }
  ],
  "kernelspec": {
   "display_name": "Python 3 (ipykernel)",
   "language": "python",
   "name": "python3"
  },
  "language_info": {
   "codemirror_mode": {
    "name": "ipython",
    "version": 3
   },
   "file_extension": ".py",
   "mimetype": "text/x-python",
   "name": "python",
   "nbconvert_exporter": "python",
   "pygments_lexer": "ipython3",
   "version": "3.9.13"
  },
  "toc": {
   "base_numbering": 1,
   "nav_menu": {},
   "number_sections": true,
   "sideBar": true,
   "skip_h1_title": true,
   "title_cell": "Table of Contents",
   "title_sidebar": "Contents",
   "toc_cell": false,
   "toc_position": {},
   "toc_section_display": true,
   "toc_window_display": true
  }
 },
 "nbformat": 4,
 "nbformat_minor": 2
}
